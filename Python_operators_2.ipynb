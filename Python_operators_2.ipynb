{
 "cells": [
  {
   "cell_type": "markdown",
   "id": "6aa9053b-2c4a-4281-86ba-c2b1c914eb3f",
   "metadata": {},
   "source": [
    "## COMPARISION OPERATION"
   ]
  },
  {
   "cell_type": "code",
   "execution_count": 4,
   "id": "bffb09ef-4fe7-4ce6-90de-ff8a4f80ae1d",
   "metadata": {},
   "outputs": [
    {
     "data": {
      "text/plain": [
       "True"
      ]
     },
     "execution_count": 4,
     "metadata": {},
     "output_type": "execute_result"
    }
   ],
   "source": [
    "2==2"
   ]
  },
  {
   "cell_type": "code",
   "execution_count": 6,
   "id": "614dac63-bb27-42ac-b05a-d61a4de24951",
   "metadata": {},
   "outputs": [
    {
     "data": {
      "text/plain": [
       "False"
      ]
     },
     "execution_count": 6,
     "metadata": {},
     "output_type": "execute_result"
    }
   ],
   "source": [
    "2==1"
   ]
  },
  {
   "cell_type": "code",
   "execution_count": 8,
   "id": "25e376f3-ede6-403f-b09a-9d9bb80ea089",
   "metadata": {},
   "outputs": [
    {
     "data": {
      "text/plain": [
       "False"
      ]
     },
     "execution_count": 8,
     "metadata": {},
     "output_type": "execute_result"
    }
   ],
   "source": [
    "'HELLO'=='BYE'"
   ]
  },
  {
   "cell_type": "code",
   "execution_count": 10,
   "id": "703eb38b-2144-4f89-bc02-4e78f0c15852",
   "metadata": {},
   "outputs": [
    {
     "data": {
      "text/plain": [
       "True"
      ]
     },
     "execution_count": 10,
     "metadata": {},
     "output_type": "execute_result"
    }
   ],
   "source": [
    "4 != 5"
   ]
  },
  {
   "cell_type": "code",
   "execution_count": 12,
   "id": "2fe997b0-9027-4957-9fc0-5b005fe7c462",
   "metadata": {},
   "outputs": [
    {
     "data": {
      "text/plain": [
       "True"
      ]
     },
     "execution_count": 12,
     "metadata": {},
     "output_type": "execute_result"
    }
   ],
   "source": [
    "2>1"
   ]
  },
  {
   "cell_type": "code",
   "execution_count": 14,
   "id": "217c0d78-79f5-4683-8a72-49d210ce3ebe",
   "metadata": {},
   "outputs": [
    {
     "data": {
      "text/plain": [
       "True"
      ]
     },
     "execution_count": 14,
     "metadata": {},
     "output_type": "execute_result"
    }
   ],
   "source": [
    "1<2"
   ]
  },
  {
   "cell_type": "code",
   "execution_count": 16,
   "id": "dda572b6-7776-45c5-b170-d0e0cb9f0f25",
   "metadata": {},
   "outputs": [
    {
     "data": {
      "text/plain": [
       "True"
      ]
     },
     "execution_count": 16,
     "metadata": {},
     "output_type": "execute_result"
    }
   ],
   "source": [
    "2 >= 2"
   ]
  },
  {
   "cell_type": "code",
   "execution_count": 18,
   "id": "c9ce4cd0-773e-4217-a5bb-1a897323bc6a",
   "metadata": {},
   "outputs": [
    {
     "data": {
      "text/plain": [
       "False"
      ]
     },
     "execution_count": 18,
     "metadata": {},
     "output_type": "execute_result"
    }
   ],
   "source": [
    "4 <= 1"
   ]
  },
  {
   "cell_type": "markdown",
   "id": "56f97b7f-3a0f-44e1-84ea-ea8f56b96500",
   "metadata": {},
   "source": [
    "## Chaining Comparision Operator "
   ]
  },
  {
   "cell_type": "markdown",
   "id": "2fe40b38-f0fa-4571-9122-8ebafa59dce0",
   "metadata": {},
   "source": [
    "###AND "
   ]
  },
  {
   "cell_type": "markdown",
   "id": "d02edf90-7c76-4203-946a-5fdc16a12e69",
   "metadata": {},
   "source": [
    "###OR"
   ]
  },
  {
   "cell_type": "markdown",
   "id": "2c41e39a-ce87-43d2-91a1-3b3566262a76",
   "metadata": {},
   "source": [
    "###NOT"
   ]
  },
  {
   "cell_type": "code",
   "execution_count": 10,
   "id": "32339c3a-0657-4067-8382-e80474d173ca",
   "metadata": {},
   "outputs": [
    {
     "data": {
      "text/plain": [
       "True"
      ]
     },
     "execution_count": 10,
     "metadata": {},
     "output_type": "execute_result"
    }
   ],
   "source": [
    "1<2<3"
   ]
  },
  {
   "cell_type": "code",
   "execution_count": 12,
   "id": "d6089a9b-b195-48ba-b2c5-ef6ca532cd62",
   "metadata": {},
   "outputs": [
    {
     "data": {
      "text/plain": [
       "False"
      ]
     },
     "execution_count": 12,
     "metadata": {},
     "output_type": "execute_result"
    }
   ],
   "source": [
    "1<2 and 2>3"
   ]
  },
  {
   "cell_type": "code",
   "execution_count": 18,
   "id": "d3952ed1-9a55-400a-841f-d2e0825d8805",
   "metadata": {},
   "outputs": [
    {
     "data": {
      "text/plain": [
       "True"
      ]
     },
     "execution_count": 18,
     "metadata": {},
     "output_type": "execute_result"
    }
   ],
   "source": [
    "('h' == 'h') and (2 == 2)"
   ]
  },
  {
   "cell_type": "code",
   "execution_count": 20,
   "id": "44d02032-13e8-40fa-a989-4dfc5a2d04d3",
   "metadata": {},
   "outputs": [
    {
     "data": {
      "text/plain": [
       "True"
      ]
     },
     "execution_count": 20,
     "metadata": {},
     "output_type": "execute_result"
    }
   ],
   "source": [
    "1 == 1 or 2==2"
   ]
  },
  {
   "cell_type": "code",
   "execution_count": 22,
   "id": "1fa713ea-7ad3-41bb-a3f7-3130cf2f4ca3",
   "metadata": {},
   "outputs": [
    {
     "data": {
      "text/plain": [
       "True"
      ]
     },
     "execution_count": 22,
     "metadata": {},
     "output_type": "execute_result"
    }
   ],
   "source": [
    "1 == 1 or 1==2"
   ]
  },
  {
   "cell_type": "code",
   "execution_count": 24,
   "id": "7221c39e-ffdc-4578-95d8-2cd0c12a3a2c",
   "metadata": {},
   "outputs": [
    {
     "data": {
      "text/plain": [
       "False"
      ]
     },
     "execution_count": 24,
     "metadata": {},
     "output_type": "execute_result"
    }
   ],
   "source": [
    "1==2 or 3==4"
   ]
  },
  {
   "cell_type": "code",
   "execution_count": 29,
   "id": "c7223c80-ba1e-4707-aefc-953f01051d50",
   "metadata": {},
   "outputs": [
    {
     "data": {
      "text/plain": [
       "False"
      ]
     },
     "execution_count": 29,
     "metadata": {},
     "output_type": "execute_result"
    }
   ],
   "source": [
    "not(1==1)"
   ]
  },
  {
   "cell_type": "code",
   "execution_count": 31,
   "id": "0f27ec1c-9487-4bd9-a69a-073e9f042333",
   "metadata": {},
   "outputs": [
    {
     "data": {
      "text/plain": [
       "True"
      ]
     },
     "execution_count": 31,
     "metadata": {},
     "output_type": "execute_result"
    }
   ],
   "source": [
    "not (400>500)"
   ]
  },
  {
   "cell_type": "code",
   "execution_count": null,
   "id": "d512afa5-6113-4690-8064-c345682faf12",
   "metadata": {},
   "outputs": [],
   "source": []
  }
 ],
 "metadata": {
  "kernelspec": {
   "display_name": "Python 3 (ipykernel)",
   "language": "python",
   "name": "python3"
  },
  "language_info": {
   "codemirror_mode": {
    "name": "ipython",
    "version": 3
   },
   "file_extension": ".py",
   "mimetype": "text/x-python",
   "name": "python",
   "nbconvert_exporter": "python",
   "pygments_lexer": "ipython3",
   "version": "3.12.4"
  }
 },
 "nbformat": 4,
 "nbformat_minor": 5
}

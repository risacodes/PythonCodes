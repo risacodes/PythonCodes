{
 "cells": [
  {
   "cell_type": "markdown",
   "id": "9910db62-f247-4adb-912e-a2625a9fd080",
   "metadata": {},
   "source": [
    "# Python Object And Data Structure "
   ]
  },
  {
   "cell_type": "markdown",
   "id": "dee88d71-44e5-4720-836e-e3c48ab84dd4",
   "metadata": {},
   "source": [
    "## Var Testing "
   ]
  },
  {
   "cell_type": "code",
   "execution_count": 4,
   "id": "a1ec9653-ebca-4ac7-a3d2-01b4bdc139cf",
   "metadata": {},
   "outputs": [],
   "source": [
    "my_income= 10000\n",
    "tax_rate=0.2\n",
    "my_tax= my_income * tax_rate"
   ]
  },
  {
   "cell_type": "code",
   "execution_count": 6,
   "id": "d99f09d2-e55e-404d-b5bf-890c53bddff9",
   "metadata": {},
   "outputs": [
    {
     "data": {
      "text/plain": [
       "2000.0"
      ]
     },
     "execution_count": 6,
     "metadata": {},
     "output_type": "execute_result"
    }
   ],
   "source": [
    "my_tax"
   ]
  },
  {
   "cell_type": "code",
   "execution_count": 8,
   "id": "9eac706c-9207-404d-9cc8-2aaa4bad257e",
   "metadata": {},
   "outputs": [
    {
     "data": {
      "text/plain": [
       "float"
      ]
     },
     "execution_count": 8,
     "metadata": {},
     "output_type": "execute_result"
    }
   ],
   "source": [
    "type(my_tax)"
   ]
  },
  {
   "cell_type": "markdown",
   "id": "eb07a0ce-d109-40ed-b634-a14c6cd8d06f",
   "metadata": {},
   "source": [
    "## String Slicing "
   ]
  },
  {
   "cell_type": "code",
   "execution_count": 22,
   "id": "75f4fd25-2246-472f-bbb7-fa046e510c15",
   "metadata": {},
   "outputs": [
    {
     "data": {
      "text/plain": [
       "'hello world'"
      ]
     },
     "execution_count": 22,
     "metadata": {},
     "output_type": "execute_result"
    }
   ],
   "source": [
    "mystring = 'hello world'\n",
    "mystring "
   ]
  },
  {
   "cell_type": "code",
   "execution_count": 28,
   "id": "001679d2-85f6-4c6e-ad3e-e17b55108084",
   "metadata": {},
   "outputs": [
    {
     "data": {
      "text/plain": [
       "'h'"
      ]
     },
     "execution_count": 28,
     "metadata": {},
     "output_type": "execute_result"
    }
   ],
   "source": [
    "mystring[0]"
   ]
  },
  {
   "cell_type": "code",
   "execution_count": 30,
   "id": "df985cea-5dda-4ac0-8bd8-934ca3919aee",
   "metadata": {},
   "outputs": [
    {
     "data": {
      "text/plain": [
       "'l'"
      ]
     },
     "execution_count": 30,
     "metadata": {},
     "output_type": "execute_result"
    }
   ],
   "source": [
    "mystring[9]"
   ]
  },
  {
   "cell_type": "code",
   "execution_count": 32,
   "id": "a9df0956-4b0e-412f-9539-fc830a4f4a2c",
   "metadata": {},
   "outputs": [
    {
     "data": {
      "text/plain": [
       "'l'"
      ]
     },
     "execution_count": 32,
     "metadata": {},
     "output_type": "execute_result"
    }
   ],
   "source": [
    "mystring[-2]"
   ]
  },
  {
   "cell_type": "code",
   "execution_count": 38,
   "id": "a47202dc-6cb0-4eb2-a238-cbb38008621d",
   "metadata": {},
   "outputs": [
    {
     "data": {
      "text/plain": [
       "'abcdefghijk'"
      ]
     },
     "execution_count": 38,
     "metadata": {},
     "output_type": "execute_result"
    }
   ],
   "source": [
    "mystring = 'abcdefghijk'\n",
    "mystring "
   ]
  },
  {
   "cell_type": "code",
   "execution_count": 40,
   "id": "c1d38885-4bd1-40cd-adb4-2c45fa8fe482",
   "metadata": {},
   "outputs": [
    {
     "data": {
      "text/plain": [
       "'c'"
      ]
     },
     "execution_count": 40,
     "metadata": {},
     "output_type": "execute_result"
    }
   ],
   "source": [
    "mystring[2]\n"
   ]
  },
  {
   "cell_type": "code",
   "execution_count": 42,
   "id": "cf57584d-373b-496b-8ff6-faab0ab70cd0",
   "metadata": {},
   "outputs": [
    {
     "data": {
      "text/plain": [
       "'cdefghijk'"
      ]
     },
     "execution_count": 42,
     "metadata": {},
     "output_type": "execute_result"
    }
   ],
   "source": [
    "mystring[2:]"
   ]
  },
  {
   "cell_type": "code",
   "execution_count": 44,
   "id": "40f77841-90e2-4d16-af8b-1361dfb47c0f",
   "metadata": {},
   "outputs": [
    {
     "data": {
      "text/plain": [
       "'defghijk'"
      ]
     },
     "execution_count": 44,
     "metadata": {},
     "output_type": "execute_result"
    }
   ],
   "source": [
    "mystring[3:]"
   ]
  },
  {
   "cell_type": "code",
   "execution_count": 46,
   "id": "21fbf9e4-c30d-41a3-a37f-3f6aa4abffdf",
   "metadata": {},
   "outputs": [
    {
     "data": {
      "text/plain": [
       "'abc'"
      ]
     },
     "execution_count": 46,
     "metadata": {},
     "output_type": "execute_result"
    }
   ],
   "source": [
    "mystring[:3]"
   ]
  },
  {
   "cell_type": "code",
   "execution_count": 48,
   "id": "df442595-bd25-43aa-b7f2-123d7c85a392",
   "metadata": {},
   "outputs": [
    {
     "data": {
      "text/plain": [
       "'def'"
      ]
     },
     "execution_count": 48,
     "metadata": {},
     "output_type": "execute_result"
    }
   ],
   "source": [
    "mystring[3:6]"
   ]
  },
  {
   "cell_type": "code",
   "execution_count": 50,
   "id": "d86e0a11-1f66-44cc-838e-b4ace202848c",
   "metadata": {},
   "outputs": [
    {
     "data": {
      "text/plain": [
       "'bc'"
      ]
     },
     "execution_count": 50,
     "metadata": {},
     "output_type": "execute_result"
    }
   ],
   "source": [
    "mystring[1:3]"
   ]
  },
  {
   "cell_type": "code",
   "execution_count": 52,
   "id": "eb401df1-f31d-43d5-a0d6-d6707cc73cd8",
   "metadata": {},
   "outputs": [
    {
     "data": {
      "text/plain": [
       "'abcdefghijk'"
      ]
     },
     "execution_count": 52,
     "metadata": {},
     "output_type": "execute_result"
    }
   ],
   "source": [
    "mystring[::]"
   ]
  },
  {
   "cell_type": "code",
   "execution_count": 54,
   "id": "b1599ef0-afc4-4bf1-8ad9-52d100285333",
   "metadata": {},
   "outputs": [
    {
     "data": {
      "text/plain": [
       "'acegik'"
      ]
     },
     "execution_count": 54,
     "metadata": {},
     "output_type": "execute_result"
    }
   ],
   "source": [
    "mystring[::2]"
   ]
  },
  {
   "cell_type": "code",
   "execution_count": 56,
   "id": "911b1d70-57a4-498e-8334-b3dd2540ef44",
   "metadata": {},
   "outputs": [
    {
     "data": {
      "text/plain": [
       "'ceg'"
      ]
     },
     "execution_count": 56,
     "metadata": {},
     "output_type": "execute_result"
    }
   ],
   "source": [
    "mystring[2:7:2]"
   ]
  },
  {
   "cell_type": "code",
   "execution_count": 58,
   "id": "f6942e6d-42c3-444a-abe1-6de2ada2270f",
   "metadata": {},
   "outputs": [
    {
     "data": {
      "text/plain": [
       "'kjihgfedcba'"
      ]
     },
     "execution_count": 58,
     "metadata": {},
     "output_type": "execute_result"
    }
   ],
   "source": [
    "mystring[::-1]"
   ]
  },
  {
   "cell_type": "code",
   "execution_count": 1,
   "id": "ed53fb8c-08dd-45c3-b330-4b09b8809fbe",
   "metadata": {},
   "outputs": [],
   "source": [
    "## String Concatenation and Multiplicsation "
   ]
  },
  {
   "cell_type": "code",
   "execution_count": 3,
   "id": "a72a0f6a-0b09-4ce1-8469-f3cf4f98b983",
   "metadata": {},
   "outputs": [
    {
     "data": {
      "text/plain": [
       "'M'"
      ]
     },
     "execution_count": 3,
     "metadata": {},
     "output_type": "execute_result"
    }
   ],
   "source": [
    "name = 'SAM'\n",
    "name[2:]\n"
   ]
  },
  {
   "cell_type": "code",
   "execution_count": 5,
   "id": "ab8de15e-d0d3-46c4-aed3-5b51ed85cb19",
   "metadata": {},
   "outputs": [
    {
     "data": {
      "text/plain": [
       "'AM'"
      ]
     },
     "execution_count": 5,
     "metadata": {},
     "output_type": "execute_result"
    }
   ],
   "source": [
    "name[1:]\n"
   ]
  },
  {
   "cell_type": "code",
   "execution_count": 7,
   "id": "071a448a-abf6-49fb-865c-b1b15280129d",
   "metadata": {},
   "outputs": [],
   "source": [
    "last = name[1:]"
   ]
  },
  {
   "cell_type": "code",
   "execution_count": 9,
   "id": "49799e03-5a28-4d97-a8a9-575ca2fd736e",
   "metadata": {},
   "outputs": [
    {
     "data": {
      "text/plain": [
       "'PAM'"
      ]
     },
     "execution_count": 9,
     "metadata": {},
     "output_type": "execute_result"
    }
   ],
   "source": [
    "'P' + last\n"
   ]
  },
  {
   "cell_type": "code",
   "execution_count": 11,
   "id": "80279fb6-ee87-47f4-87fe-26549704f997",
   "metadata": {},
   "outputs": [
    {
     "data": {
      "text/plain": [
       "'Hello World it is beautiful'"
      ]
     },
     "execution_count": 11,
     "metadata": {},
     "output_type": "execute_result"
    }
   ],
   "source": [
    "x = 'Hello World'\n",
    "x + \" it is beautiful\""
   ]
  },
  {
   "cell_type": "code",
   "execution_count": 13,
   "id": "f71a4346-4932-462e-919b-34e3420afc05",
   "metadata": {},
   "outputs": [
    {
     "data": {
      "text/plain": [
       "'zz'"
      ]
     },
     "execution_count": 13,
     "metadata": {},
     "output_type": "execute_result"
    }
   ],
   "source": [
    "letter = 'z'\n",
    "letter*2"
   ]
  },
  {
   "cell_type": "code",
   "execution_count": 15,
   "id": "2d9fe2e7-bc76-483d-b0d5-4996cab19766",
   "metadata": {},
   "outputs": [
    {
     "data": {
      "text/plain": [
       "5"
      ]
     },
     "execution_count": 15,
     "metadata": {},
     "output_type": "execute_result"
    }
   ],
   "source": [
    "2 + 3"
   ]
  },
  {
   "cell_type": "code",
   "execution_count": 17,
   "id": "ce5fe973-4020-4ff8-af2e-590ee86f8cc2",
   "metadata": {},
   "outputs": [
    {
     "data": {
      "text/plain": [
       "'23'"
      ]
     },
     "execution_count": 17,
     "metadata": {},
     "output_type": "execute_result"
    }
   ],
   "source": [
    "'2' + '3'"
   ]
  },
  {
   "cell_type": "code",
   "execution_count": 26,
   "id": "1a7cb5a4-55e7-460f-8669-435146a68674",
   "metadata": {},
   "outputs": [],
   "source": [
    "x = 'Hello World'"
   ]
  },
  {
   "cell_type": "code",
   "execution_count": 28,
   "id": "77016b1f-d34c-432d-8153-363b0c8bc779",
   "metadata": {},
   "outputs": [
    {
     "data": {
      "text/plain": [
       "'HELLO WORLD'"
      ]
     },
     "execution_count": 28,
     "metadata": {},
     "output_type": "execute_result"
    }
   ],
   "source": [
    "x.upper()"
   ]
  },
  {
   "cell_type": "code",
   "execution_count": 30,
   "id": "64a2d751-4fde-4764-ba63-134fc9544aea",
   "metadata": {},
   "outputs": [
    {
     "data": {
      "text/plain": [
       "'hello world'"
      ]
     },
     "execution_count": 30,
     "metadata": {},
     "output_type": "execute_result"
    }
   ],
   "source": [
    " x.lower()"
   ]
  },
  {
   "cell_type": "code",
   "execution_count": 32,
   "id": "ab0a7e06-080c-4926-8da4-2ab1248892c1",
   "metadata": {},
   "outputs": [
    {
     "data": {
      "text/plain": [
       "['Hello', 'World']"
      ]
     },
     "execution_count": 32,
     "metadata": {},
     "output_type": "execute_result"
    }
   ],
   "source": [
    "x.split()"
   ]
  },
  {
   "cell_type": "code",
   "execution_count": 34,
   "id": "9cac83f4-a876-4f28-a401-f921adebda9f",
   "metadata": {},
   "outputs": [],
   "source": [
    "x = ' This is a string '"
   ]
  },
  {
   "cell_type": "code",
   "execution_count": 36,
   "id": "d0fc63f1-a235-4646-8ba3-92c817c6f6a4",
   "metadata": {},
   "outputs": [
    {
     "data": {
      "text/plain": [
       "['This', 'is', 'a', 'string']"
      ]
     },
     "execution_count": 36,
     "metadata": {},
     "output_type": "execute_result"
    }
   ],
   "source": [
    "x.split()"
   ]
  },
  {
   "cell_type": "code",
   "execution_count": 40,
   "id": "c108223e-ce52-4b9e-8b89-55816b509fba",
   "metadata": {},
   "outputs": [],
   "source": [
    "x = ' This is a string '"
   ]
  },
  {
   "cell_type": "code",
   "execution_count": 44,
   "id": "51668490-a52e-4792-bc83-3fbe4b2bf015",
   "metadata": {},
   "outputs": [
    {
     "data": {
      "text/plain": [
       "[' Th', 's ', 's a str', 'ng ']"
      ]
     },
     "execution_count": 44,
     "metadata": {},
     "output_type": "execute_result"
    }
   ],
   "source": [
    "x.split('i')"
   ]
  },
  {
   "cell_type": "code",
   "execution_count": 48,
   "id": "38d4c4f4-98f1-4005-aa75-e4962254d84b",
   "metadata": {},
   "outputs": [
    {
     "name": "stdout",
     "output_type": "stream",
     "text": [
      "hello\n"
     ]
    }
   ],
   "source": [
    "print('hello')"
   ]
  },
  {
   "cell_type": "markdown",
   "id": "8e7be09c-09fe-40ea-8581-5df72a904188",
   "metadata": {},
   "source": [
    "## Print Formatting Strings and Float"
   ]
  },
  {
   "cell_type": "code",
   "execution_count": 1,
   "id": "5f24bc01-d550-42a7-8a38-43e57e1cb9f4",
   "metadata": {},
   "outputs": [
    {
     "name": "stdout",
     "output_type": "stream",
     "text": [
      "This is a string Insert\n"
     ]
    }
   ],
   "source": [
    "print('This is a string {}'.format('Insert'))"
   ]
  },
  {
   "cell_type": "code",
   "execution_count": 5,
   "id": "db2c1c8b-26cb-4dbf-8c2f-be2beb3a8874",
   "metadata": {},
   "outputs": [
    {
     "name": "stdout",
     "output_type": "stream",
     "text": [
      "The fox is quick\n"
     ]
    }
   ],
   "source": [
    "print('The {} {} {}' .format ('fox','is','quick'))"
   ]
  },
  {
   "cell_type": "code",
   "execution_count": 7,
   "id": "6e5acecb-38f2-4f03-b4cc-c0fb9bf626fd",
   "metadata": {},
   "outputs": [
    {
     "name": "stdout",
     "output_type": "stream",
     "text": [
      "The fox fox fox\n"
     ]
    }
   ],
   "source": [
    "print('The {0} {0} {0}' .format ('fox','is','quick'))"
   ]
  },
  {
   "cell_type": "code",
   "execution_count": 9,
   "id": "4e6dd354-12d9-4747-933e-ebf2695a65d3",
   "metadata": {},
   "outputs": [
    {
     "name": "stdout",
     "output_type": "stream",
     "text": [
      "The brown fox is quick\n"
     ]
    }
   ],
   "source": [
    "print('The {b} {f} is {q}' .format (f='fox',b='brown',q='quick'))"
   ]
  },
  {
   "cell_type": "code",
   "execution_count": 11,
   "id": "ec5c753e-1264-4aba-b710-8d39f24db579",
   "metadata": {},
   "outputs": [],
   "source": [
    "result = 100/777"
   ]
  },
  {
   "cell_type": "code",
   "execution_count": 13,
   "id": "e545f84e-1eb3-49ce-8820-b577484f981f",
   "metadata": {},
   "outputs": [
    {
     "data": {
      "text/plain": [
       "0.1287001287001287"
      ]
     },
     "execution_count": 13,
     "metadata": {},
     "output_type": "execute_result"
    }
   ],
   "source": [
    "result "
   ]
  },
  {
   "cell_type": "code",
   "execution_count": 21,
   "id": "d80118d1-a447-40fd-9197-5339af761237",
   "metadata": {},
   "outputs": [
    {
     "name": "stdout",
     "output_type": "stream",
     "text": [
      "The result is 0.1287001287001287\n"
     ]
    }
   ],
   "source": [
    "print(\"The result is {}\" .format(result))"
   ]
  },
  {
   "cell_type": "code",
   "execution_count": 23,
   "id": "49f26e4d-f477-495a-9727-b5ec95053773",
   "metadata": {},
   "outputs": [
    {
     "name": "stdout",
     "output_type": "stream",
     "text": [
      "The result is 0.1287001287001287\n"
     ]
    }
   ],
   "source": [
    "print(\"The result is {r}\" .format(r=result))"
   ]
  },
  {
   "cell_type": "code",
   "execution_count": 27,
   "id": "cb177b3e-ff9e-4b9c-b957-6675ae2d246f",
   "metadata": {},
   "outputs": [
    {
     "name": "stdout",
     "output_type": "stream",
     "text": [
      "The result is 0.1287\n"
     ]
    }
   ],
   "source": [
    "print(\"The result is {r:2.4f}\" .format(r=result))"
   ]
  },
  {
   "cell_type": "code",
   "execution_count": 29,
   "id": "d8af34cb-f282-4821-b546-634170b6f5a9",
   "metadata": {},
   "outputs": [
    {
     "name": "stdout",
     "output_type": "stream",
     "text": [
      "The result is    0.129\n"
     ]
    }
   ],
   "source": [
    "print(\"The result is {r:8.3f}\" .format(r=result))"
   ]
  },
  {
   "cell_type": "code",
   "execution_count": 10,
   "id": "a81e4ffd-f141-4f90-9bdf-02466e342f45",
   "metadata": {},
   "outputs": [],
   "source": [
    "name = 'Jose'"
   ]
  },
  {
   "cell_type": "code",
   "execution_count": 22,
   "id": "4c7f2c00-9dd3-4f78-9b99-c05f625a5bf7",
   "metadata": {},
   "outputs": [
    {
     "name": "stdout",
     "output_type": "stream",
     "text": [
      "Hello, my name is Jose\n"
     ]
    }
   ],
   "source": [
    "print(f'Hello, my name is {name}')"
   ]
  },
  {
   "cell_type": "code",
   "execution_count": 24,
   "id": "57c47415-9b37-4ac6-bef5-4d7cc6aacbff",
   "metadata": {},
   "outputs": [],
   "source": [
    "name = \"Sam\"\n",
    "age = 21"
   ]
  },
  {
   "cell_type": "code",
   "execution_count": 26,
   "id": "2f3df4a8-e611-48c5-8644-bda1ad6f5ccb",
   "metadata": {},
   "outputs": [
    {
     "name": "stdout",
     "output_type": "stream",
     "text": [
      "Sam is 21 years old\n"
     ]
    }
   ],
   "source": [
    "print(f'{name} is {age} years old')"
   ]
  },
  {
   "cell_type": "markdown",
   "id": "7c168804-3a8c-4a40-9aac-f72846c91b24",
   "metadata": {},
   "source": [
    "## LIST"
   ]
  },
  {
   "cell_type": "code",
   "execution_count": null,
   "id": "3375e1d3-b318-44d0-b2ae-6abc72562c49",
   "metadata": {},
   "outputs": [],
   "source": []
  }
 ],
 "metadata": {
  "kernelspec": {
   "display_name": "Python 3 (ipykernel)",
   "language": "python",
   "name": "python3"
  },
  "language_info": {
   "codemirror_mode": {
    "name": "ipython",
    "version": 3
   },
   "file_extension": ".py",
   "mimetype": "text/x-python",
   "name": "python",
   "nbconvert_exporter": "python",
   "pygments_lexer": "ipython3",
   "version": "3.12.4"
  }
 },
 "nbformat": 4,
 "nbformat_minor": 5
}

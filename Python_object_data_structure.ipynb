{
 "cells": [
  {
   "cell_type": "markdown",
   "id": "9910db62-f247-4adb-912e-a2625a9fd080",
   "metadata": {},
   "source": [
    "# Python Object And Data Structure "
   ]
  },
  {
   "cell_type": "markdown",
   "id": "dee88d71-44e5-4720-836e-e3c48ab84dd4",
   "metadata": {},
   "source": [
    "## Var Testing "
   ]
  },
  {
   "cell_type": "code",
   "execution_count": 4,
   "id": "a1ec9653-ebca-4ac7-a3d2-01b4bdc139cf",
   "metadata": {},
   "outputs": [],
   "source": [
    "my_income= 10000\n",
    "tax_rate=0.2\n",
    "my_tax= my_income * tax_rate"
   ]
  },
  {
   "cell_type": "code",
   "execution_count": 6,
   "id": "d99f09d2-e55e-404d-b5bf-890c53bddff9",
   "metadata": {},
   "outputs": [
    {
     "data": {
      "text/plain": [
       "2000.0"
      ]
     },
     "execution_count": 6,
     "metadata": {},
     "output_type": "execute_result"
    }
   ],
   "source": [
    "my_tax"
   ]
  },
  {
   "cell_type": "code",
   "execution_count": 8,
   "id": "9eac706c-9207-404d-9cc8-2aaa4bad257e",
   "metadata": {},
   "outputs": [
    {
     "data": {
      "text/plain": [
       "float"
      ]
     },
     "execution_count": 8,
     "metadata": {},
     "output_type": "execute_result"
    }
   ],
   "source": [
    "type(my_tax)"
   ]
  },
  {
   "cell_type": "markdown",
   "id": "eb07a0ce-d109-40ed-b634-a14c6cd8d06f",
   "metadata": {},
   "source": [
    "## String Slicing "
   ]
  },
  {
   "cell_type": "code",
   "execution_count": 22,
   "id": "75f4fd25-2246-472f-bbb7-fa046e510c15",
   "metadata": {},
   "outputs": [
    {
     "data": {
      "text/plain": [
       "'hello world'"
      ]
     },
     "execution_count": 22,
     "metadata": {},
     "output_type": "execute_result"
    }
   ],
   "source": [
    "mystring = 'hello world'\n",
    "mystring "
   ]
  },
  {
   "cell_type": "code",
   "execution_count": 28,
   "id": "001679d2-85f6-4c6e-ad3e-e17b55108084",
   "metadata": {},
   "outputs": [
    {
     "data": {
      "text/plain": [
       "'h'"
      ]
     },
     "execution_count": 28,
     "metadata": {},
     "output_type": "execute_result"
    }
   ],
   "source": [
    "mystring[0]"
   ]
  },
  {
   "cell_type": "code",
   "execution_count": 30,
   "id": "df985cea-5dda-4ac0-8bd8-934ca3919aee",
   "metadata": {},
   "outputs": [
    {
     "data": {
      "text/plain": [
       "'l'"
      ]
     },
     "execution_count": 30,
     "metadata": {},
     "output_type": "execute_result"
    }
   ],
   "source": [
    "mystring[9]"
   ]
  },
  {
   "cell_type": "code",
   "execution_count": 32,
   "id": "a9df0956-4b0e-412f-9539-fc830a4f4a2c",
   "metadata": {},
   "outputs": [
    {
     "data": {
      "text/plain": [
       "'l'"
      ]
     },
     "execution_count": 32,
     "metadata": {},
     "output_type": "execute_result"
    }
   ],
   "source": [
    "mystring[-2]"
   ]
  },
  {
   "cell_type": "code",
   "execution_count": 38,
   "id": "a47202dc-6cb0-4eb2-a238-cbb38008621d",
   "metadata": {},
   "outputs": [
    {
     "data": {
      "text/plain": [
       "'abcdefghijk'"
      ]
     },
     "execution_count": 38,
     "metadata": {},
     "output_type": "execute_result"
    }
   ],
   "source": [
    "mystring = 'abcdefghijk'\n",
    "mystring "
   ]
  },
  {
   "cell_type": "code",
   "execution_count": 40,
   "id": "c1d38885-4bd1-40cd-adb4-2c45fa8fe482",
   "metadata": {},
   "outputs": [
    {
     "data": {
      "text/plain": [
       "'c'"
      ]
     },
     "execution_count": 40,
     "metadata": {},
     "output_type": "execute_result"
    }
   ],
   "source": [
    "mystring[2]\n"
   ]
  },
  {
   "cell_type": "code",
   "execution_count": 42,
   "id": "cf57584d-373b-496b-8ff6-faab0ab70cd0",
   "metadata": {},
   "outputs": [
    {
     "data": {
      "text/plain": [
       "'cdefghijk'"
      ]
     },
     "execution_count": 42,
     "metadata": {},
     "output_type": "execute_result"
    }
   ],
   "source": [
    "mystring[2:]"
   ]
  },
  {
   "cell_type": "code",
   "execution_count": 44,
   "id": "40f77841-90e2-4d16-af8b-1361dfb47c0f",
   "metadata": {},
   "outputs": [
    {
     "data": {
      "text/plain": [
       "'defghijk'"
      ]
     },
     "execution_count": 44,
     "metadata": {},
     "output_type": "execute_result"
    }
   ],
   "source": [
    "mystring[3:]"
   ]
  },
  {
   "cell_type": "code",
   "execution_count": 46,
   "id": "21fbf9e4-c30d-41a3-a37f-3f6aa4abffdf",
   "metadata": {},
   "outputs": [
    {
     "data": {
      "text/plain": [
       "'abc'"
      ]
     },
     "execution_count": 46,
     "metadata": {},
     "output_type": "execute_result"
    }
   ],
   "source": [
    "mystring[:3]"
   ]
  },
  {
   "cell_type": "code",
   "execution_count": 48,
   "id": "df442595-bd25-43aa-b7f2-123d7c85a392",
   "metadata": {},
   "outputs": [
    {
     "data": {
      "text/plain": [
       "'def'"
      ]
     },
     "execution_count": 48,
     "metadata": {},
     "output_type": "execute_result"
    }
   ],
   "source": [
    "mystring[3:6]"
   ]
  },
  {
   "cell_type": "code",
   "execution_count": 50,
   "id": "d86e0a11-1f66-44cc-838e-b4ace202848c",
   "metadata": {},
   "outputs": [
    {
     "data": {
      "text/plain": [
       "'bc'"
      ]
     },
     "execution_count": 50,
     "metadata": {},
     "output_type": "execute_result"
    }
   ],
   "source": [
    "mystring[1:3]"
   ]
  },
  {
   "cell_type": "code",
   "execution_count": 52,
   "id": "eb401df1-f31d-43d5-a0d6-d6707cc73cd8",
   "metadata": {},
   "outputs": [
    {
     "data": {
      "text/plain": [
       "'abcdefghijk'"
      ]
     },
     "execution_count": 52,
     "metadata": {},
     "output_type": "execute_result"
    }
   ],
   "source": [
    "mystring[::]"
   ]
  },
  {
   "cell_type": "code",
   "execution_count": 54,
   "id": "b1599ef0-afc4-4bf1-8ad9-52d100285333",
   "metadata": {},
   "outputs": [
    {
     "data": {
      "text/plain": [
       "'acegik'"
      ]
     },
     "execution_count": 54,
     "metadata": {},
     "output_type": "execute_result"
    }
   ],
   "source": [
    "mystring[::2]"
   ]
  },
  {
   "cell_type": "code",
   "execution_count": 56,
   "id": "911b1d70-57a4-498e-8334-b3dd2540ef44",
   "metadata": {},
   "outputs": [
    {
     "data": {
      "text/plain": [
       "'ceg'"
      ]
     },
     "execution_count": 56,
     "metadata": {},
     "output_type": "execute_result"
    }
   ],
   "source": [
    "mystring[2:7:2]"
   ]
  },
  {
   "cell_type": "code",
   "execution_count": 58,
   "id": "f6942e6d-42c3-444a-abe1-6de2ada2270f",
   "metadata": {},
   "outputs": [
    {
     "data": {
      "text/plain": [
       "'kjihgfedcba'"
      ]
     },
     "execution_count": 58,
     "metadata": {},
     "output_type": "execute_result"
    }
   ],
   "source": [
    "mystring[::-1]"
   ]
  },
  {
   "cell_type": "code",
   "execution_count": 1,
   "id": "ed53fb8c-08dd-45c3-b330-4b09b8809fbe",
   "metadata": {},
   "outputs": [],
   "source": [
    "## String Concatenation and Multiplicsation "
   ]
  },
  {
   "cell_type": "code",
   "execution_count": 3,
   "id": "a72a0f6a-0b09-4ce1-8469-f3cf4f98b983",
   "metadata": {},
   "outputs": [
    {
     "data": {
      "text/plain": [
       "'M'"
      ]
     },
     "execution_count": 3,
     "metadata": {},
     "output_type": "execute_result"
    }
   ],
   "source": [
    "name = 'SAM'\n",
    "name[2:]\n"
   ]
  },
  {
   "cell_type": "code",
   "execution_count": 5,
   "id": "ab8de15e-d0d3-46c4-aed3-5b51ed85cb19",
   "metadata": {},
   "outputs": [
    {
     "data": {
      "text/plain": [
       "'AM'"
      ]
     },
     "execution_count": 5,
     "metadata": {},
     "output_type": "execute_result"
    }
   ],
   "source": [
    "name[1:]\n"
   ]
  },
  {
   "cell_type": "code",
   "execution_count": 7,
   "id": "071a448a-abf6-49fb-865c-b1b15280129d",
   "metadata": {},
   "outputs": [],
   "source": [
    "last = name[1:]"
   ]
  },
  {
   "cell_type": "code",
   "execution_count": 9,
   "id": "49799e03-5a28-4d97-a8a9-575ca2fd736e",
   "metadata": {},
   "outputs": [
    {
     "data": {
      "text/plain": [
       "'PAM'"
      ]
     },
     "execution_count": 9,
     "metadata": {},
     "output_type": "execute_result"
    }
   ],
   "source": [
    "'P' + last\n"
   ]
  },
  {
   "cell_type": "code",
   "execution_count": 11,
   "id": "80279fb6-ee87-47f4-87fe-26549704f997",
   "metadata": {},
   "outputs": [
    {
     "data": {
      "text/plain": [
       "'Hello World it is beautiful'"
      ]
     },
     "execution_count": 11,
     "metadata": {},
     "output_type": "execute_result"
    }
   ],
   "source": [
    "x = 'Hello World'\n",
    "x + \" it is beautiful\""
   ]
  },
  {
   "cell_type": "code",
   "execution_count": 13,
   "id": "f71a4346-4932-462e-919b-34e3420afc05",
   "metadata": {},
   "outputs": [
    {
     "data": {
      "text/plain": [
       "'zz'"
      ]
     },
     "execution_count": 13,
     "metadata": {},
     "output_type": "execute_result"
    }
   ],
   "source": [
    "letter = 'z'\n",
    "letter*2"
   ]
  },
  {
   "cell_type": "code",
   "execution_count": 15,
   "id": "2d9fe2e7-bc76-483d-b0d5-4996cab19766",
   "metadata": {},
   "outputs": [
    {
     "data": {
      "text/plain": [
       "5"
      ]
     },
     "execution_count": 15,
     "metadata": {},
     "output_type": "execute_result"
    }
   ],
   "source": [
    "2 + 3"
   ]
  },
  {
   "cell_type": "code",
   "execution_count": 17,
   "id": "ce5fe973-4020-4ff8-af2e-590ee86f8cc2",
   "metadata": {},
   "outputs": [
    {
     "data": {
      "text/plain": [
       "'23'"
      ]
     },
     "execution_count": 17,
     "metadata": {},
     "output_type": "execute_result"
    }
   ],
   "source": [
    "'2' + '3'"
   ]
  },
  {
   "cell_type": "code",
   "execution_count": 26,
   "id": "1a7cb5a4-55e7-460f-8669-435146a68674",
   "metadata": {},
   "outputs": [],
   "source": [
    "x = 'Hello World'"
   ]
  },
  {
   "cell_type": "code",
   "execution_count": 28,
   "id": "77016b1f-d34c-432d-8153-363b0c8bc779",
   "metadata": {},
   "outputs": [
    {
     "data": {
      "text/plain": [
       "'HELLO WORLD'"
      ]
     },
     "execution_count": 28,
     "metadata": {},
     "output_type": "execute_result"
    }
   ],
   "source": [
    "x.upper()"
   ]
  },
  {
   "cell_type": "code",
   "execution_count": 30,
   "id": "64a2d751-4fde-4764-ba63-134fc9544aea",
   "metadata": {},
   "outputs": [
    {
     "data": {
      "text/plain": [
       "'hello world'"
      ]
     },
     "execution_count": 30,
     "metadata": {},
     "output_type": "execute_result"
    }
   ],
   "source": [
    " x.lower()"
   ]
  },
  {
   "cell_type": "code",
   "execution_count": 32,
   "id": "ab0a7e06-080c-4926-8da4-2ab1248892c1",
   "metadata": {},
   "outputs": [
    {
     "data": {
      "text/plain": [
       "['Hello', 'World']"
      ]
     },
     "execution_count": 32,
     "metadata": {},
     "output_type": "execute_result"
    }
   ],
   "source": [
    "x.split()"
   ]
  },
  {
   "cell_type": "code",
   "execution_count": 34,
   "id": "9cac83f4-a876-4f28-a401-f921adebda9f",
   "metadata": {},
   "outputs": [],
   "source": [
    "x = ' This is a string '"
   ]
  },
  {
   "cell_type": "code",
   "execution_count": 36,
   "id": "d0fc63f1-a235-4646-8ba3-92c817c6f6a4",
   "metadata": {},
   "outputs": [
    {
     "data": {
      "text/plain": [
       "['This', 'is', 'a', 'string']"
      ]
     },
     "execution_count": 36,
     "metadata": {},
     "output_type": "execute_result"
    }
   ],
   "source": [
    "x.split()"
   ]
  },
  {
   "cell_type": "code",
   "execution_count": 40,
   "id": "c108223e-ce52-4b9e-8b89-55816b509fba",
   "metadata": {},
   "outputs": [],
   "source": [
    "x = ' This is a string '"
   ]
  },
  {
   "cell_type": "code",
   "execution_count": 44,
   "id": "51668490-a52e-4792-bc83-3fbe4b2bf015",
   "metadata": {},
   "outputs": [
    {
     "data": {
      "text/plain": [
       "[' Th', 's ', 's a str', 'ng ']"
      ]
     },
     "execution_count": 44,
     "metadata": {},
     "output_type": "execute_result"
    }
   ],
   "source": [
    "x.split('i')"
   ]
  },
  {
   "cell_type": "code",
   "execution_count": 48,
   "id": "38d4c4f4-98f1-4005-aa75-e4962254d84b",
   "metadata": {},
   "outputs": [
    {
     "name": "stdout",
     "output_type": "stream",
     "text": [
      "hello\n"
     ]
    }
   ],
   "source": [
    "print('hello')"
   ]
  },
  {
   "cell_type": "markdown",
   "id": "8e7be09c-09fe-40ea-8581-5df72a904188",
   "metadata": {},
   "source": [
    "## Print Formatting Strings and Float"
   ]
  },
  {
   "cell_type": "code",
   "execution_count": 1,
   "id": "5f24bc01-d550-42a7-8a38-43e57e1cb9f4",
   "metadata": {},
   "outputs": [
    {
     "name": "stdout",
     "output_type": "stream",
     "text": [
      "This is a string Insert\n"
     ]
    }
   ],
   "source": [
    "print('This is a string {}'.format('Insert'))"
   ]
  },
  {
   "cell_type": "code",
   "execution_count": 5,
   "id": "db2c1c8b-26cb-4dbf-8c2f-be2beb3a8874",
   "metadata": {},
   "outputs": [
    {
     "name": "stdout",
     "output_type": "stream",
     "text": [
      "The fox is quick\n"
     ]
    }
   ],
   "source": [
    "print('The {} {} {}' .format ('fox','is','quick'))"
   ]
  },
  {
   "cell_type": "code",
   "execution_count": 7,
   "id": "6e5acecb-38f2-4f03-b4cc-c0fb9bf626fd",
   "metadata": {},
   "outputs": [
    {
     "name": "stdout",
     "output_type": "stream",
     "text": [
      "The fox fox fox\n"
     ]
    }
   ],
   "source": [
    "print('The {0} {0} {0}' .format ('fox','is','quick'))"
   ]
  },
  {
   "cell_type": "code",
   "execution_count": 9,
   "id": "4e6dd354-12d9-4747-933e-ebf2695a65d3",
   "metadata": {},
   "outputs": [
    {
     "name": "stdout",
     "output_type": "stream",
     "text": [
      "The brown fox is quick\n"
     ]
    }
   ],
   "source": [
    "print('The {b} {f} is {q}' .format (f='fox',b='brown',q='quick'))"
   ]
  },
  {
   "cell_type": "code",
   "execution_count": 11,
   "id": "ec5c753e-1264-4aba-b710-8d39f24db579",
   "metadata": {},
   "outputs": [],
   "source": [
    "result = 100/777"
   ]
  },
  {
   "cell_type": "code",
   "execution_count": 13,
   "id": "e545f84e-1eb3-49ce-8820-b577484f981f",
   "metadata": {},
   "outputs": [
    {
     "data": {
      "text/plain": [
       "0.1287001287001287"
      ]
     },
     "execution_count": 13,
     "metadata": {},
     "output_type": "execute_result"
    }
   ],
   "source": [
    "result "
   ]
  },
  {
   "cell_type": "code",
   "execution_count": 21,
   "id": "d80118d1-a447-40fd-9197-5339af761237",
   "metadata": {},
   "outputs": [
    {
     "name": "stdout",
     "output_type": "stream",
     "text": [
      "The result is 0.1287001287001287\n"
     ]
    }
   ],
   "source": [
    "print(\"The result is {}\" .format(result))"
   ]
  },
  {
   "cell_type": "code",
   "execution_count": 23,
   "id": "49f26e4d-f477-495a-9727-b5ec95053773",
   "metadata": {},
   "outputs": [
    {
     "name": "stdout",
     "output_type": "stream",
     "text": [
      "The result is 0.1287001287001287\n"
     ]
    }
   ],
   "source": [
    "print(\"The result is {r}\" .format(r=result))"
   ]
  },
  {
   "cell_type": "code",
   "execution_count": 27,
   "id": "cb177b3e-ff9e-4b9c-b957-6675ae2d246f",
   "metadata": {},
   "outputs": [
    {
     "name": "stdout",
     "output_type": "stream",
     "text": [
      "The result is 0.1287\n"
     ]
    }
   ],
   "source": [
    "print(\"The result is {r:2.4f}\" .format(r=result))"
   ]
  },
  {
   "cell_type": "code",
   "execution_count": 29,
   "id": "d8af34cb-f282-4821-b546-634170b6f5a9",
   "metadata": {},
   "outputs": [
    {
     "name": "stdout",
     "output_type": "stream",
     "text": [
      "The result is    0.129\n"
     ]
    }
   ],
   "source": [
    "print(\"The result is {r:8.3f}\" .format(r=result))"
   ]
  },
  {
   "cell_type": "code",
   "execution_count": 10,
   "id": "a81e4ffd-f141-4f90-9bdf-02466e342f45",
   "metadata": {},
   "outputs": [],
   "source": [
    "name = 'Jose'"
   ]
  },
  {
   "cell_type": "code",
   "execution_count": 22,
   "id": "4c7f2c00-9dd3-4f78-9b99-c05f625a5bf7",
   "metadata": {},
   "outputs": [
    {
     "name": "stdout",
     "output_type": "stream",
     "text": [
      "Hello, my name is Jose\n"
     ]
    }
   ],
   "source": [
    "print(f'Hello, my name is {name}')"
   ]
  },
  {
   "cell_type": "code",
   "execution_count": 24,
   "id": "57c47415-9b37-4ac6-bef5-4d7cc6aacbff",
   "metadata": {},
   "outputs": [],
   "source": [
    "name = \"Sam\"\n",
    "age = 21"
   ]
  },
  {
   "cell_type": "code",
   "execution_count": 26,
   "id": "2f3df4a8-e611-48c5-8644-bda1ad6f5ccb",
   "metadata": {},
   "outputs": [
    {
     "name": "stdout",
     "output_type": "stream",
     "text": [
      "Sam is 21 years old\n"
     ]
    }
   ],
   "source": [
    "print(f'{name} is {age} years old')"
   ]
  },
  {
   "cell_type": "markdown",
   "id": "7c168804-3a8c-4a40-9aac-f72846c91b24",
   "metadata": {},
   "source": [
    "## LIST"
   ]
  },
  {
   "cell_type": "code",
   "execution_count": 29,
   "id": "3375e1d3-b318-44d0-b2ae-6abc72562c49",
   "metadata": {},
   "outputs": [],
   "source": [
    "my_list = [1 , 2, 3]\n",
    "my_string = [ 'STRING', 1, 23.8]"
   ]
  },
  {
   "cell_type": "code",
   "execution_count": 31,
   "id": "fb6266f6-db20-41f9-8059-374dac30aa15",
   "metadata": {},
   "outputs": [
    {
     "data": {
      "text/plain": [
       "3"
      ]
     },
     "execution_count": 31,
     "metadata": {},
     "output_type": "execute_result"
    }
   ],
   "source": [
    "len(my_string)"
   ]
  },
  {
   "cell_type": "code",
   "execution_count": 33,
   "id": "65f539af-4a28-43ae-b6d3-40ba73434d35",
   "metadata": {},
   "outputs": [],
   "source": [
    "mylist = ['one','two','three']"
   ]
  },
  {
   "cell_type": "code",
   "execution_count": null,
   "id": "de40a0f0-11d4-4047-8871-0fb17f519f48",
   "metadata": {},
   "outputs": [],
   "source": [
    "mylist[0]   #slicing"
   ]
  },
  {
   "cell_type": "code",
   "execution_count": 37,
   "id": "cb146b27-4dd4-4a12-ac04-01ebccb7d948",
   "metadata": {},
   "outputs": [
    {
     "data": {
      "text/plain": [
       "['two', 'three']"
      ]
     },
     "execution_count": 37,
     "metadata": {},
     "output_type": "execute_result"
    }
   ],
   "source": [
    "mylist[1:]"
   ]
  },
  {
   "cell_type": "code",
   "execution_count": 39,
   "id": "62260cc6-400c-43f1-8dfc-7c0ec35d0e0d",
   "metadata": {},
   "outputs": [
    {
     "data": {
      "text/plain": [
       "['one', 'two', 'three']"
      ]
     },
     "execution_count": 39,
     "metadata": {},
     "output_type": "execute_result"
    }
   ],
   "source": [
    "mylist"
   ]
  },
  {
   "cell_type": "code",
   "execution_count": 41,
   "id": "c276d990-4965-4800-a4b8-27d0defa2861",
   "metadata": {},
   "outputs": [],
   "source": [
    "another_list = [ 4,5]"
   ]
  },
  {
   "cell_type": "code",
   "execution_count": 47,
   "id": "f4dcb8b9-7780-4b1c-b217-57d6e838d51d",
   "metadata": {},
   "outputs": [],
   "source": [
    "new_list = mylist + another_list  #concatnation"
   ]
  },
  {
   "cell_type": "code",
   "execution_count": 49,
   "id": "ad36f39e-cbe2-4e84-b251-d1c3519b3566",
   "metadata": {},
   "outputs": [
    {
     "data": {
      "text/plain": [
       "['one', 'two', 'three', 4, 5]"
      ]
     },
     "execution_count": 49,
     "metadata": {},
     "output_type": "execute_result"
    }
   ],
   "source": [
    "new_list\n"
   ]
  },
  {
   "cell_type": "code",
   "execution_count": 51,
   "id": "4dad8548-201a-4c55-a5b2-c2ef88817e5e",
   "metadata": {},
   "outputs": [],
   "source": [
    "new_list[0] = 'ONE'"
   ]
  },
  {
   "cell_type": "code",
   "execution_count": 55,
   "id": "5847f03b-e24a-4ad0-aebf-33652546022c",
   "metadata": {},
   "outputs": [
    {
     "data": {
      "text/plain": [
       "['ONE', 'two', 'three', 4, 5]"
      ]
     },
     "execution_count": 55,
     "metadata": {},
     "output_type": "execute_result"
    }
   ],
   "source": [
    "new_list"
   ]
  },
  {
   "cell_type": "code",
   "execution_count": 59,
   "id": "1bee54af-3849-4411-a62f-ba01ea257558",
   "metadata": {},
   "outputs": [],
   "source": [
    "new_list.append('six') # add an item in the last  #append "
   ]
  },
  {
   "cell_type": "code",
   "execution_count": 62,
   "id": "db232da8-9fc7-46ec-a48d-2267147c8c5f",
   "metadata": {},
   "outputs": [
    {
     "data": {
      "text/plain": [
       "['ONE', 'two', 'three', 4, 5, 'six']"
      ]
     },
     "execution_count": 62,
     "metadata": {},
     "output_type": "execute_result"
    }
   ],
   "source": [
    "new_list"
   ]
  },
  {
   "cell_type": "code",
   "execution_count": 64,
   "id": "81b5555f-849a-4870-838d-52e4d29b3419",
   "metadata": {},
   "outputs": [],
   "source": [
    "new_list.append(7)"
   ]
  },
  {
   "cell_type": "code",
   "execution_count": 66,
   "id": "afcc5b17-e795-4312-849c-94055964cd00",
   "metadata": {},
   "outputs": [
    {
     "data": {
      "text/plain": [
       "['ONE', 'two', 'three', 4, 5, 'six', 7]"
      ]
     },
     "execution_count": 66,
     "metadata": {},
     "output_type": "execute_result"
    }
   ],
   "source": [
    "new_list"
   ]
  },
  {
   "cell_type": "code",
   "execution_count": 68,
   "id": "724e4e7e-04e1-4c08-92f1-276940366bc8",
   "metadata": {},
   "outputs": [
    {
     "data": {
      "text/plain": [
       "7"
      ]
     },
     "execution_count": 68,
     "metadata": {},
     "output_type": "execute_result"
    }
   ],
   "source": [
    "new_list.pop() #to remove the last item #.pop"
   ]
  },
  {
   "cell_type": "code",
   "execution_count": 70,
   "id": "081675cf-8ce4-4a3d-b9c0-02dcb0555d71",
   "metadata": {},
   "outputs": [
    {
     "data": {
      "text/plain": [
       "['ONE', 'two', 'three', 4, 5, 'six']"
      ]
     },
     "execution_count": 70,
     "metadata": {},
     "output_type": "execute_result"
    }
   ],
   "source": [
    "new_list"
   ]
  },
  {
   "cell_type": "code",
   "execution_count": 76,
   "id": "efb0d02a-f04d-4cca-939d-8cdaea0a94ea",
   "metadata": {},
   "outputs": [],
   "source": [
    "pop_item = new_list.pop() #gives the last value"
   ]
  },
  {
   "cell_type": "code",
   "execution_count": 79,
   "id": "19c84cf8-8f24-4fb8-b64a-23618ce3aeab",
   "metadata": {},
   "outputs": [
    {
     "data": {
      "text/plain": [
       "'six'"
      ]
     },
     "execution_count": 79,
     "metadata": {},
     "output_type": "execute_result"
    }
   ],
   "source": [
    "pop_item"
   ]
  },
  {
   "cell_type": "code",
   "execution_count": 81,
   "id": "4603e427-5174-4434-8016-ce892ec9f41d",
   "metadata": {},
   "outputs": [
    {
     "data": {
      "text/plain": [
       "['ONE', 'two', 'three', 4, 5]"
      ]
     },
     "execution_count": 81,
     "metadata": {},
     "output_type": "execute_result"
    }
   ],
   "source": [
    "new_list"
   ]
  },
  {
   "cell_type": "code",
   "execution_count": 83,
   "id": "a1d8dba5-1697-4e08-a33c-78ebd0c0170f",
   "metadata": {},
   "outputs": [
    {
     "data": {
      "text/plain": [
       "4"
      ]
     },
     "execution_count": 83,
     "metadata": {},
     "output_type": "execute_result"
    }
   ],
   "source": [
    "new_list.pop(3) # to remove value from a specific index"
   ]
  },
  {
   "cell_type": "code",
   "execution_count": 85,
   "id": "5236a2fa-2763-4830-aaaa-1ce9d50f94f3",
   "metadata": {},
   "outputs": [
    {
     "data": {
      "text/plain": [
       "['ONE', 'two', 'three', 5]"
      ]
     },
     "execution_count": 85,
     "metadata": {},
     "output_type": "execute_result"
    }
   ],
   "source": [
    "new_list"
   ]
  },
  {
   "cell_type": "code",
   "execution_count": 87,
   "id": "59318ee7-a6a2-46c2-bf44-e5d8cc23a3e7",
   "metadata": {},
   "outputs": [],
   "source": [
    "new_list = ['a','e','x','b','c']\n",
    "num_list = [4,1,8,3]"
   ]
  },
  {
   "cell_type": "code",
   "execution_count": 89,
   "id": "6b14bb89-d31f-4d2d-8d19-e89d31cbd68e",
   "metadata": {},
   "outputs": [],
   "source": [
    "new_list.sort()"
   ]
  },
  {
   "cell_type": "code",
   "execution_count": 91,
   "id": "d73eb3eb-68c5-47a1-9df4-adcd71d5b8b7",
   "metadata": {},
   "outputs": [
    {
     "data": {
      "text/plain": [
       "['a', 'b', 'c', 'e', 'x']"
      ]
     },
     "execution_count": 91,
     "metadata": {},
     "output_type": "execute_result"
    }
   ],
   "source": [
    "new_list #sorting "
   ]
  },
  {
   "cell_type": "code",
   "execution_count": 93,
   "id": "bb5e5693-653a-4910-922a-add11b6e89c7",
   "metadata": {},
   "outputs": [],
   "source": [
    "my_sorted_list = my_list.sort()"
   ]
  },
  {
   "cell_type": "code",
   "execution_count": 95,
   "id": "91f6df59-cfd6-425f-84b0-e641c3db9d26",
   "metadata": {},
   "outputs": [
    {
     "data": {
      "text/plain": [
       "NoneType"
      ]
     },
     "execution_count": 95,
     "metadata": {},
     "output_type": "execute_result"
    }
   ],
   "source": [
    "type(my_sorted_list)"
   ]
  },
  {
   "cell_type": "code",
   "execution_count": null,
   "id": "b7bef6e5-fdc0-453e-8d89-e28d8f979f47",
   "metadata": {},
   "outputs": [],
   "source": [
    "None"
   ]
  },
  {
   "cell_type": "code",
   "execution_count": 97,
   "id": "e578ae33-6175-48a7-8dce-9942ad7286b8",
   "metadata": {},
   "outputs": [],
   "source": [
    "new_list.sort()\n",
    "my_sorted_list = new_list"
   ]
  },
  {
   "cell_type": "code",
   "execution_count": 100,
   "id": "09cfbf6b-f6ca-432c-8434-5e0d3c663158",
   "metadata": {},
   "outputs": [
    {
     "data": {
      "text/plain": [
       "['a', 'b', 'c', 'e', 'x']"
      ]
     },
     "execution_count": 100,
     "metadata": {},
     "output_type": "execute_result"
    }
   ],
   "source": [
    "my_sorted_list"
   ]
  },
  {
   "cell_type": "code",
   "execution_count": 102,
   "id": "c8112b73-c2c8-4c9a-99f9-e67ea85892cc",
   "metadata": {},
   "outputs": [],
   "source": [
    "num_list.sort()"
   ]
  },
  {
   "cell_type": "code",
   "execution_count": 106,
   "id": "144bba2a-c560-4ccc-8c7b-cb8db4812ee2",
   "metadata": {},
   "outputs": [
    {
     "data": {
      "text/plain": [
       "[1, 3, 4, 8]"
      ]
     },
     "execution_count": 106,
     "metadata": {},
     "output_type": "execute_result"
    }
   ],
   "source": [
    "num_list"
   ]
  },
  {
   "cell_type": "code",
   "execution_count": 108,
   "id": "6455b775-8f91-4044-a316-51123c7bd774",
   "metadata": {},
   "outputs": [],
   "source": [
    "num_list.reverse() #reverse a string "
   ]
  },
  {
   "cell_type": "code",
   "execution_count": 110,
   "id": "8a8436c5-d4ed-4177-89d3-a2fabf088d30",
   "metadata": {},
   "outputs": [
    {
     "data": {
      "text/plain": [
       "[8, 4, 3, 1]"
      ]
     },
     "execution_count": 110,
     "metadata": {},
     "output_type": "execute_result"
    }
   ],
   "source": [
    "num_list"
   ]
  },
  {
   "cell_type": "code",
   "execution_count": 5,
   "id": "b310fd76-5bc6-478a-84a9-13e5dfd07eb8",
   "metadata": {},
   "outputs": [],
   "source": [
    "a = 0xAE4 ## hexadecimal conversion "
   ]
  },
  {
   "cell_type": "code",
   "execution_count": 7,
   "id": "0cb6cd99-e214-4112-82e9-0ce16615a34b",
   "metadata": {},
   "outputs": [
    {
     "name": "stdout",
     "output_type": "stream",
     "text": [
      "2788 <class 'int'>\n"
     ]
    }
   ],
   "source": [
    "print(a,type(a))"
   ]
  },
  {
   "cell_type": "markdown",
   "id": "4939f4f0-a719-43dd-98b0-24c15b130795",
   "metadata": {},
   "source": [
    "## Dictionaries"
   ]
  },
  {
   "cell_type": "code",
   "execution_count": 12,
   "id": "4dbbc4b2-3ccb-450d-ae52-1368f5f891ad",
   "metadata": {},
   "outputs": [],
   "source": [
    "my_dict = {'key1':'value1','key2':'value2'}"
   ]
  },
  {
   "cell_type": "code",
   "execution_count": 14,
   "id": "ef70e001-7725-4be0-8c6d-518551ebe144",
   "metadata": {},
   "outputs": [
    {
     "data": {
      "text/plain": [
       "{'key1': 'value1', 'key2': 'value2'}"
      ]
     },
     "execution_count": 14,
     "metadata": {},
     "output_type": "execute_result"
    }
   ],
   "source": [
    "my_dict"
   ]
  },
  {
   "cell_type": "code",
   "execution_count": 18,
   "id": "e6f2b217-2d16-41bf-8ffc-32479ab35fa2",
   "metadata": {},
   "outputs": [
    {
     "data": {
      "text/plain": [
       "'value1'"
      ]
     },
     "execution_count": 18,
     "metadata": {},
     "output_type": "execute_result"
    }
   ],
   "source": [
    "my_dict['key1']"
   ]
  },
  {
   "cell_type": "code",
   "execution_count": 20,
   "id": "55d69983-b513-4a09-ae51-7572f7f033b7",
   "metadata": {},
   "outputs": [],
   "source": [
    "item = {'fruit':10,'drink':40,'snacks':30,'soap':50}"
   ]
  },
  {
   "cell_type": "code",
   "execution_count": 24,
   "id": "e6437ae0-6e04-49ac-ae87-ab2817b4e916",
   "metadata": {},
   "outputs": [
    {
     "data": {
      "text/plain": [
       "10"
      ]
     },
     "execution_count": 24,
     "metadata": {},
     "output_type": "execute_result"
    }
   ],
   "source": [
    "item['fruit']"
   ]
  },
  {
   "cell_type": "code",
   "execution_count": 26,
   "id": "d30672ab-e9c6-427f-a1b0-0b625ddd91ce",
   "metadata": {},
   "outputs": [
    {
     "data": {
      "text/plain": [
       "50"
      ]
     },
     "execution_count": 26,
     "metadata": {},
     "output_type": "execute_result"
    }
   ],
   "source": [
    "item['soap']"
   ]
  },
  {
   "cell_type": "code",
   "execution_count": 30,
   "id": "bdb43049-ffdb-42f8-bfc8-0bea7c601c29",
   "metadata": {},
   "outputs": [],
   "source": [
    "d = {'k1': 3.34,'k2':[1,2,3,4],'k3':{'insidekey':100}} ## stacking in dict"
   ]
  },
  {
   "cell_type": "code",
   "execution_count": 32,
   "id": "b592027c-a619-4ed4-811d-5372e50e3ba0",
   "metadata": {},
   "outputs": [
    {
     "data": {
      "text/plain": [
       "[1, 2, 3, 4]"
      ]
     },
     "execution_count": 32,
     "metadata": {},
     "output_type": "execute_result"
    }
   ],
   "source": [
    "d['k2']"
   ]
  },
  {
   "cell_type": "code",
   "execution_count": 34,
   "id": "71f7e4f9-7a2b-4cf2-9bbc-cd1911daeede",
   "metadata": {},
   "outputs": [
    {
     "data": {
      "text/plain": [
       "{'insidekey': 100}"
      ]
     },
     "execution_count": 34,
     "metadata": {},
     "output_type": "execute_result"
    }
   ],
   "source": [
    "d['k3']"
   ]
  },
  {
   "cell_type": "code",
   "execution_count": 36,
   "id": "8bb63dc2-f605-4e49-9ced-c5bf08fecfa8",
   "metadata": {},
   "outputs": [
    {
     "data": {
      "text/plain": [
       "100"
      ]
     },
     "execution_count": 36,
     "metadata": {},
     "output_type": "execute_result"
    }
   ],
   "source": [
    "d['k3']['insidekey']"
   ]
  },
  {
   "cell_type": "code",
   "execution_count": 38,
   "id": "2577401a-cd76-4027-8cda-31a625c4e602",
   "metadata": {},
   "outputs": [
    {
     "data": {
      "text/plain": [
       "3"
      ]
     },
     "execution_count": 38,
     "metadata": {},
     "output_type": "execute_result"
    }
   ],
   "source": [
    "d['k2'][2]"
   ]
  },
  {
   "cell_type": "code",
   "execution_count": 40,
   "id": "a3913b2f-ef86-46d0-abad-62a3b811dc28",
   "metadata": {},
   "outputs": [],
   "source": [
    "list = {'key1':['a','b','c']}"
   ]
  },
  {
   "cell_type": "code",
   "execution_count": 42,
   "id": "ab2e611b-9a60-4d4e-819c-1046918e062d",
   "metadata": {},
   "outputs": [
    {
     "data": {
      "text/plain": [
       "{'key1': ['a', 'b', 'c']}"
      ]
     },
     "execution_count": 42,
     "metadata": {},
     "output_type": "execute_result"
    }
   ],
   "source": [
    "list"
   ]
  },
  {
   "cell_type": "code",
   "execution_count": 44,
   "id": "72703a3a-c424-42c4-94e3-1f0325361d86",
   "metadata": {},
   "outputs": [],
   "source": [
    "my_list = list['key1']"
   ]
  },
  {
   "cell_type": "code",
   "execution_count": 46,
   "id": "ac67d82b-b57d-40ef-84af-020c714dfb1d",
   "metadata": {},
   "outputs": [
    {
     "data": {
      "text/plain": [
       "['a', 'b', 'c']"
      ]
     },
     "execution_count": 46,
     "metadata": {},
     "output_type": "execute_result"
    }
   ],
   "source": [
    "my_list"
   ]
  },
  {
   "cell_type": "code",
   "execution_count": 48,
   "id": "29ae539a-2232-4173-911d-f4a299daa972",
   "metadata": {},
   "outputs": [],
   "source": [
    "letter = my_list[2]"
   ]
  },
  {
   "cell_type": "code",
   "execution_count": 50,
   "id": "e5f03c45-bfeb-47c7-ac63-c7c6bf4711d3",
   "metadata": {},
   "outputs": [
    {
     "data": {
      "text/plain": [
       "'c'"
      ]
     },
     "execution_count": 50,
     "metadata": {},
     "output_type": "execute_result"
    }
   ],
   "source": [
    "letter\n"
   ]
  },
  {
   "cell_type": "code",
   "execution_count": 54,
   "id": "21cd05e7-511f-4992-8a02-a2d6640a1677",
   "metadata": {},
   "outputs": [
    {
     "data": {
      "text/plain": [
       "'C'"
      ]
     },
     "execution_count": 54,
     "metadata": {},
     "output_type": "execute_result"
    }
   ],
   "source": [
    "letter.upper()"
   ]
  },
  {
   "cell_type": "code",
   "execution_count": 66,
   "id": "926a34d4-4eec-46ab-b2da-d29c4e3c17e9",
   "metadata": {},
   "outputs": [],
   "source": [
    "d = {'key2':['a','b','c']}"
   ]
  },
  {
   "cell_type": "code",
   "execution_count": 68,
   "id": "c9d55ecd-1494-4f35-9a24-c5cdbe0c50aa",
   "metadata": {},
   "outputs": [
    {
     "data": {
      "text/plain": [
       "{'key2': ['a', 'b', 'c']}"
      ]
     },
     "execution_count": 68,
     "metadata": {},
     "output_type": "execute_result"
    }
   ],
   "source": [
    "d"
   ]
  },
  {
   "cell_type": "code",
   "execution_count": 70,
   "id": "97af9464-297a-4bd6-a828-69232a66663c",
   "metadata": {},
   "outputs": [
    {
     "data": {
      "text/plain": [
       "'C'"
      ]
     },
     "execution_count": 70,
     "metadata": {},
     "output_type": "execute_result"
    }
   ],
   "source": [
    "d['key2'][2].upper()"
   ]
  },
  {
   "cell_type": "code",
   "execution_count": 72,
   "id": "2cfe8864-fefc-49fc-81e6-44119d49da91",
   "metadata": {},
   "outputs": [],
   "source": [
    "d = {'k1':100,'k2':200} ## adding of keys "
   ]
  },
  {
   "cell_type": "code",
   "execution_count": 74,
   "id": "a9707c98-7896-4ad7-b0ba-f979db741793",
   "metadata": {},
   "outputs": [
    {
     "data": {
      "text/plain": [
       "{'k1': 100, 'k2': 200}"
      ]
     },
     "execution_count": 74,
     "metadata": {},
     "output_type": "execute_result"
    }
   ],
   "source": [
    "d"
   ]
  },
  {
   "cell_type": "code",
   "execution_count": 76,
   "id": "f352cb79-bb79-42ac-97fc-fd3b389b45b5",
   "metadata": {},
   "outputs": [],
   "source": [
    "d['k3'] = 300"
   ]
  },
  {
   "cell_type": "code",
   "execution_count": 90,
   "id": "ca0f4d5a-86eb-4fa0-a39b-92ab6816f5d7",
   "metadata": {},
   "outputs": [
    {
     "data": {
      "text/plain": [
       "{'k1': 100, 'k2': 200, 'k3': 300, 'key1': 'VALUE1', 'key4': 'VALUE4'}"
      ]
     },
     "execution_count": 90,
     "metadata": {},
     "output_type": "execute_result"
    }
   ],
   "source": [
    "d"
   ]
  },
  {
   "cell_type": "code",
   "execution_count": 94,
   "id": "72652cb2-ebba-4589-8ca4-37b443d6170f",
   "metadata": {},
   "outputs": [],
   "source": [
    "d['k1'] = 'VALUE1' ## changing the value "
   ]
  },
  {
   "cell_type": "code",
   "execution_count": 96,
   "id": "3ab59633-0bc6-45ca-afe1-5d55fb819824",
   "metadata": {},
   "outputs": [
    {
     "data": {
      "text/plain": [
       "{'k1': 'VALUE1', 'k2': 200, 'k3': 300, 'key1': 'VALUE1', 'key4': 'VALUE4'}"
      ]
     },
     "execution_count": 96,
     "metadata": {},
     "output_type": "execute_result"
    }
   ],
   "source": [
    "d"
   ]
  },
  {
   "cell_type": "code",
   "execution_count": 98,
   "id": "4cadb596-1871-4add-b729-6b270a1f7216",
   "metadata": {},
   "outputs": [
    {
     "data": {
      "text/plain": [
       "dict_keys(['k1', 'k2', 'k3', 'key1', 'key4'])"
      ]
     },
     "execution_count": 98,
     "metadata": {},
     "output_type": "execute_result"
    }
   ],
   "source": [
    "d.keys() ## show all the keys "
   ]
  },
  {
   "cell_type": "code",
   "execution_count": 100,
   "id": "63dc0fcf-be0d-498f-81b0-8e87ef44a1d8",
   "metadata": {},
   "outputs": [
    {
     "data": {
      "text/plain": [
       "dict_values(['VALUE1', 200, 300, 'VALUE1', 'VALUE4'])"
      ]
     },
     "execution_count": 100,
     "metadata": {},
     "output_type": "execute_result"
    }
   ],
   "source": [
    "d.values()\n"
   ]
  },
  {
   "cell_type": "code",
   "execution_count": 104,
   "id": "42d6b2ce-8dc4-4128-afbb-9c8f27a15776",
   "metadata": {},
   "outputs": [
    {
     "data": {
      "text/plain": [
       "dict_items([('k1', 'VALUE1'), ('k2', 200), ('k3', 300), ('key1', 'VALUE1'), ('key4', 'VALUE4')])"
      ]
     },
     "execution_count": 104,
     "metadata": {},
     "output_type": "execute_result"
    }
   ],
   "source": [
    "d.items() ## show all the pairing "
   ]
  },
  {
   "cell_type": "markdown",
   "id": "73baaeb5-ffc3-488c-8a26-251b2016ed26",
   "metadata": {},
   "source": [
    "## Tuple"
   ]
  },
  {
   "cell_type": "code",
   "execution_count": 2,
   "id": "9f2a40dc-5f2d-4f8a-9eb7-ac060dd20e05",
   "metadata": {},
   "outputs": [],
   "source": [
    "t = (1, 2, 3)"
   ]
  },
  {
   "cell_type": "code",
   "execution_count": 4,
   "id": "117b36b5-9faa-4280-9800-c597ba05b3aa",
   "metadata": {},
   "outputs": [],
   "source": [
    "my_list = [1, 2, 3]"
   ]
  },
  {
   "cell_type": "code",
   "execution_count": 6,
   "id": "16062d32-cf95-43ee-b7dd-289cb2bb6b30",
   "metadata": {},
   "outputs": [
    {
     "data": {
      "text/plain": [
       "tuple"
      ]
     },
     "execution_count": 6,
     "metadata": {},
     "output_type": "execute_result"
    }
   ],
   "source": [
    "type(t)"
   ]
  },
  {
   "cell_type": "code",
   "execution_count": 11,
   "id": "7d70d1d0-7f21-4307-ba73-7bc94577e794",
   "metadata": {},
   "outputs": [
    {
     "data": {
      "text/plain": [
       "list"
      ]
     },
     "execution_count": 11,
     "metadata": {},
     "output_type": "execute_result"
    }
   ],
   "source": [
    "type(my_list)"
   ]
  },
  {
   "cell_type": "code",
   "execution_count": 13,
   "id": "cb2bb513-f45e-4d13-bf0e-8b5d3e3c6685",
   "metadata": {},
   "outputs": [
    {
     "data": {
      "text/plain": [
       "3"
      ]
     },
     "execution_count": 13,
     "metadata": {},
     "output_type": "execute_result"
    }
   ],
   "source": [
    "len(t)"
   ]
  },
  {
   "cell_type": "code",
   "execution_count": 15,
   "id": "8c0fc823-f6ab-454d-a9d4-2212da156a0e",
   "metadata": {},
   "outputs": [
    {
     "data": {
      "text/plain": [
       "(1, 2, 3)"
      ]
     },
     "execution_count": 15,
     "metadata": {},
     "output_type": "execute_result"
    }
   ],
   "source": [
    "t"
   ]
  },
  {
   "cell_type": "code",
   "execution_count": 17,
   "id": "c9a2a7cd-046d-4353-ab4e-9ff95c75749b",
   "metadata": {},
   "outputs": [],
   "source": [
    "t = ('one' , 2)"
   ]
  },
  {
   "cell_type": "code",
   "execution_count": 19,
   "id": "fc2bde10-4867-483b-ba51-66a41dc34450",
   "metadata": {},
   "outputs": [
    {
     "data": {
      "text/plain": [
       "'one'"
      ]
     },
     "execution_count": 19,
     "metadata": {},
     "output_type": "execute_result"
    }
   ],
   "source": [
    "t[0]"
   ]
  },
  {
   "cell_type": "code",
   "execution_count": 21,
   "id": "f9d52689-42e9-4110-abbc-06f222eb7c55",
   "metadata": {},
   "outputs": [
    {
     "data": {
      "text/plain": [
       "2"
      ]
     },
     "execution_count": 21,
     "metadata": {},
     "output_type": "execute_result"
    }
   ],
   "source": [
    "t[-1]"
   ]
  },
  {
   "cell_type": "code",
   "execution_count": 23,
   "id": "ce1f5b59-dfae-47a1-9c9e-358402a3e348",
   "metadata": {},
   "outputs": [],
   "source": [
    "t = ('a','a','b')"
   ]
  },
  {
   "cell_type": "code",
   "execution_count": 27,
   "id": "304013e8-4077-4b65-b208-b24b99671b85",
   "metadata": {},
   "outputs": [
    {
     "data": {
      "text/plain": [
       "2"
      ]
     },
     "execution_count": 27,
     "metadata": {},
     "output_type": "execute_result"
    }
   ],
   "source": [
    "t.count('a') ## count "
   ]
  },
  {
   "cell_type": "code",
   "execution_count": 29,
   "id": "1b8d1eca-72e9-4ae8-9656-075a6fdcd9a6",
   "metadata": {},
   "outputs": [
    {
     "data": {
      "text/plain": [
       "0"
      ]
     },
     "execution_count": 29,
     "metadata": {},
     "output_type": "execute_result"
    }
   ],
   "source": [
    "t.index('a') ## index"
   ]
  },
  {
   "cell_type": "code",
   "execution_count": 31,
   "id": "f6ca7ab7-dfb6-41de-b96e-78e08f37b71a",
   "metadata": {},
   "outputs": [
    {
     "data": {
      "text/plain": [
       "2"
      ]
     },
     "execution_count": 31,
     "metadata": {},
     "output_type": "execute_result"
    }
   ],
   "source": [
    "t.index('b')"
   ]
  },
  {
   "cell_type": "markdown",
   "id": "3047383f-a78e-4a15-8ae2-edcab32fbc04",
   "metadata": {},
   "source": [
    "## Sets In Python "
   ]
  },
  {
   "cell_type": "code",
   "execution_count": 34,
   "id": "dc7e9388-f29f-4f19-a1ab-46f9918129ab",
   "metadata": {},
   "outputs": [],
   "source": [
    "myset = set() ## empty set "
   ]
  },
  {
   "cell_type": "code",
   "execution_count": 36,
   "id": "49884658-1590-4b59-8882-8d7bcd30928a",
   "metadata": {},
   "outputs": [
    {
     "data": {
      "text/plain": [
       "set()"
      ]
     },
     "execution_count": 36,
     "metadata": {},
     "output_type": "execute_result"
    }
   ],
   "source": [
    "myset "
   ]
  },
  {
   "cell_type": "code",
   "execution_count": 42,
   "id": "1765ff11-8d14-4fac-a9c0-ed37b8712fa5",
   "metadata": {},
   "outputs": [],
   "source": [
    "myset.add(1) ## adding of element "
   ]
  },
  {
   "cell_type": "code",
   "execution_count": 44,
   "id": "016e1e5d-45a3-4fb0-99d3-0a3d521e0877",
   "metadata": {},
   "outputs": [
    {
     "data": {
      "text/plain": [
       "{1}"
      ]
     },
     "execution_count": 44,
     "metadata": {},
     "output_type": "execute_result"
    }
   ],
   "source": [
    "myset"
   ]
  },
  {
   "cell_type": "code",
   "execution_count": 46,
   "id": "ecdaacca-7422-42f6-b5a0-0be649a695c1",
   "metadata": {},
   "outputs": [],
   "source": [
    "myset.add(2)"
   ]
  },
  {
   "cell_type": "code",
   "execution_count": 48,
   "id": "4548f28a-7ad6-4c00-868f-8502d9ab102b",
   "metadata": {},
   "outputs": [
    {
     "data": {
      "text/plain": [
       "{1, 2}"
      ]
     },
     "execution_count": 48,
     "metadata": {},
     "output_type": "execute_result"
    }
   ],
   "source": [
    "myset"
   ]
  },
  {
   "cell_type": "code",
   "execution_count": 54,
   "id": "db237940-9c82-49c8-ba72-0a19b447825e",
   "metadata": {},
   "outputs": [],
   "source": [
    "myset.add(2) ## coz set contains an unique value only"
   ]
  },
  {
   "cell_type": "code",
   "execution_count": 56,
   "id": "f698bca8-01de-478f-9f1a-41e16dc1d454",
   "metadata": {},
   "outputs": [
    {
     "data": {
      "text/plain": [
       "{1, 2}"
      ]
     },
     "execution_count": 56,
     "metadata": {},
     "output_type": "execute_result"
    }
   ],
   "source": [
    "myset\n"
   ]
  },
  {
   "cell_type": "code",
   "execution_count": 58,
   "id": "7cc86712-be9a-4183-8e27-b1230f6d1428",
   "metadata": {},
   "outputs": [],
   "source": [
    "mylist = [ 1,1,11,1,1,1,1,2,2,2,2,2,3,3,3]"
   ]
  },
  {
   "cell_type": "code",
   "execution_count": 60,
   "id": "7e93de8e-cae3-4972-a28a-38f9a5bc062b",
   "metadata": {},
   "outputs": [
    {
     "data": {
      "text/plain": [
       "{1, 2, 3, 11}"
      ]
     },
     "execution_count": 60,
     "metadata": {},
     "output_type": "execute_result"
    }
   ],
   "source": [
    "set(mylist)"
   ]
  },
  {
   "cell_type": "markdown",
   "id": "75f10c42-1879-4e4e-9171-915f6e9f8b62",
   "metadata": {},
   "source": [
    "## Booleans"
   ]
  },
  {
   "cell_type": "code",
   "execution_count": 64,
   "id": "7c68b078-e374-404a-aa65-e053a756a3ad",
   "metadata": {},
   "outputs": [
    {
     "data": {
      "text/plain": [
       "True"
      ]
     },
     "execution_count": 64,
     "metadata": {},
     "output_type": "execute_result"
    }
   ],
   "source": [
    "True"
   ]
  },
  {
   "cell_type": "code",
   "execution_count": 66,
   "id": "25f4cc73-14d9-4611-b3cf-a6ac43cec6c9",
   "metadata": {},
   "outputs": [
    {
     "data": {
      "text/plain": [
       "False"
      ]
     },
     "execution_count": 66,
     "metadata": {},
     "output_type": "execute_result"
    }
   ],
   "source": [
    "False"
   ]
  },
  {
   "cell_type": "code",
   "execution_count": 68,
   "id": "c29e808c-d53e-4546-aa46-cd67330d575a",
   "metadata": {},
   "outputs": [
    {
     "data": {
      "text/plain": [
       "bool"
      ]
     },
     "execution_count": 68,
     "metadata": {},
     "output_type": "execute_result"
    }
   ],
   "source": [
    "type(True)"
   ]
  },
  {
   "cell_type": "code",
   "execution_count": 70,
   "id": "7e9217af-12e0-4322-aebe-cad28974509d",
   "metadata": {},
   "outputs": [
    {
     "data": {
      "text/plain": [
       "bool"
      ]
     },
     "execution_count": 70,
     "metadata": {},
     "output_type": "execute_result"
    }
   ],
   "source": [
    "type(False)"
   ]
  },
  {
   "cell_type": "code",
   "execution_count": 72,
   "id": "cb2bd43f-20e0-4d98-9553-c321c986f07d",
   "metadata": {},
   "outputs": [
    {
     "data": {
      "text/plain": [
       "False"
      ]
     },
     "execution_count": 72,
     "metadata": {},
     "output_type": "execute_result"
    }
   ],
   "source": [
    "1>2"
   ]
  },
  {
   "cell_type": "code",
   "execution_count": 74,
   "id": "957753df-a3e3-4b42-99b3-06c00777f667",
   "metadata": {},
   "outputs": [
    {
     "data": {
      "text/plain": [
       "True"
      ]
     },
     "execution_count": 74,
     "metadata": {},
     "output_type": "execute_result"
    }
   ],
   "source": [
    "1 == 1"
   ]
  },
  {
   "cell_type": "code",
   "execution_count": 80,
   "id": "3b09a39a-f85d-4b94-90e5-681dc2b234ef",
   "metadata": {},
   "outputs": [],
   "source": [
    "b = None ## placeholder"
   ]
  },
  {
   "cell_type": "code",
   "execution_count": 82,
   "id": "9d8514dd-4986-4178-807c-eaf9926b53d6",
   "metadata": {},
   "outputs": [],
   "source": [
    "b"
   ]
  },
  {
   "cell_type": "code",
   "execution_count": null,
   "id": "a2142e62-b706-4127-9068-f8918dd993ab",
   "metadata": {},
   "outputs": [],
   "source": []
  }
 ],
 "metadata": {
  "kernelspec": {
   "display_name": "Python 3 (ipykernel)",
   "language": "python",
   "name": "python3"
  },
  "language_info": {
   "codemirror_mode": {
    "name": "ipython",
    "version": 3
   },
   "file_extension": ".py",
   "mimetype": "text/x-python",
   "name": "python",
   "nbconvert_exporter": "python",
   "pygments_lexer": "ipython3",
   "version": "3.12.4"
  }
 },
 "nbformat": 4,
 "nbformat_minor": 5
}

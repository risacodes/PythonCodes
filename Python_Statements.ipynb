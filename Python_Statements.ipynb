{
 "cells": [
  {
   "cell_type": "markdown",
   "id": "2196b41b-fa91-49bc-bb54-f869d76648e1",
   "metadata": {},
   "source": [
    "## IF , ELIF AND  ELSE STATEMENT "
   ]
  },
  {
   "cell_type": "code",
   "execution_count": null,
   "id": "985e3fe0-91f0-41b4-8af4-a06b25234566",
   "metadata": {},
   "outputs": [],
   "source": []
  },
  {
   "cell_type": "code",
   "execution_count": null,
   "id": "455b313c-0dc1-45a1-87b8-5b9949453e60",
   "metadata": {},
   "outputs": [],
   "source": []
  },
  {
   "cell_type": "code",
   "execution_count": null,
   "id": "bec8ec88-74f2-430c-a8e1-4db48c3060e5",
   "metadata": {},
   "outputs": [],
   "source": []
  },
  {
   "cell_type": "code",
   "execution_count": null,
   "id": "a4ea136c-2975-4e87-b990-f07cdbbe6915",
   "metadata": {},
   "outputs": [],
   "source": []
  },
  {
   "cell_type": "code",
   "execution_count": 30,
   "id": "1b42b461-9cea-4f86-84de-370dd2b3e386",
   "metadata": {},
   "outputs": [
    {
     "name": "stdout",
     "output_type": "stream",
     "text": [
      "Money is cool.\n"
     ]
    }
   ],
   "source": [
    "loc = 'Bank'\n",
    "\n",
    "if loc == 'Auto Shop':\n",
    "    print('Car is cool.')\n",
    "elif loc == 'Bank':\n",
    "    print('Money is cool.')\n",
    "else:\n",
    "    print('I dont know much.')"
   ]
  },
  {
   "cell_type": "code",
   "execution_count": null,
   "id": "817fdf06-0c2b-41de-9ddf-dcc922d043f8",
   "metadata": {},
   "outputs": [],
   "source": []
  },
  {
   "cell_type": "code",
   "execution_count": null,
   "id": "63ecf3e4-950b-4a1d-8896-95073fa210eb",
   "metadata": {},
   "outputs": [],
   "source": []
  },
  {
   "cell_type": "code",
   "execution_count": null,
   "id": "43b12413-1b93-4fbd-b36c-c05677b126f5",
   "metadata": {},
   "outputs": [],
   "source": []
  },
  {
   "cell_type": "code",
   "execution_count": null,
   "id": "64b321b1-d60f-4450-8309-600069b95332",
   "metadata": {},
   "outputs": [],
   "source": []
  },
  {
   "cell_type": "code",
   "execution_count": 32,
   "id": "4727cae6-f05e-4835-b2b9-58fd8364ef23",
   "metadata": {},
   "outputs": [
    {
     "name": "stdout",
     "output_type": "stream",
     "text": [
      "Car is cool.\n"
     ]
    }
   ],
   "source": [
    "loc = 'Auto Shop'\n",
    "\n",
    "if loc == 'Auto Shop':\n",
    "    print('Car is cool.')\n",
    "elif loc == 'Bank':\n",
    "    print('Money is cool.')\n",
    "elif loc == 'Store':\n",
    "    print('Welcome to the store.')\n",
    "else:\n",
    "    print('I dont know much.')"
   ]
  },
  {
   "cell_type": "code",
   "execution_count": 36,
   "id": "6ec63558-0758-4aa1-bfe6-dd6332548eb0",
   "metadata": {},
   "outputs": [
    {
     "name": "stdout",
     "output_type": "stream",
     "text": [
      "I dont know much.\n"
     ]
    }
   ],
   "source": [
    "loc = 'Game'\n",
    "\n",
    "if loc == 'Auto Shop':\n",
    "    print('Car is cool.')\n",
    "elif loc == 'Bank':\n",
    "    print('Money is cool.')\n",
    "elif loc == 'Store':\n",
    "    print('Welcome to the store.')\n",
    "else:\n",
    "    print('I dont know much.')"
   ]
  },
  {
   "cell_type": "code",
   "execution_count": 38,
   "id": "01f30bc9-fb8e-441c-80b3-95c8b8d6ca8a",
   "metadata": {},
   "outputs": [],
   "source": [
    "name ='Sammy'\n"
   ]
  },
  {
   "cell_type": "code",
   "execution_count": 44,
   "id": "a24af54c-f14b-4917-b60d-2e16e32d9944",
   "metadata": {},
   "outputs": [
    {
     "name": "stdout",
     "output_type": "stream",
     "text": [
      "Hello Sammy\n"
     ]
    }
   ],
   "source": [
    "if name=='Frankie':\n",
    "    print('Hello Frankie')\n",
    "elif name=='Sammy':\n",
    "    print('Hello Sammy')\n",
    "else:\n",
    "    print('What is your name?')"
   ]
  },
  {
   "cell_type": "code",
   "execution_count": 46,
   "id": "a0c7fe33-7665-4339-9d6c-a8488de590d0",
   "metadata": {},
   "outputs": [
    {
     "name": "stdout",
     "output_type": "stream",
     "text": [
      "Hello Frankie\n"
     ]
    }
   ],
   "source": [
    "name ='Frankie'\n",
    "\n",
    "if name=='Frankie':\n",
    "    print('Hello Frankie')\n",
    "elif name=='Sammy':\n",
    "    print('Hello Sammy')\n",
    "else:\n",
    "    print('What is your name?')"
   ]
  },
  {
   "cell_type": "code",
   "execution_count": 48,
   "id": "418bd7f0-f2e7-42c5-b607-89ce5ae808d6",
   "metadata": {},
   "outputs": [
    {
     "name": "stdout",
     "output_type": "stream",
     "text": [
      "What is your name?\n"
     ]
    }
   ],
   "source": [
    "name ='Jose'\n",
    "\n",
    "if name=='Frankie':\n",
    "    print('Hello Frankie')\n",
    "elif name=='Sammy':\n",
    "    print('Hello Sammy')\n",
    "else:\n",
    "    print('What is your name?')"
   ]
  },
  {
   "cell_type": "markdown",
   "id": "49f95490-14cc-45b7-805e-afad459d5f7f",
   "metadata": {},
   "source": [
    "## For Loop"
   ]
  },
  {
   "cell_type": "code",
   "execution_count": 53,
   "id": "67b91c52-5bc8-4c4e-8f93-4c4b6d3db9f7",
   "metadata": {},
   "outputs": [],
   "source": [
    "mylist= [1,2,3,4,5,6,7,8,9,10]"
   ]
  },
  {
   "cell_type": "code",
   "execution_count": 57,
   "id": "60d6ca6c-fbf4-48b9-a860-c5514b528ece",
   "metadata": {},
   "outputs": [
    {
     "name": "stdout",
     "output_type": "stream",
     "text": [
      "1\n",
      "2\n",
      "3\n",
      "4\n",
      "5\n",
      "6\n",
      "7\n",
      "8\n",
      "9\n",
      "10\n"
     ]
    }
   ],
   "source": [
    "for num in mylist:\n",
    "    print(num)"
   ]
  },
  {
   "cell_type": "code",
   "execution_count": 63,
   "id": "fd12664f-7f88-435b-bf47-9a3d3edcc247",
   "metadata": {},
   "outputs": [
    {
     "name": "stdout",
     "output_type": "stream",
     "text": [
      "hello\n",
      "hello\n",
      "hello\n",
      "hello\n",
      "hello\n",
      "hello\n",
      "hello\n",
      "hello\n",
      "hello\n",
      "hello\n"
     ]
    }
   ],
   "source": [
    "for num in mylist:\n",
    "    print('hello')"
   ]
  },
  {
   "cell_type": "code",
   "execution_count": 65,
   "id": "c4524697-8cc1-4b91-a545-ff5b16ed0516",
   "metadata": {},
   "outputs": [
    {
     "name": "stdout",
     "output_type": "stream",
     "text": [
      "2\n",
      "4\n",
      "6\n",
      "8\n",
      "10\n"
     ]
    }
   ],
   "source": [
    "for num in mylist:\n",
    "    #check for even\n",
    "    if num%2 == 0:\n",
    "        print(num)"
   ]
  },
  {
   "cell_type": "code",
   "execution_count": 69,
   "id": "c835ecba-97ff-4d8a-b983-784270774057",
   "metadata": {},
   "outputs": [
    {
     "name": "stdout",
     "output_type": "stream",
     "text": [
      "ODD Number: 1\n",
      "2\n",
      "ODD Number: 3\n",
      "4\n",
      "ODD Number: 5\n",
      "6\n",
      "ODD Number: 7\n",
      "8\n",
      "ODD Number: 9\n",
      "10\n"
     ]
    }
   ],
   "source": [
    "for num in mylist:\n",
    "    #check for even\n",
    "    if num%2 == 0:\n",
    "        print(num)\n",
    "    else:\n",
    "        print(f'ODD Number: {num}')"
   ]
  },
  {
   "cell_type": "code",
   "execution_count": 79,
   "id": "ad9cebf5-af25-48f2-8146-e62c04c1220f",
   "metadata": {},
   "outputs": [
    {
     "name": "stdout",
     "output_type": "stream",
     "text": [
      "55\n"
     ]
    }
   ],
   "source": [
    "list_sum  = 0\n",
    "for num in mylist:\n",
    "    list_sum = list_sum + num\n",
    "\n",
    "print(list_sum)"
   ]
  },
  {
   "cell_type": "code",
   "execution_count": 83,
   "id": "129e43ff-0260-4849-9717-f909a193bcee",
   "metadata": {},
   "outputs": [
    {
     "name": "stdout",
     "output_type": "stream",
     "text": [
      "H\n",
      "e\n",
      "l\n",
      "l\n",
      "o\n",
      " \n",
      "W\n",
      "o\n",
      "r\n",
      "l\n",
      "d\n"
     ]
    }
   ],
   "source": [
    "mystring = 'Hello World'\n",
    "\n",
    "for letter in mystring:\n",
    "    print(letter)"
   ]
  },
  {
   "cell_type": "code",
   "execution_count": 85,
   "id": "eb2770fc-371e-48b9-80f6-6444d64ca6df",
   "metadata": {},
   "outputs": [
    {
     "name": "stdout",
     "output_type": "stream",
     "text": [
      "1\n",
      "2\n",
      "3\n"
     ]
    }
   ],
   "source": [
    "tup = (1,2,3)\n",
    "\n",
    "for item in tup:\n",
    "    print(item)"
   ]
  },
  {
   "cell_type": "code",
   "execution_count": 87,
   "id": "c229e8de-d852-4dea-a0b4-9d30cbfbe511",
   "metadata": {},
   "outputs": [],
   "source": [
    "mylist =[(1,2) ,(3,4) , (5,6), (7,8)]"
   ]
  },
  {
   "cell_type": "code",
   "execution_count": 89,
   "id": "b2292b23-118b-49a4-9efc-825b3baf61eb",
   "metadata": {},
   "outputs": [
    {
     "data": {
      "text/plain": [
       "4"
      ]
     },
     "execution_count": 89,
     "metadata": {},
     "output_type": "execute_result"
    }
   ],
   "source": [
    "len(mylist)"
   ]
  },
  {
   "cell_type": "code",
   "execution_count": 91,
   "id": "93810da9-4e8f-4e07-bdd4-db4634870c16",
   "metadata": {},
   "outputs": [
    {
     "name": "stdout",
     "output_type": "stream",
     "text": [
      "(1, 2)\n",
      "(3, 4)\n",
      "(5, 6)\n",
      "(7, 8)\n"
     ]
    }
   ],
   "source": [
    "for item in mylist:\n",
    "    print(item)"
   ]
  },
  {
   "cell_type": "code",
   "execution_count": 93,
   "id": "9a787a82-8751-4da2-ada7-6acf5f0e58ea",
   "metadata": {},
   "outputs": [
    {
     "name": "stdout",
     "output_type": "stream",
     "text": [
      "1\n",
      "2\n",
      "3\n",
      "4\n",
      "5\n",
      "6\n",
      "7\n",
      "8\n"
     ]
    }
   ],
   "source": [
    "for (a,b) in mylist:\n",
    "    print(a)\n",
    "    print(b)"
   ]
  },
  {
   "cell_type": "code",
   "execution_count": 95,
   "id": "5d0e2a88-0a3f-4786-8745-952b0b0c9d8f",
   "metadata": {},
   "outputs": [],
   "source": [
    "mylist =[(1,2,3) ,(3,4,5) , (5,6,7), (7,8,9)]"
   ]
  },
  {
   "cell_type": "code",
   "execution_count": 97,
   "id": "fc476d2e-be43-4fba-b849-c770a84985d5",
   "metadata": {},
   "outputs": [
    {
     "name": "stdout",
     "output_type": "stream",
     "text": [
      "3\n",
      "5\n",
      "7\n",
      "9\n"
     ]
    }
   ],
   "source": [
    "for (a,b,c) in mylist:\n",
    "    print(c)"
   ]
  },
  {
   "cell_type": "code",
   "execution_count": 109,
   "id": "456b9529-a6e7-4b68-9606-59cda8cd425d",
   "metadata": {},
   "outputs": [],
   "source": [
    "d= {'k1':1,'k2':2,'k3':3}"
   ]
  },
  {
   "cell_type": "code",
   "execution_count": 119,
   "id": "9ca2846b-3673-4ed1-8f52-87b65da63784",
   "metadata": {},
   "outputs": [
    {
     "name": "stdout",
     "output_type": "stream",
     "text": [
      "k1\n",
      "k2\n",
      "k3\n"
     ]
    }
   ],
   "source": [
    "for item in d:\n",
    "    print(item)"
   ]
  },
  {
   "cell_type": "code",
   "execution_count": 127,
   "id": "4d37c108-ebfa-42fc-90fa-3c42ee00d442",
   "metadata": {},
   "outputs": [
    {
     "name": "stdout",
     "output_type": "stream",
     "text": [
      "1\n",
      "2\n",
      "3\n"
     ]
    }
   ],
   "source": [
    "for value in d.values():\n",
    "    print(value)"
   ]
  },
  {
   "cell_type": "markdown",
   "id": "1bb1daf0-c6c7-4dc2-a9c2-25ab51f446e0",
   "metadata": {},
   "source": [
    "## While "
   ]
  },
  {
   "cell_type": "code",
   "execution_count": 1,
   "id": "112aa1e1-44a8-4ccf-8945-2020149d15b8",
   "metadata": {},
   "outputs": [
    {
     "name": "stdout",
     "output_type": "stream",
     "text": [
      "The current value of x is 0\n",
      "The current value of x is 1\n",
      "The current value of x is 2\n",
      "The current value of x is 3\n",
      "The current value of x is 4\n"
     ]
    }
   ],
   "source": [
    "x = 0\n",
    "\n",
    "while x< 5:\n",
    "    print(f'The current value of x is {x}')\n",
    "    x = x+1"
   ]
  },
  {
   "cell_type": "code",
   "execution_count": 3,
   "id": "205282ea-76d0-4f3c-a4e7-b44d6b830fad",
   "metadata": {},
   "outputs": [
    {
     "name": "stdout",
     "output_type": "stream",
     "text": [
      "The current value of x is 0\n",
      "The current value of x is 1\n",
      "The current value of x is 2\n",
      "The current value of x is 3\n",
      "The current value of x is 4\n",
      "X is not less than 5\n"
     ]
    }
   ],
   "source": [
    "x = 0\n",
    "\n",
    "while x< 5:\n",
    "    print(f'The current value of x is {x}')\n",
    "    x = x+1\n",
    "else:\n",
    "    print(f'X is not less than 5')"
   ]
  },
  {
   "cell_type": "code",
   "execution_count": 5,
   "id": "8b2c0834-9e5f-4343-8e25-3a3c6eac9d2f",
   "metadata": {},
   "outputs": [
    {
     "name": "stdout",
     "output_type": "stream",
     "text": [
      "X is not less than 5\n"
     ]
    }
   ],
   "source": [
    "x = 50\n",
    "\n",
    "while x< 5:\n",
    "    print(f'The current value of x is {x}')\n",
    "    x = x+1\n",
    "else:\n",
    "    print(f'X is not less than 5')"
   ]
  },
  {
   "cell_type": "markdown",
   "id": "40c6f585-c207-4bb6-9837-edfbe8afd0ed",
   "metadata": {},
   "source": [
    " ### BREAK , CONTINUE , PASS"
   ]
  },
  {
   "cell_type": "code",
   "execution_count": 8,
   "id": "6d661aa1-b008-45fe-b8a1-8431f8baa4e3",
   "metadata": {},
   "outputs": [
    {
     "name": "stdout",
     "output_type": "stream",
     "text": [
      "end of the scirpt\n"
     ]
    }
   ],
   "source": [
    "x = [1,2,3]\n",
    "\n",
    "for item in x:\n",
    "    # comment \n",
    "    pass\n",
    "\n",
    "print(\"end of the scirpt\")\n",
    "\n"
   ]
  },
  {
   "cell_type": "code",
   "execution_count": 10,
   "id": "e5c3a8bb-931b-4d53-93ab-44a9c25d72c8",
   "metadata": {},
   "outputs": [],
   "source": [
    "mystring = 'sammy'\n",
    "\n"
   ]
  },
  {
   "cell_type": "code",
   "execution_count": 18,
   "id": "036b7764-7fb7-4dd0-8045-3715810777f1",
   "metadata": {},
   "outputs": [
    {
     "name": "stdout",
     "output_type": "stream",
     "text": [
      "s\n",
      "a\n",
      "m\n",
      "m\n",
      "y\n"
     ]
    }
   ],
   "source": [
    "for letter in mystring:\n",
    "    print(letter)"
   ]
  },
  {
   "cell_type": "code",
   "execution_count": 20,
   "id": "e5606198-a192-4f26-9747-40a7dcfd7681",
   "metadata": {},
   "outputs": [
    {
     "name": "stdout",
     "output_type": "stream",
     "text": [
      "s\n",
      "m\n",
      "m\n",
      "y\n"
     ]
    }
   ],
   "source": [
    "for letter in mystring:\n",
    "    if letter == 'a':\n",
    "        continue\n",
    "    print(letter)"
   ]
  },
  {
   "cell_type": "code",
   "execution_count": 24,
   "id": "6fe1ed5e-bff0-41b2-9546-514aa4b4bcb5",
   "metadata": {},
   "outputs": [
    {
     "name": "stdout",
     "output_type": "stream",
     "text": [
      "s\n"
     ]
    }
   ],
   "source": [
    "for letter in mystring:\n",
    "    if letter == 'a':\n",
    "        break\n",
    "    print(letter)"
   ]
  },
  {
   "cell_type": "code",
   "execution_count": 28,
   "id": "625b207f-e4b9-4959-9f6e-54c54ecfda6f",
   "metadata": {},
   "outputs": [
    {
     "name": "stdout",
     "output_type": "stream",
     "text": [
      "0\n",
      "1\n"
     ]
    }
   ],
   "source": [
    "x = 0\n",
    "while x< 5:\n",
    "    if x == 2:\n",
    "        break\n",
    "    print(x)\n",
    "    x +=1"
   ]
  },
  {
   "cell_type": "markdown",
   "id": "1e938cf6-d4c9-4d38-b79a-383e87905af4",
   "metadata": {},
   "source": [
    "## BUILT IN FUNCTIONS"
   ]
  },
  {
   "cell_type": "markdown",
   "id": "9846aed1-7e1c-442a-9801-2a620e12d32a",
   "metadata": {},
   "source": [
    "## RANGE"
   ]
  },
  {
   "cell_type": "code",
   "execution_count": 2,
   "id": "c6e74ad5-17b9-4ff9-bab2-57fb11dde257",
   "metadata": {},
   "outputs": [],
   "source": [
    "mylist = [ 1,2,3]"
   ]
  },
  {
   "cell_type": "code",
   "execution_count": 4,
   "id": "72a35230-2347-45be-a66d-a471b38cc70c",
   "metadata": {},
   "outputs": [
    {
     "name": "stdout",
     "output_type": "stream",
     "text": [
      "0\n",
      "1\n",
      "2\n",
      "3\n",
      "4\n",
      "5\n",
      "6\n",
      "7\n",
      "8\n",
      "9\n"
     ]
    }
   ],
   "source": [
    "for num in range(10):\n",
    "    print(num)"
   ]
  },
  {
   "cell_type": "code",
   "execution_count": 6,
   "id": "3309be5e-3c34-409b-a1a6-e567fac46344",
   "metadata": {},
   "outputs": [
    {
     "name": "stdout",
     "output_type": "stream",
     "text": [
      "3\n",
      "4\n",
      "5\n",
      "6\n",
      "7\n",
      "8\n",
      "9\n"
     ]
    }
   ],
   "source": [
    "for num in range(3,10):\n",
    "    print(num)"
   ]
  },
  {
   "cell_type": "code",
   "execution_count": 18,
   "id": "91bcb052-0f04-4a9f-8ecf-7a4d0af5bb6b",
   "metadata": {},
   "outputs": [],
   "source": [
    "mylist = [1,2,3]"
   ]
  },
  {
   "cell_type": "code",
   "execution_count": 22,
   "id": "65d8eae7-a957-447c-99e2-5234241b5fa3",
   "metadata": {},
   "outputs": [
    {
     "name": "stdout",
     "output_type": "stream",
     "text": [
      "0\n",
      "2\n",
      "4\n",
      "6\n",
      "8\n"
     ]
    }
   ],
   "source": [
    "for num in range(0,10,2):\n",
    "    print(num)"
   ]
  },
  {
   "cell_type": "code",
   "execution_count": 24,
   "id": "fd9bf1ff-b6e7-4fc7-87dd-e843a51057e5",
   "metadata": {},
   "outputs": [
    {
     "data": {
      "text/plain": [
       "[0, 2, 4, 6, 8, 10]"
      ]
     },
     "execution_count": 24,
     "metadata": {},
     "output_type": "execute_result"
    }
   ],
   "source": [
    "list(range(0,11,2))"
   ]
  },
  {
   "cell_type": "markdown",
   "id": "4d8a1be3-d732-4c51-9cfd-ef0944042069",
   "metadata": {},
   "source": [
    "## ENUMERATE"
   ]
  },
  {
   "cell_type": "code",
   "execution_count": 26,
   "id": "7d40bb88-beb1-48a1-84e4-54413caa58c7",
   "metadata": {},
   "outputs": [
    {
     "name": "stdout",
     "output_type": "stream",
     "text": [
      "At index 0 the letter is a\n",
      "At index 0 the letter is b\n",
      "At index 0 the letter is c\n",
      "At index 0 the letter is d\n",
      "At index 0 the letter is e\n"
     ]
    }
   ],
   "source": [
    "index_count = 0\n",
    "\n",
    "for letter in 'abcde':\n",
    "    print('At index {} the letter is {}'.format(index_count,letter))"
   ]
  },
  {
   "cell_type": "code",
   "execution_count": 28,
   "id": "aac2e125-5597-46b5-878f-a9b1c7d1c5ac",
   "metadata": {},
   "outputs": [
    {
     "name": "stdout",
     "output_type": "stream",
     "text": [
      "At index 0 the letter is a\n",
      "At index 1 the letter is b\n",
      "At index 2 the letter is c\n",
      "At index 3 the letter is d\n",
      "At index 4 the letter is e\n"
     ]
    }
   ],
   "source": [
    "index_count = 0\n",
    "\n",
    "for letter in 'abcde':\n",
    "    print('At index {} the letter is {}'.format(index_count,letter))\n",
    "    index_count += 1"
   ]
  },
  {
   "cell_type": "code",
   "execution_count": 30,
   "id": "f5e660d0-fb81-492f-b819-794d4916ac71",
   "metadata": {},
   "outputs": [
    {
     "name": "stdout",
     "output_type": "stream",
     "text": [
      "a\n",
      "b\n",
      "c\n",
      "d\n",
      "e\n"
     ]
    }
   ],
   "source": [
    "index_count = 0\n",
    "word = 'abcde'\n",
    "for letter in word:\n",
    "    print(word[index_count])\n",
    "    index_count += 1"
   ]
  },
  {
   "cell_type": "code",
   "execution_count": 32,
   "id": "1c98ae06-a4de-4df9-8654-7928917df111",
   "metadata": {},
   "outputs": [
    {
     "name": "stdout",
     "output_type": "stream",
     "text": [
      "(0, 'a')\n",
      "(1, 'b')\n",
      "(2, 'c')\n",
      "(3, 'd')\n",
      "(4, 'e')\n"
     ]
    }
   ],
   "source": [
    "word = 'abcde'\n",
    "for item in enumerate(word):  ## instead we use enumerate func \n",
    "    print(item)"
   ]
  },
  {
   "cell_type": "code",
   "execution_count": 36,
   "id": "92bb720f-972a-48c5-a2d3-36e4d1c34043",
   "metadata": {},
   "outputs": [
    {
     "name": "stdout",
     "output_type": "stream",
     "text": [
      "0\n",
      "a\n",
      "\n",
      "\n",
      "1\n",
      "b\n",
      "\n",
      "\n",
      "2\n",
      "c\n",
      "\n",
      "\n",
      "3\n",
      "d\n",
      "\n",
      "\n",
      "4\n",
      "e\n",
      "\n",
      "\n"
     ]
    }
   ],
   "source": [
    "word = 'abcde'\n",
    "for index, letter in enumerate(word):  # Unpacking the index and letter\n",
    "    print(index)\n",
    "    print(letter)\n",
    "    print('\\n')\n"
   ]
  },
  {
   "cell_type": "markdown",
   "id": "358d4227-b6e6-41f4-9657-9f60f5703fc1",
   "metadata": {},
   "source": [
    "##ZIP"
   ]
  },
  {
   "cell_type": "code",
   "execution_count": 50,
   "id": "2883549e-78e9-432f-bd01-09012e528ec3",
   "metadata": {},
   "outputs": [],
   "source": [
    "mylist1 = [1 , 2 , 3, 4 , 5 ,6 ]\n",
    "mylist2 = ['a' , 'b' , 'c' ]\n",
    "mylist3 = [ 100 , 200 ,300 ]"
   ]
  },
  {
   "cell_type": "code",
   "execution_count": 52,
   "id": "a913cd14-58bf-480e-809d-d67904b0d542",
   "metadata": {},
   "outputs": [
    {
     "data": {
      "text/plain": [
       "<zip at 0x12b52a9c0>"
      ]
     },
     "execution_count": 52,
     "metadata": {},
     "output_type": "execute_result"
    }
   ],
   "source": [
    "zip(mylist1,mylist2)"
   ]
  },
  {
   "cell_type": "code",
   "execution_count": 54,
   "id": "1c7df0f7-d246-42bf-8713-2e2215bad8c7",
   "metadata": {},
   "outputs": [
    {
     "name": "stdout",
     "output_type": "stream",
     "text": [
      "(1, 'a')\n",
      "(2, 'b')\n",
      "(3, 'c')\n"
     ]
    }
   ],
   "source": [
    "for item in zip(mylist1,mylist2):\n",
    "    print(item)"
   ]
  },
  {
   "cell_type": "code",
   "execution_count": 56,
   "id": "e6de67b9-a25e-4d84-8855-c1fffbd10796",
   "metadata": {},
   "outputs": [
    {
     "name": "stdout",
     "output_type": "stream",
     "text": [
      "(1, 'a', 100)\n",
      "(2, 'b', 200)\n",
      "(3, 'c', 300)\n"
     ]
    }
   ],
   "source": [
    "for item in zip(mylist1,mylist2,mylist3):\n",
    "    print(item)"
   ]
  },
  {
   "cell_type": "code",
   "execution_count": 58,
   "id": "e96cabf0-b341-4925-88c7-c77214c31fb9",
   "metadata": {},
   "outputs": [
    {
     "data": {
      "text/plain": [
       "[(1, 'a', 100), (2, 'b', 200), (3, 'c', 300)]"
      ]
     },
     "execution_count": 58,
     "metadata": {},
     "output_type": "execute_result"
    }
   ],
   "source": [
    "list(zip(mylist1,mylist2,mylist3))"
   ]
  },
  {
   "cell_type": "markdown",
   "id": "7bc394bf-e520-481f-a6c6-4d4dc8be4a4b",
   "metadata": {},
   "source": [
    "## IN OPERATOR "
   ]
  },
  {
   "cell_type": "code",
   "execution_count": 62,
   "id": "ddd33e18-2bf8-47a2-a62a-f9c0aedeaa99",
   "metadata": {},
   "outputs": [
    {
     "data": {
      "text/plain": [
       "False"
      ]
     },
     "execution_count": 62,
     "metadata": {},
     "output_type": "execute_result"
    }
   ],
   "source": [
    "'x' in [1,2,3]"
   ]
  },
  {
   "cell_type": "code",
   "execution_count": 64,
   "id": "cb0bafd4-9016-48e1-a003-c1ca3bd8b897",
   "metadata": {},
   "outputs": [
    {
     "data": {
      "text/plain": [
       "True"
      ]
     },
     "execution_count": 64,
     "metadata": {},
     "output_type": "execute_result"
    }
   ],
   "source": [
    "'x' in ['x' , 'y' , 'z']"
   ]
  },
  {
   "cell_type": "code",
   "execution_count": 66,
   "id": "4f08f372-8d8b-4966-82cc-5d5f0047cf3d",
   "metadata": {},
   "outputs": [
    {
     "data": {
      "text/plain": [
       "True"
      ]
     },
     "execution_count": 66,
     "metadata": {},
     "output_type": "execute_result"
    }
   ],
   "source": [
    "'a' in 'a word'\n"
   ]
  },
  {
   "cell_type": "code",
   "execution_count": 68,
   "id": "cf1d61e6-6898-468f-b146-6483f4c371cd",
   "metadata": {},
   "outputs": [
    {
     "data": {
      "text/plain": [
       "True"
      ]
     },
     "execution_count": 68,
     "metadata": {},
     "output_type": "execute_result"
    }
   ],
   "source": [
    "'mykey' in {'mykey':345}"
   ]
  },
  {
   "cell_type": "code",
   "execution_count": 72,
   "id": "4490c10e-aec5-4f66-b741-de921e15fbf8",
   "metadata": {},
   "outputs": [
    {
     "data": {
      "text/plain": [
       "False"
      ]
     },
     "execution_count": 72,
     "metadata": {},
     "output_type": "execute_result"
    }
   ],
   "source": [
    "d = {'mykey':345}\n",
    "\n",
    "345 in d.keys()"
   ]
  },
  {
   "cell_type": "markdown",
   "id": "5940ae30-099f-49b3-b2fa-6cc6c1397816",
   "metadata": {},
   "source": [
    "## MIN , MAX AND RANDOM LIB"
   ]
  },
  {
   "cell_type": "code",
   "execution_count": 74,
   "id": "fbd76410-0835-4ba6-80f4-b7101a127e9b",
   "metadata": {},
   "outputs": [],
   "source": [
    "mylist = [10,20,30,40,50,100]"
   ]
  },
  {
   "cell_type": "code",
   "execution_count": 76,
   "id": "ff179385-2903-499f-903e-91448cc795bd",
   "metadata": {},
   "outputs": [
    {
     "data": {
      "text/plain": [
       "10"
      ]
     },
     "execution_count": 76,
     "metadata": {},
     "output_type": "execute_result"
    }
   ],
   "source": [
    "min(mylist)"
   ]
  },
  {
   "cell_type": "code",
   "execution_count": 78,
   "id": "ed1f9493-f81f-435a-8297-fd71b554555d",
   "metadata": {},
   "outputs": [
    {
     "data": {
      "text/plain": [
       "100"
      ]
     },
     "execution_count": 78,
     "metadata": {},
     "output_type": "execute_result"
    }
   ],
   "source": [
    "max(mylist)"
   ]
  },
  {
   "cell_type": "markdown",
   "id": "339e4b76-83be-4b4c-b479-815e6f5e572d",
   "metadata": {},
   "source": [
    "### import function in a library"
   ]
  },
  {
   "cell_type": "code",
   "execution_count": 80,
   "id": "a685b41d-d002-4d36-b57f-4e6c3d432d44",
   "metadata": {},
   "outputs": [],
   "source": [
    "from random import shuffle"
   ]
  },
  {
   "cell_type": "code",
   "execution_count": 82,
   "id": "bc58e2e2-2040-484b-b269-58817e3d681f",
   "metadata": {},
   "outputs": [],
   "source": [
    "mylist = [1,2,3,4,5,6,7,8,9,10]"
   ]
  },
  {
   "cell_type": "code",
   "execution_count": 92,
   "id": "b771b5d6-9380-40cb-9b2b-b5a99498f65f",
   "metadata": {},
   "outputs": [],
   "source": [
    "shuffle(mylist)"
   ]
  },
  {
   "cell_type": "code",
   "execution_count": 94,
   "id": "4be11538-a3ec-47fd-80a6-65e12e34761a",
   "metadata": {},
   "outputs": [
    {
     "data": {
      "text/plain": [
       "[4, 10, 8, 5, 6, 3, 2, 7, 1, 9]"
      ]
     },
     "execution_count": 94,
     "metadata": {},
     "output_type": "execute_result"
    }
   ],
   "source": [
    "mylist"
   ]
  },
  {
   "cell_type": "code",
   "execution_count": 96,
   "id": "85c3d423-6bac-4f48-9c28-e722c81819d1",
   "metadata": {},
   "outputs": [],
   "source": [
    "from random import randint"
   ]
  },
  {
   "cell_type": "code",
   "execution_count": 98,
   "id": "4e349b69-ad40-4edf-ba73-3f99a00a0f43",
   "metadata": {},
   "outputs": [
    {
     "data": {
      "text/plain": [
       "8"
      ]
     },
     "execution_count": 98,
     "metadata": {},
     "output_type": "execute_result"
    }
   ],
   "source": [
    "randint(0,100)"
   ]
  },
  {
   "cell_type": "code",
   "execution_count": 100,
   "id": "cebc8c13-3bea-4d90-845d-4d74b01b934c",
   "metadata": {},
   "outputs": [
    {
     "data": {
      "text/plain": [
       "22"
      ]
     },
     "execution_count": 100,
     "metadata": {},
     "output_type": "execute_result"
    }
   ],
   "source": [
    "randint(0,100)"
   ]
  },
  {
   "cell_type": "code",
   "execution_count": 102,
   "id": "256ae742-9341-461e-b465-19cee911ef6b",
   "metadata": {},
   "outputs": [],
   "source": [
    "mynum = randint(0,10)"
   ]
  },
  {
   "cell_type": "code",
   "execution_count": 104,
   "id": "102a2aeb-2b77-4f59-a9cc-3d86abea4a5e",
   "metadata": {},
   "outputs": [
    {
     "data": {
      "text/plain": [
       "9"
      ]
     },
     "execution_count": 104,
     "metadata": {},
     "output_type": "execute_result"
    }
   ],
   "source": [
    "mynum"
   ]
  },
  {
   "cell_type": "markdown",
   "id": "1c01259a-9306-4141-99c1-c7b4b056a664",
   "metadata": {},
   "source": [
    "## Accept Input From The User"
   ]
  }
 ],
 "metadata": {
  "kernelspec": {
   "display_name": "Python 3 (ipykernel)",
   "language": "python",
   "name": "python3"
  },
  "language_info": {
   "codemirror_mode": {
    "name": "ipython",
    "version": 3
   },
   "file_extension": ".py",
   "mimetype": "text/x-python",
   "name": "python",
   "nbconvert_exporter": "python",
   "pygments_lexer": "ipython3",
   "version": "3.12.4"
  }
 },
 "nbformat": 4,
 "nbformat_minor": 5
}

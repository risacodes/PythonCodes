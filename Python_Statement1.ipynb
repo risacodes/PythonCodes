{
 "cells": [
  {
   "cell_type": "markdown",
   "id": "7ac34c1a-359e-4abe-89c4-899f203c1893",
   "metadata": {},
   "source": [
    "## INPUT FROM THE USER"
   ]
  },
  {
   "cell_type": "code",
   "execution_count": 9,
   "id": "41c33995-491f-480c-af66-d76ac5c4f8b3",
   "metadata": {},
   "outputs": [
    {
     "name": "stdin",
     "output_type": "stream",
     "text": [
      "Enter a number:  40\n"
     ]
    },
    {
     "name": "stdout",
     "output_type": "stream",
     "text": [
      "You entered: 40\n"
     ]
    }
   ],
   "source": [
    "# Example cell with input\n",
    "number = input('Enter a number: ')\n",
    "print(f'You entered: {number}')\n"
   ]
  },
  {
   "cell_type": "code",
   "execution_count": 11,
   "id": "dc47238a-e68c-46cc-b21f-a253c5e46845",
   "metadata": {},
   "outputs": [
    {
     "name": "stdin",
     "output_type": "stream",
     "text": [
      "enter a number:   100\n"
     ]
    }
   ],
   "source": [
    "num = input('enter a number:  ')"
   ]
  },
  {
   "cell_type": "code",
   "execution_count": 15,
   "id": "febac2fd-d34d-448c-b026-945d98b5192c",
   "metadata": {},
   "outputs": [
    {
     "name": "stdin",
     "output_type": "stream",
     "text": [
      "enter a name:  risa\n"
     ]
    }
   ],
   "source": [
    "x = input ('enter a name: ')"
   ]
  },
  {
   "cell_type": "code",
   "execution_count": 17,
   "id": "85661269-6a0a-4f9a-978b-b23f72300239",
   "metadata": {},
   "outputs": [
    {
     "name": "stdin",
     "output_type": "stream",
     "text": [
      "enter your age :  12 \n"
     ]
    },
    {
     "data": {
      "text/plain": [
       "'12 '"
      ]
     },
     "execution_count": 17,
     "metadata": {},
     "output_type": "execute_result"
    }
   ],
   "source": [
    "input('enter your age : ')"
   ]
  },
  {
   "cell_type": "markdown",
   "id": "d0bf2828-5a14-46e7-a78a-b8b9a9867453",
   "metadata": {},
   "source": [
    "## LIST COMPREHENSIONS "
   ]
  },
  {
   "cell_type": "code",
   "execution_count": 8,
   "id": "ad76bc5a-9db0-42f7-ba1b-a9fa3f83bf49",
   "metadata": {},
   "outputs": [],
   "source": [
    "mystring = \"HELLO\""
   ]
  },
  {
   "cell_type": "code",
   "execution_count": 10,
   "id": "d33685dd-d285-443e-bcf4-f9a3233ffe00",
   "metadata": {},
   "outputs": [],
   "source": [
    "mylist = []\n",
    "\n",
    "for letter in mystring :\n",
    "    mylist.append(letter)"
   ]
  },
  {
   "cell_type": "code",
   "execution_count": 12,
   "id": "211019b0-da79-4123-929a-699833192e5c",
   "metadata": {},
   "outputs": [
    {
     "data": {
      "text/plain": [
       "['H', 'E', 'L', 'L', 'O']"
      ]
     },
     "execution_count": 12,
     "metadata": {},
     "output_type": "execute_result"
    }
   ],
   "source": [
    "mylist"
   ]
  },
  {
   "cell_type": "code",
   "execution_count": 14,
   "id": "178487d0-bf34-4b81-b92b-a04857f6dc5e",
   "metadata": {},
   "outputs": [],
   "source": [
    "mylist = [letter for letter in mystring ]"
   ]
  },
  {
   "cell_type": "code",
   "execution_count": 16,
   "id": "ea211e7e-8763-4f25-bbb4-723889bc1886",
   "metadata": {},
   "outputs": [
    {
     "data": {
      "text/plain": [
       "['H', 'E', 'L', 'L', 'O']"
      ]
     },
     "execution_count": 16,
     "metadata": {},
     "output_type": "execute_result"
    }
   ],
   "source": [
    "mylist"
   ]
  },
  {
   "cell_type": "code",
   "execution_count": 18,
   "id": "7183f1cc-004d-4724-88d1-958d53ea7ed0",
   "metadata": {},
   "outputs": [],
   "source": [
    "mylist = [x for x in \"Word\"]"
   ]
  },
  {
   "cell_type": "code",
   "execution_count": 20,
   "id": "dd29d94b-780a-4c96-a863-07ef44a68760",
   "metadata": {},
   "outputs": [
    {
     "data": {
      "text/plain": [
       "['W', 'o', 'r', 'd']"
      ]
     },
     "execution_count": 20,
     "metadata": {},
     "output_type": "execute_result"
    }
   ],
   "source": [
    "mylist"
   ]
  },
  {
   "cell_type": "code",
   "execution_count": 26,
   "id": "c6ccc2b5-af15-4172-a5c9-a69659500a22",
   "metadata": {},
   "outputs": [],
   "source": [
    "mylist = [num for num in range(0,11)]"
   ]
  },
  {
   "cell_type": "code",
   "execution_count": 28,
   "id": "a62398a3-3149-405d-8f93-e0874030213f",
   "metadata": {},
   "outputs": [
    {
     "data": {
      "text/plain": [
       "[0, 1, 2, 3, 4, 5, 6, 7, 8, 9, 10]"
      ]
     },
     "execution_count": 28,
     "metadata": {},
     "output_type": "execute_result"
    }
   ],
   "source": [
    "mylist"
   ]
  },
  {
   "cell_type": "code",
   "execution_count": 34,
   "id": "32e849fa-521d-42e4-bdeb-336919803e6e",
   "metadata": {},
   "outputs": [],
   "source": [
    "mylist = [num**2 for num in range(0,11)] ##  performs operations too  "
   ]
  },
  {
   "cell_type": "code",
   "execution_count": 36,
   "id": "70b1fc93-25f9-41ea-82b4-c63d6bbaa450",
   "metadata": {},
   "outputs": [
    {
     "data": {
      "text/plain": [
       "[0, 1, 4, 9, 16, 25, 36, 49, 64, 81, 100]"
      ]
     },
     "execution_count": 36,
     "metadata": {},
     "output_type": "execute_result"
    }
   ],
   "source": [
    "mylist"
   ]
  },
  {
   "cell_type": "code",
   "execution_count": 40,
   "id": "5f373ad9-b43f-4622-8b94-8350d07df734",
   "metadata": {},
   "outputs": [],
   "source": [
    "mylist = [num for num in range(0,11) if num%2==0]"
   ]
  },
  {
   "cell_type": "code",
   "execution_count": 42,
   "id": "f8056511-453e-4eff-9a2d-980d3b5576d2",
   "metadata": {},
   "outputs": [
    {
     "data": {
      "text/plain": [
       "[0, 2, 4, 6, 8, 10]"
      ]
     },
     "execution_count": 42,
     "metadata": {},
     "output_type": "execute_result"
    }
   ],
   "source": [
    "mylist"
   ]
  },
  {
   "cell_type": "code",
   "execution_count": 44,
   "id": "357d60ba-7373-4de4-8cec-cd65bd5e49e0",
   "metadata": {},
   "outputs": [],
   "source": [
    "mylist = [num**2 for num in range(0,11) if num%2==0]"
   ]
  },
  {
   "cell_type": "code",
   "execution_count": 46,
   "id": "9caa126a-daaf-4e2b-a8de-ff9219e799d7",
   "metadata": {},
   "outputs": [
    {
     "data": {
      "text/plain": [
       "[0, 4, 16, 36, 64, 100]"
      ]
     },
     "execution_count": 46,
     "metadata": {},
     "output_type": "execute_result"
    }
   ],
   "source": [
    "mylist\n"
   ]
  },
  {
   "cell_type": "code",
   "execution_count": 54,
   "id": "d69d8f3f-7758-4760-b330-0b229f8683e5",
   "metadata": {},
   "outputs": [],
   "source": [
    "celcius = [0, 10, 20, 34.5] \n",
    "fah= [( (9/5)*temp + 32 )for temp in celcius]   ## conversion of celcius to fah "
   ]
  },
  {
   "cell_type": "code",
   "execution_count": 56,
   "id": "bc17410f-b02f-451f-ba73-3c08cec98cdd",
   "metadata": {},
   "outputs": [
    {
     "data": {
      "text/plain": [
       "[32.0, 50.0, 68.0, 94.1]"
      ]
     },
     "execution_count": 56,
     "metadata": {},
     "output_type": "execute_result"
    }
   ],
   "source": [
    "fah "
   ]
  },
  {
   "cell_type": "code",
   "execution_count": 58,
   "id": "539cff06-eb18-4b55-b11c-5c6a469636d3",
   "metadata": {},
   "outputs": [],
   "source": [
    "fah = []\n",
    "\n",
    "for temp in celcius:\n",
    "    fah.append((9/5)*temp +32 )"
   ]
  },
  {
   "cell_type": "code",
   "execution_count": 60,
   "id": "349761b6-776c-4dce-8f60-0c11f9543d88",
   "metadata": {},
   "outputs": [
    {
     "data": {
      "text/plain": [
       "[32.0, 50.0, 68.0, 94.1]"
      ]
     },
     "execution_count": 60,
     "metadata": {},
     "output_type": "execute_result"
    }
   ],
   "source": [
    "fah"
   ]
  },
  {
   "cell_type": "markdown",
   "id": "df606c2d-1498-41f2-b9d2-c168c8b837a7",
   "metadata": {},
   "source": [
    "## if and else in comprehension "
   ]
  },
  {
   "cell_type": "code",
   "execution_count": 64,
   "id": "6ecd405a-144c-44c6-8b14-b93070628a1c",
   "metadata": {},
   "outputs": [],
   "source": [
    "result = [x if x%2==0 else 'odd' for x in range(0,11)]"
   ]
  },
  {
   "cell_type": "code",
   "execution_count": 66,
   "id": "156ced30-e26f-4b61-8126-65bdde17ef65",
   "metadata": {},
   "outputs": [
    {
     "data": {
      "text/plain": [
       "[0, 'odd', 2, 'odd', 4, 'odd', 6, 'odd', 8, 'odd', 10]"
      ]
     },
     "execution_count": 66,
     "metadata": {},
     "output_type": "execute_result"
    }
   ],
   "source": [
    "result\n"
   ]
  },
  {
   "cell_type": "markdown",
   "id": "ace52baa-2cd5-4d00-88c3-87b747d41905",
   "metadata": {},
   "source": [
    "## nested loop"
   ]
  },
  {
   "cell_type": "code",
   "execution_count": 68,
   "id": "6428d3ba-009e-4a87-a3a2-9c5757f406a4",
   "metadata": {},
   "outputs": [],
   "source": [
    "mylist = []\n",
    "\n",
    "for x in [2,4,6]:\n",
    "    for y in [100,200,300]:\n",
    "        mylist.append(x*y)\n",
    "\n"
   ]
  },
  {
   "cell_type": "code",
   "execution_count": 70,
   "id": "2f145dd9-16ef-4786-8765-908107e161cc",
   "metadata": {},
   "outputs": [
    {
     "data": {
      "text/plain": [
       "[200, 400, 600, 400, 800, 1200, 600, 1200, 1800]"
      ]
     },
     "execution_count": 70,
     "metadata": {},
     "output_type": "execute_result"
    }
   ],
   "source": [
    "mylist"
   ]
  },
  {
   "cell_type": "code",
   "execution_count": 72,
   "id": "faeab105-9d18-4efd-9acb-ab1c8e4b1879",
   "metadata": {},
   "outputs": [],
   "source": [
    "mylist = [ x*y for x in [2,4,6] for y in [100,200,300]]"
   ]
  },
  {
   "cell_type": "code",
   "execution_count": 74,
   "id": "4a3d7599-a5f1-4859-a39a-cef61e7928e4",
   "metadata": {},
   "outputs": [
    {
     "data": {
      "text/plain": [
       "[200, 400, 600, 400, 800, 1200, 600, 1200, 1800]"
      ]
     },
     "execution_count": 74,
     "metadata": {},
     "output_type": "execute_result"
    }
   ],
   "source": [
    "mylist"
   ]
  },
  {
   "cell_type": "code",
   "execution_count": null,
   "id": "1917bcc3-86ee-4bfe-88cc-21fa05958a43",
   "metadata": {},
   "outputs": [],
   "source": []
  }
 ],
 "metadata": {
  "kernelspec": {
   "display_name": "Python 3 (ipykernel)",
   "language": "python",
   "name": "python3"
  },
  "language_info": {
   "codemirror_mode": {
    "name": "ipython",
    "version": 3
   },
   "file_extension": ".py",
   "mimetype": "text/x-python",
   "name": "python",
   "nbconvert_exporter": "python",
   "pygments_lexer": "ipython3",
   "version": "3.12.4"
  }
 },
 "nbformat": 4,
 "nbformat_minor": 5
}

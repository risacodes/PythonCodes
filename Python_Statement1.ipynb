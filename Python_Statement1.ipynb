{
 "cells": [
  {
   "cell_type": "markdown",
   "id": "7ac34c1a-359e-4abe-89c4-899f203c1893",
   "metadata": {},
   "source": [
    "## INPUT FROM THE USER"
   ]
  },
  {
   "cell_type": "code",
   "execution_count": 3,
   "id": "4ee0c4d5-c863-4eb0-9e3f-6245153a888d",
   "metadata": {},
   "outputs": [
    {
     "name": "stdin",
     "output_type": "stream",
     "text": [
      "Enter a number :  50\n"
     ]
    },
    {
     "data": {
      "text/plain": [
       "'50'"
      ]
     },
     "execution_count": 3,
     "metadata": {},
     "output_type": "execute_result"
    }
   ],
   "source": [
    "input('Enter a number : ')"
   ]
  },
  {
   "cell_type": "code",
   "execution_count": null,
   "id": "1b8ccdfc-b5bc-46bf-a868-e91026e327dd",
   "metadata": {},
   "outputs": [],
   "source": [
    "input('Whats your name? ')"
   ]
  },
  {
   "cell_type": "code",
   "execution_count": null,
   "id": "6de3e2e5-41c4-46cb-8443-c3905b1569f4",
   "metadata": {},
   "outputs": [],
   "source": []
  }
 ],
 "metadata": {
  "kernelspec": {
   "display_name": "Python 3 (ipykernel)",
   "language": "python",
   "name": "python3"
  },
  "language_info": {
   "codemirror_mode": {
    "name": "ipython",
    "version": 3
   },
   "file_extension": ".py",
   "mimetype": "text/x-python",
   "name": "python",
   "nbconvert_exporter": "python",
   "pygments_lexer": "ipython3",
   "version": "3.12.4"
  }
 },
 "nbformat": 4,
 "nbformat_minor": 5
}

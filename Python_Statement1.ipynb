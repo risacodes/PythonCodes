{
 "cells": [
  {
   "cell_type": "markdown",
   "id": "7ac34c1a-359e-4abe-89c4-899f203c1893",
   "metadata": {},
   "source": [
    "## INPUT FROM THE USER"
   ]
  },
  {
   "cell_type": "code",
   "execution_count": 9,
   "id": "41c33995-491f-480c-af66-d76ac5c4f8b3",
   "metadata": {},
   "outputs": [
    {
     "name": "stdin",
     "output_type": "stream",
     "text": [
      "Enter a number:  40\n"
     ]
    },
    {
     "name": "stdout",
     "output_type": "stream",
     "text": [
      "You entered: 40\n"
     ]
    }
   ],
   "source": [
    "# Example cell with input\n",
    "number = input('Enter a number: ')\n",
    "print(f'You entered: {number}')\n"
   ]
  },
  {
   "cell_type": "code",
   "execution_count": 11,
   "id": "dc47238a-e68c-46cc-b21f-a253c5e46845",
   "metadata": {},
   "outputs": [
    {
     "name": "stdin",
     "output_type": "stream",
     "text": [
      "enter a number:   100\n"
     ]
    }
   ],
   "source": [
    "num = input('enter a number:  ')"
   ]
  },
  {
   "cell_type": "code",
   "execution_count": 15,
   "id": "febac2fd-d34d-448c-b026-945d98b5192c",
   "metadata": {},
   "outputs": [
    {
     "name": "stdin",
     "output_type": "stream",
     "text": [
      "enter a name:  risa\n"
     ]
    }
   ],
   "source": [
    "x = input ('enter a name: ')"
   ]
  },
  {
   "cell_type": "code",
   "execution_count": 17,
   "id": "85661269-6a0a-4f9a-978b-b23f72300239",
   "metadata": {},
   "outputs": [
    {
     "name": "stdin",
     "output_type": "stream",
     "text": [
      "enter your age :  12 \n"
     ]
    },
    {
     "data": {
      "text/plain": [
       "'12 '"
      ]
     },
     "execution_count": 17,
     "metadata": {},
     "output_type": "execute_result"
    }
   ],
   "source": [
    "input('enter your age : ')"
   ]
  },
  {
   "cell_type": "code",
   "execution_count": null,
   "id": "a075b63a-1430-4f4d-811e-5a145b04bbf2",
   "metadata": {},
   "outputs": [],
   "source": []
  }
 ],
 "metadata": {
  "kernelspec": {
   "display_name": "Python 3 (ipykernel)",
   "language": "python",
   "name": "python3"
  },
  "language_info": {
   "codemirror_mode": {
    "name": "ipython",
    "version": 3
   },
   "file_extension": ".py",
   "mimetype": "text/x-python",
   "name": "python",
   "nbconvert_exporter": "python",
   "pygments_lexer": "ipython3",
   "version": "3.12.4"
  }
 },
 "nbformat": 4,
 "nbformat_minor": 5
}

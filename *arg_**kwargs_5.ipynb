{
 "cells": [
  {
   "cell_type": "markdown",
   "id": "cd313a56-0680-4f2a-97d7-6324562c0c45",
   "metadata": {},
   "source": [
    "## *ARGS and **KWARGS"
   ]
  },
  {
   "cell_type": "markdown",
   "id": "2633d851-85c0-4a91-8ae9-1635c51694f9",
   "metadata": {},
   "source": [
    "#### *ARGS"
   ]
  },
  {
   "cell_type": "code",
   "execution_count": 3,
   "id": "9a4307e8-181d-4a49-8dbf-58613d4e225e",
   "metadata": {},
   "outputs": [],
   "source": [
    "def myfunc(a,b):\n",
    "    #return 5% of sum of a and b\n",
    "    return sum((a,b)) *0.05"
   ]
  },
  {
   "cell_type": "code",
   "execution_count": 5,
   "id": "1ca6937b-bc13-4d4c-94d2-68edd8ec92ac",
   "metadata": {},
   "outputs": [
    {
     "data": {
      "text/plain": [
       "5.0"
      ]
     },
     "execution_count": 5,
     "metadata": {},
     "output_type": "execute_result"
    }
   ],
   "source": [
    "myfunc(40,60)"
   ]
  },
  {
   "cell_type": "code",
   "execution_count": 13,
   "id": "060c5dc5-f216-4ddb-b3b7-6cd989855b19",
   "metadata": {},
   "outputs": [],
   "source": [
    "def myfunc(a,b,c=0,d=0,e=0):\n",
    "    #return 5% of sum of a and b\n",
    "    return sum((a,b,b,c,d,e)) *0.05"
   ]
  },
  {
   "cell_type": "code",
   "execution_count": 17,
   "id": "80caa47e-d171-4890-af47-25bdb5901eac",
   "metadata": {},
   "outputs": [
    {
     "data": {
      "text/plain": [
       "18.0"
      ]
     },
     "execution_count": 17,
     "metadata": {},
     "output_type": "execute_result"
    }
   ],
   "source": [
    "myfunc(40,60,100,100)"
   ]
  },
  {
   "cell_type": "code",
   "execution_count": 28,
   "id": "3e277c22-6476-4c5e-bec1-fd43bc69bf3d",
   "metadata": {},
   "outputs": [],
   "source": [
    "def myfunc(*args):\n",
    "    print(args)  # returns tuple"
   ]
  },
  {
   "cell_type": "code",
   "execution_count": 30,
   "id": "9bb6320a-a5c6-4085-bab8-21aa156b0c1e",
   "metadata": {},
   "outputs": [
    {
     "name": "stdout",
     "output_type": "stream",
     "text": [
      "(10, 40, 50, 6, 80)\n"
     ]
    }
   ],
   "source": [
    "myfunc(10,40,50,6,80)"
   ]
  },
  {
   "cell_type": "code",
   "execution_count": 37,
   "id": "240431b8-c9ee-4d5c-8dba-29b7dbba69d7",
   "metadata": {},
   "outputs": [],
   "source": [
    "def myfunc(*args):\n",
    "    return sum(args) * 0.05"
   ]
  },
  {
   "cell_type": "code",
   "execution_count": 41,
   "id": "368a286e-7967-4678-a5e8-a4df8e3bfdb3",
   "metadata": {},
   "outputs": [
    {
     "data": {
      "text/plain": [
       "19.0"
      ]
     },
     "execution_count": 41,
     "metadata": {},
     "output_type": "execute_result"
    }
   ],
   "source": [
    "myfunc(4,5,8,9,80,76,47,80,64,7)"
   ]
  },
  {
   "cell_type": "code",
   "execution_count": 43,
   "id": "bfd4ef2f-544c-404b-ba1b-031185c47105",
   "metadata": {},
   "outputs": [],
   "source": [
    "def myfunc(*args):\n",
    "    for item in args:\n",
    "        print(item)"
   ]
  },
  {
   "cell_type": "code",
   "execution_count": 45,
   "id": "f2b38d1a-4b22-498a-9c89-4f57752ecc26",
   "metadata": {},
   "outputs": [
    {
     "name": "stdout",
     "output_type": "stream",
     "text": [
      "5\n",
      "76\n",
      "80\n",
      "78\n"
     ]
    }
   ],
   "source": [
    "myfunc(5,76,80,78)"
   ]
  },
  {
   "cell_type": "code",
   "execution_count": null,
   "id": "023f887a-7370-49c5-87b9-f03455a727cc",
   "metadata": {},
   "outputs": [],
   "source": []
  }
 ],
 "metadata": {
  "kernelspec": {
   "display_name": "Python 3 (ipykernel)",
   "language": "python",
   "name": "python3"
  },
  "language_info": {
   "codemirror_mode": {
    "name": "ipython",
    "version": 3
   },
   "file_extension": ".py",
   "mimetype": "text/x-python",
   "name": "python",
   "nbconvert_exporter": "python",
   "pygments_lexer": "ipython3",
   "version": "3.12.4"
  }
 },
 "nbformat": 4,
 "nbformat_minor": 5
}

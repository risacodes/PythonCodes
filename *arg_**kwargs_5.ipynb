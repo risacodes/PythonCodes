{
 "cells": [
  {
   "cell_type": "markdown",
   "id": "cd313a56-0680-4f2a-97d7-6324562c0c45",
   "metadata": {},
   "source": [
    "## *ARGS and **KWARGS"
   ]
  },
  {
   "cell_type": "markdown",
   "id": "2633d851-85c0-4a91-8ae9-1635c51694f9",
   "metadata": {},
   "source": [
    "#### *ARGS\n",
    "# BULID TUPLES"
   ]
  },
  {
   "cell_type": "code",
   "execution_count": 3,
   "id": "9a4307e8-181d-4a49-8dbf-58613d4e225e",
   "metadata": {},
   "outputs": [],
   "source": [
    "def myfunc(a,b):\n",
    "    #return 5% of sum of a and b\n",
    "    return sum((a,b)) *0.05"
   ]
  },
  {
   "cell_type": "code",
   "execution_count": 5,
   "id": "1ca6937b-bc13-4d4c-94d2-68edd8ec92ac",
   "metadata": {},
   "outputs": [
    {
     "data": {
      "text/plain": [
       "5.0"
      ]
     },
     "execution_count": 5,
     "metadata": {},
     "output_type": "execute_result"
    }
   ],
   "source": [
    "myfunc(40,60)"
   ]
  },
  {
   "cell_type": "code",
   "execution_count": 13,
   "id": "060c5dc5-f216-4ddb-b3b7-6cd989855b19",
   "metadata": {},
   "outputs": [],
   "source": [
    "def myfunc(a,b,c=0,d=0,e=0):\n",
    "    #return 5% of sum of a and b\n",
    "    return sum((a,b,b,c,d,e)) *0.05"
   ]
  },
  {
   "cell_type": "code",
   "execution_count": 17,
   "id": "80caa47e-d171-4890-af47-25bdb5901eac",
   "metadata": {},
   "outputs": [
    {
     "data": {
      "text/plain": [
       "18.0"
      ]
     },
     "execution_count": 17,
     "metadata": {},
     "output_type": "execute_result"
    }
   ],
   "source": [
    "myfunc(40,60,100,100)"
   ]
  },
  {
   "cell_type": "code",
   "execution_count": 28,
   "id": "3e277c22-6476-4c5e-bec1-fd43bc69bf3d",
   "metadata": {},
   "outputs": [],
   "source": [
    "def myfunc(*args):\n",
    "    print(args)  # returns tuple"
   ]
  },
  {
   "cell_type": "code",
   "execution_count": 30,
   "id": "9bb6320a-a5c6-4085-bab8-21aa156b0c1e",
   "metadata": {},
   "outputs": [
    {
     "name": "stdout",
     "output_type": "stream",
     "text": [
      "(10, 40, 50, 6, 80)\n"
     ]
    }
   ],
   "source": [
    "myfunc(10,40,50,6,80)"
   ]
  },
  {
   "cell_type": "code",
   "execution_count": 37,
   "id": "240431b8-c9ee-4d5c-8dba-29b7dbba69d7",
   "metadata": {},
   "outputs": [],
   "source": [
    "def myfunc(*args):\n",
    "    return sum(args) * 0.05"
   ]
  },
  {
   "cell_type": "code",
   "execution_count": 41,
   "id": "368a286e-7967-4678-a5e8-a4df8e3bfdb3",
   "metadata": {},
   "outputs": [
    {
     "data": {
      "text/plain": [
       "19.0"
      ]
     },
     "execution_count": 41,
     "metadata": {},
     "output_type": "execute_result"
    }
   ],
   "source": [
    "myfunc(4,5,8,9,80,76,47,80,64,7)"
   ]
  },
  {
   "cell_type": "code",
   "execution_count": 43,
   "id": "bfd4ef2f-544c-404b-ba1b-031185c47105",
   "metadata": {},
   "outputs": [],
   "source": [
    "def myfunc(*args):\n",
    "    for item in args:\n",
    "        print(item)"
   ]
  },
  {
   "cell_type": "code",
   "execution_count": 45,
   "id": "f2b38d1a-4b22-498a-9c89-4f57752ecc26",
   "metadata": {},
   "outputs": [
    {
     "name": "stdout",
     "output_type": "stream",
     "text": [
      "5\n",
      "76\n",
      "80\n",
      "78\n"
     ]
    }
   ],
   "source": [
    "myfunc(5,76,80,78)"
   ]
  },
  {
   "cell_type": "markdown",
   "id": "65baacef-6d77-4265-97a2-0c7301b6fa7a",
   "metadata": {},
   "source": [
    "#### **KWARGS\n",
    "# BUILD DICTIONARY"
   ]
  },
  {
   "cell_type": "code",
   "execution_count": 55,
   "id": "4f8fa5cb-947a-462c-82d0-47748892ac78",
   "metadata": {},
   "outputs": [],
   "source": [
    "def myfunc(**kwargs):\n",
    "    if 'fruit' in kwargs:\n",
    "        print('My choice of fruit {}'.format(kwargs['fruit']))\n",
    "    else:\n",
    "        print('I did not find my fruit')"
   ]
  },
  {
   "cell_type": "code",
   "execution_count": 59,
   "id": "0be493fa-53ca-47ac-890d-fae197de63aa",
   "metadata": {},
   "outputs": [
    {
     "name": "stdout",
     "output_type": "stream",
     "text": [
      "My choice of fruit apple\n"
     ]
    }
   ],
   "source": [
    "myfunc(fruit='apple', veggie = 'lettuce')"
   ]
  },
  {
   "cell_type": "code",
   "execution_count": 61,
   "id": "af91e051-37cf-4f08-a435-c1d73298bf8c",
   "metadata": {},
   "outputs": [],
   "source": [
    "def myfunc(**kwargs):\n",
    "    print(kwargs)"
   ]
  },
  {
   "cell_type": "code",
   "execution_count": 63,
   "id": "f54492a5-02e1-4e9f-a83d-2f0fefe1424f",
   "metadata": {},
   "outputs": [
    {
     "name": "stdout",
     "output_type": "stream",
     "text": [
      "{'fruit': 'apple', 'veggie': 'lettuce'}\n"
     ]
    }
   ],
   "source": [
    "myfunc(fruit='apple', veggie = 'lettuce')"
   ]
  },
  {
   "cell_type": "code",
   "execution_count": 87,
   "id": "902e731b-565d-4a1f-957b-1bce383bc4c0",
   "metadata": {},
   "outputs": [],
   "source": [
    " def myfun(*args,**kwargs):\n",
    "     print('I would like {} {}'.format(args[0],kwargs['food']))"
   ]
  },
  {
   "cell_type": "code",
   "execution_count": 89,
   "id": "6a68f312-d9f1-45ae-8301-d598381f19a8",
   "metadata": {},
   "outputs": [
    {
     "ename": "TypeError",
     "evalue": "myfunc() takes 0 positional arguments but 3 were given",
     "output_type": "error",
     "traceback": [
      "\u001b[0;31m---------------------------------------------------------------------------\u001b[0m",
      "\u001b[0;31mTypeError\u001b[0m                                 Traceback (most recent call last)",
      "Cell \u001b[0;32mIn[89], line 1\u001b[0m\n\u001b[0;32m----> 1\u001b[0m myfunc(\u001b[38;5;241m10\u001b[39m,\u001b[38;5;241m20\u001b[39m,\u001b[38;5;241m30\u001b[39m,fruit\u001b[38;5;241m=\u001b[39m\u001b[38;5;124m'\u001b[39m\u001b[38;5;124mmango\u001b[39m\u001b[38;5;124m'\u001b[39m,food\u001b[38;5;241m=\u001b[39m\u001b[38;5;124m'\u001b[39m\u001b[38;5;124meggs\u001b[39m\u001b[38;5;124m'\u001b[39m,pet\u001b[38;5;241m=\u001b[39m\u001b[38;5;124m'\u001b[39m\u001b[38;5;124mdoggy\u001b[39m\u001b[38;5;124m'\u001b[39m)\n",
      "\u001b[0;31mTypeError\u001b[0m: myfunc() takes 0 positional arguments but 3 were given"
     ]
    }
   ],
   "source": [
    "##myfunc(10,20,30,fruit='mango',food='eggs',pet='doggy')"
   ]
  },
  {
   "cell_type": "code",
   "execution_count": 91,
   "id": "d0b069c7-d0cf-433b-95f8-adbfa52ed393",
   "metadata": {},
   "outputs": [
    {
     "name": "stdout",
     "output_type": "stream",
     "text": [
      "I would like apple eggs\n"
     ]
    }
   ],
   "source": [
    "myfun('apple', 'banana', food='eggs')"
   ]
  },
  {
   "cell_type": "code",
   "execution_count": null,
   "id": "490e7159-472d-42bb-8309-d4d3395c3c38",
   "metadata": {},
   "outputs": [],
   "source": []
  }
 ],
 "metadata": {
  "kernelspec": {
   "display_name": "Python 3 (ipykernel)",
   "language": "python",
   "name": "python3"
  },
  "language_info": {
   "codemirror_mode": {
    "name": "ipython",
    "version": 3
   },
   "file_extension": ".py",
   "mimetype": "text/x-python",
   "name": "python",
   "nbconvert_exporter": "python",
   "pygments_lexer": "ipython3",
   "version": "3.12.4"
  }
 },
 "nbformat": 4,
 "nbformat_minor": 5
}

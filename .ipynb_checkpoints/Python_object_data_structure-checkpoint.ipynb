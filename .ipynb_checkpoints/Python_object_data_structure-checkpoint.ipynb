{
 "cells": [
  {
   "cell_type": "markdown",
   "id": "9910db62-f247-4adb-912e-a2625a9fd080",
   "metadata": {},
   "source": [
    "# Python Object And Data Structure "
   ]
  },
  {
   "cell_type": "markdown",
   "id": "dee88d71-44e5-4720-836e-e3c48ab84dd4",
   "metadata": {},
   "source": [
    "## Var Testing "
   ]
  },
  {
   "cell_type": "code",
   "execution_count": 4,
   "id": "a1ec9653-ebca-4ac7-a3d2-01b4bdc139cf",
   "metadata": {},
   "outputs": [],
   "source": [
    "my_income= 10000\n",
    "tax_rate=0.2\n",
    "my_tax= my_income * tax_rate"
   ]
  },
  {
   "cell_type": "code",
   "execution_count": 6,
   "id": "d99f09d2-e55e-404d-b5bf-890c53bddff9",
   "metadata": {},
   "outputs": [
    {
     "data": {
      "text/plain": [
       "2000.0"
      ]
     },
     "execution_count": 6,
     "metadata": {},
     "output_type": "execute_result"
    }
   ],
   "source": [
    "my_tax"
   ]
  },
  {
   "cell_type": "code",
   "execution_count": 8,
   "id": "9eac706c-9207-404d-9cc8-2aaa4bad257e",
   "metadata": {},
   "outputs": [
    {
     "data": {
      "text/plain": [
       "float"
      ]
     },
     "execution_count": 8,
     "metadata": {},
     "output_type": "execute_result"
    }
   ],
   "source": [
    "type(my_tax)"
   ]
  },
  {
   "cell_type": "markdown",
   "id": "eb07a0ce-d109-40ed-b634-a14c6cd8d06f",
   "metadata": {},
   "source": [
    "## String Slicing "
   ]
  },
  {
   "cell_type": "code",
   "execution_count": 22,
   "id": "75f4fd25-2246-472f-bbb7-fa046e510c15",
   "metadata": {},
   "outputs": [
    {
     "data": {
      "text/plain": [
       "'hello world'"
      ]
     },
     "execution_count": 22,
     "metadata": {},
     "output_type": "execute_result"
    }
   ],
   "source": [
    "mystring = 'hello world'\n",
    "mystring "
   ]
  },
  {
   "cell_type": "code",
   "execution_count": 28,
   "id": "001679d2-85f6-4c6e-ad3e-e17b55108084",
   "metadata": {},
   "outputs": [
    {
     "data": {
      "text/plain": [
       "'h'"
      ]
     },
     "execution_count": 28,
     "metadata": {},
     "output_type": "execute_result"
    }
   ],
   "source": [
    "mystring[0]"
   ]
  },
  {
   "cell_type": "code",
   "execution_count": 30,
   "id": "df985cea-5dda-4ac0-8bd8-934ca3919aee",
   "metadata": {},
   "outputs": [
    {
     "data": {
      "text/plain": [
       "'l'"
      ]
     },
     "execution_count": 30,
     "metadata": {},
     "output_type": "execute_result"
    }
   ],
   "source": [
    "mystring[9]"
   ]
  },
  {
   "cell_type": "code",
   "execution_count": 32,
   "id": "a9df0956-4b0e-412f-9539-fc830a4f4a2c",
   "metadata": {},
   "outputs": [
    {
     "data": {
      "text/plain": [
       "'l'"
      ]
     },
     "execution_count": 32,
     "metadata": {},
     "output_type": "execute_result"
    }
   ],
   "source": [
    "mystring[-2]"
   ]
  },
  {
   "cell_type": "code",
   "execution_count": 38,
   "id": "a47202dc-6cb0-4eb2-a238-cbb38008621d",
   "metadata": {},
   "outputs": [
    {
     "data": {
      "text/plain": [
       "'abcdefghijk'"
      ]
     },
     "execution_count": 38,
     "metadata": {},
     "output_type": "execute_result"
    }
   ],
   "source": [
    "mystring = 'abcdefghijk'\n",
    "mystring "
   ]
  },
  {
   "cell_type": "code",
   "execution_count": 40,
   "id": "c1d38885-4bd1-40cd-adb4-2c45fa8fe482",
   "metadata": {},
   "outputs": [
    {
     "data": {
      "text/plain": [
       "'c'"
      ]
     },
     "execution_count": 40,
     "metadata": {},
     "output_type": "execute_result"
    }
   ],
   "source": [
    "mystring[2]\n"
   ]
  },
  {
   "cell_type": "code",
   "execution_count": 42,
   "id": "cf57584d-373b-496b-8ff6-faab0ab70cd0",
   "metadata": {},
   "outputs": [
    {
     "data": {
      "text/plain": [
       "'cdefghijk'"
      ]
     },
     "execution_count": 42,
     "metadata": {},
     "output_type": "execute_result"
    }
   ],
   "source": [
    "mystring[2:]"
   ]
  },
  {
   "cell_type": "code",
   "execution_count": 44,
   "id": "40f77841-90e2-4d16-af8b-1361dfb47c0f",
   "metadata": {},
   "outputs": [
    {
     "data": {
      "text/plain": [
       "'defghijk'"
      ]
     },
     "execution_count": 44,
     "metadata": {},
     "output_type": "execute_result"
    }
   ],
   "source": [
    "mystring[3:]"
   ]
  },
  {
   "cell_type": "code",
   "execution_count": 46,
   "id": "21fbf9e4-c30d-41a3-a37f-3f6aa4abffdf",
   "metadata": {},
   "outputs": [
    {
     "data": {
      "text/plain": [
       "'abc'"
      ]
     },
     "execution_count": 46,
     "metadata": {},
     "output_type": "execute_result"
    }
   ],
   "source": [
    "mystring[:3]"
   ]
  },
  {
   "cell_type": "code",
   "execution_count": 48,
   "id": "df442595-bd25-43aa-b7f2-123d7c85a392",
   "metadata": {},
   "outputs": [
    {
     "data": {
      "text/plain": [
       "'def'"
      ]
     },
     "execution_count": 48,
     "metadata": {},
     "output_type": "execute_result"
    }
   ],
   "source": [
    "mystring[3:6]"
   ]
  },
  {
   "cell_type": "code",
   "execution_count": 50,
   "id": "d86e0a11-1f66-44cc-838e-b4ace202848c",
   "metadata": {},
   "outputs": [
    {
     "data": {
      "text/plain": [
       "'bc'"
      ]
     },
     "execution_count": 50,
     "metadata": {},
     "output_type": "execute_result"
    }
   ],
   "source": [
    "mystring[1:3]"
   ]
  },
  {
   "cell_type": "code",
   "execution_count": 52,
   "id": "eb401df1-f31d-43d5-a0d6-d6707cc73cd8",
   "metadata": {},
   "outputs": [
    {
     "data": {
      "text/plain": [
       "'abcdefghijk'"
      ]
     },
     "execution_count": 52,
     "metadata": {},
     "output_type": "execute_result"
    }
   ],
   "source": [
    "mystring[::]"
   ]
  },
  {
   "cell_type": "code",
   "execution_count": 54,
   "id": "b1599ef0-afc4-4bf1-8ad9-52d100285333",
   "metadata": {},
   "outputs": [
    {
     "data": {
      "text/plain": [
       "'acegik'"
      ]
     },
     "execution_count": 54,
     "metadata": {},
     "output_type": "execute_result"
    }
   ],
   "source": [
    "mystring[::2]"
   ]
  },
  {
   "cell_type": "code",
   "execution_count": 56,
   "id": "911b1d70-57a4-498e-8334-b3dd2540ef44",
   "metadata": {},
   "outputs": [
    {
     "data": {
      "text/plain": [
       "'ceg'"
      ]
     },
     "execution_count": 56,
     "metadata": {},
     "output_type": "execute_result"
    }
   ],
   "source": [
    "mystring[2:7:2]"
   ]
  },
  {
   "cell_type": "code",
   "execution_count": 58,
   "id": "f6942e6d-42c3-444a-abe1-6de2ada2270f",
   "metadata": {},
   "outputs": [
    {
     "data": {
      "text/plain": [
       "'kjihgfedcba'"
      ]
     },
     "execution_count": 58,
     "metadata": {},
     "output_type": "execute_result"
    }
   ],
   "source": [
    "mystring[::-1]"
   ]
  },
  {
   "cell_type": "code",
   "execution_count": null,
   "id": "ed53fb8c-08dd-45c3-b330-4b09b8809fbe",
   "metadata": {},
   "outputs": [],
   "source": []
  }
 ],
 "metadata": {
  "kernelspec": {
   "display_name": "Python 3 (ipykernel)",
   "language": "python",
   "name": "python3"
  },
  "language_info": {
   "codemirror_mode": {
    "name": "ipython",
    "version": 3
   },
   "file_extension": ".py",
   "mimetype": "text/x-python",
   "name": "python",
   "nbconvert_exporter": "python",
   "pygments_lexer": "ipython3",
   "version": "3.12.4"
  }
 },
 "nbformat": 4,
 "nbformat_minor": 5
}

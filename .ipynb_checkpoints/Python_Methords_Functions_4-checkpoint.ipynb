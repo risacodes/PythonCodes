{
 "cells": [
  {
   "cell_type": "markdown",
   "id": "0d89902c-bd78-4752-b008-e803a58d7c0a",
   "metadata": {},
   "source": [
    "## METHOD AND FUNCTION "
   ]
  },
  {
   "cell_type": "markdown",
   "id": "4460b36f-efbe-4a3f-a1c9-8e4d6753d0d7",
   "metadata": {},
   "source": [
    "### DOCUMENTATION OF MTHOD AND FUNCTION"
   ]
  },
  {
   "cell_type": "code",
   "execution_count": 3,
   "id": "4917a089-ffd3-4ef6-b24b-92b690e1aa9c",
   "metadata": {},
   "outputs": [],
   "source": [
    "mylist = [1,2,3]"
   ]
  },
  {
   "cell_type": "code",
   "execution_count": 4,
   "id": "c4d22034-d7ff-4ef3-b8b2-e1b0b9876592",
   "metadata": {},
   "outputs": [],
   "source": [
    "mylist.append(4)"
   ]
  },
  {
   "cell_type": "code",
   "execution_count": 5,
   "id": "998201a9-260d-4909-b7c9-15c318b3cba1",
   "metadata": {},
   "outputs": [
    {
     "data": {
      "text/plain": [
       "[1, 2, 3, 4]"
      ]
     },
     "execution_count": 5,
     "metadata": {},
     "output_type": "execute_result"
    }
   ],
   "source": [
    "mylist"
   ]
  },
  {
   "cell_type": "code",
   "execution_count": 6,
   "id": "f6b2452d-293e-4e7f-9577-8c2c966ad609",
   "metadata": {},
   "outputs": [
    {
     "data": {
      "text/plain": [
       "4"
      ]
     },
     "execution_count": 6,
     "metadata": {},
     "output_type": "execute_result"
    }
   ],
   "source": [
    "mylist.pop()"
   ]
  },
  {
   "cell_type": "code",
   "execution_count": 7,
   "id": "ad9ac2e8-f362-4932-b1ae-1113dcae9425",
   "metadata": {},
   "outputs": [
    {
     "data": {
      "text/plain": [
       "[1, 2, 3]"
      ]
     },
     "execution_count": 7,
     "metadata": {},
     "output_type": "execute_result"
    }
   ],
   "source": [
    "mylist"
   ]
  },
  {
   "cell_type": "code",
   "execution_count": 8,
   "id": "c07f1944-3b68-4160-be5d-092c6c63b44f",
   "metadata": {},
   "outputs": [
    {
     "name": "stdout",
     "output_type": "stream",
     "text": [
      "Help on built-in function insert:\n",
      "\n",
      "insert(index, object, /) method of builtins.list instance\n",
      "    Insert object before index.\n",
      "\n"
     ]
    }
   ],
   "source": [
    "help(mylist.insert)"
   ]
  },
  {
   "cell_type": "markdown",
   "id": "7a631d82-dc67-4290-901d-97f7412680b9",
   "metadata": {},
   "source": [
    "### FUNCTION"
   ]
  },
  {
   "cell_type": "markdown",
   "id": "2cbee669-7f65-45fb-8ba8-626ac3af4636",
   "metadata": {},
   "source": [
    "#### DEF KEYWORD AND RETURN KEYWORD"
   ]
  },
  {
   "cell_type": "code",
   "execution_count": 11,
   "id": "185951db-4bdb-4e48-886c-0a76face99a0",
   "metadata": {},
   "outputs": [],
   "source": [
    "def say_hello():\n",
    "    print('hello')"
   ]
  },
  {
   "cell_type": "code",
   "execution_count": 12,
   "id": "4ce81a51-87ed-4cdb-9b55-f24b4bd52b74",
   "metadata": {},
   "outputs": [
    {
     "name": "stdout",
     "output_type": "stream",
     "text": [
      "hello\n"
     ]
    }
   ],
   "source": [
    "say_hello()"
   ]
  },
  {
   "cell_type": "code",
   "execution_count": 13,
   "id": "c00076a0-5f2b-4775-9508-2740040151a3",
   "metadata": {},
   "outputs": [
    {
     "data": {
      "text/plain": [
       "<function __main__.say_hello()>"
      ]
     },
     "execution_count": 13,
     "metadata": {},
     "output_type": "execute_result"
    }
   ],
   "source": [
    "say_hello"
   ]
  },
  {
   "cell_type": "code",
   "execution_count": 14,
   "id": "f38fdf94-c930-4c2f-b976-710c792ab472",
   "metadata": {},
   "outputs": [],
   "source": [
    "def say_hello(name):\n",
    "    print(f'hello {name}')"
   ]
  },
  {
   "cell_type": "code",
   "execution_count": 15,
   "id": "5491ad96-460f-4c2d-9dc4-843cde06011d",
   "metadata": {},
   "outputs": [
    {
     "name": "stdout",
     "output_type": "stream",
     "text": [
      "hello Jose\n"
     ]
    }
   ],
   "source": [
    "say_hello('Jose')"
   ]
  },
  {
   "cell_type": "code",
   "execution_count": 16,
   "id": "867c2451-c4a1-4576-89ba-c66c9fc61ef8",
   "metadata": {},
   "outputs": [],
   "source": [
    "def say_hello(name ='default'):\n",
    "    print(f'hello {name}')"
   ]
  },
  {
   "cell_type": "code",
   "execution_count": 17,
   "id": "f9385680-39fd-4c91-a201-dbadc24adb25",
   "metadata": {},
   "outputs": [
    {
     "name": "stdout",
     "output_type": "stream",
     "text": [
      "hello default\n"
     ]
    }
   ],
   "source": [
    "say_hello()"
   ]
  },
  {
   "cell_type": "code",
   "execution_count": 18,
   "id": "90c971ee-0d29-41b9-bfe1-86b2e52c2f17",
   "metadata": {},
   "outputs": [],
   "source": [
    "def add_num(num1,num2):\n",
    "    return num1+num2"
   ]
  },
  {
   "cell_type": "code",
   "execution_count": 19,
   "id": "e7921926-7d81-411f-bd1f-f0cc1e33d2cd",
   "metadata": {},
   "outputs": [
    {
     "data": {
      "text/plain": [
       "30"
      ]
     },
     "execution_count": 19,
     "metadata": {},
     "output_type": "execute_result"
    }
   ],
   "source": [
    "add_num(10,20)"
   ]
  },
  {
   "cell_type": "code",
   "execution_count": 20,
   "id": "44d9c131-87ad-45d6-af12-35b2ea4cc083",
   "metadata": {},
   "outputs": [],
   "source": [
    "def add_num(num1,num2):\n",
    "    return num1+num2"
   ]
  },
  {
   "cell_type": "code",
   "execution_count": 21,
   "id": "011c033f-956d-4b3d-b53d-7145df4e1042",
   "metadata": {},
   "outputs": [],
   "source": [
    "result = add_num(20,20)"
   ]
  },
  {
   "cell_type": "code",
   "execution_count": 22,
   "id": "c4b7747d-bd9a-44d7-9062-40f745257607",
   "metadata": {},
   "outputs": [
    {
     "data": {
      "text/plain": [
       "40"
      ]
     },
     "execution_count": 22,
     "metadata": {},
     "output_type": "execute_result"
    }
   ],
   "source": [
    "result\n"
   ]
  },
  {
   "cell_type": "code",
   "execution_count": 23,
   "id": "ec005f64-2152-4f65-9e48-4e88f72b168c",
   "metadata": {},
   "outputs": [],
   "source": [
    "x= add_num(30,20)"
   ]
  },
  {
   "cell_type": "code",
   "execution_count": 24,
   "id": "00c4bf52-2633-40a2-843f-a27677d7c731",
   "metadata": {},
   "outputs": [
    {
     "data": {
      "text/plain": [
       "50"
      ]
     },
     "execution_count": 24,
     "metadata": {},
     "output_type": "execute_result"
    }
   ],
   "source": [
    "x"
   ]
  },
  {
   "cell_type": "code",
   "execution_count": 25,
   "id": "f97cb7d4-236b-43e0-b56f-79a912323783",
   "metadata": {},
   "outputs": [],
   "source": [
    "def print_result(a,b):\n",
    "    print(a+b)"
   ]
  },
  {
   "cell_type": "code",
   "execution_count": 26,
   "id": "61bd0ee9-fca7-4630-a757-5c4b01b2ec96",
   "metadata": {},
   "outputs": [],
   "source": [
    "def return_result(a,b):\n",
    "    return a+b"
   ]
  },
  {
   "cell_type": "code",
   "execution_count": 27,
   "id": "2a2b147d-d89d-4063-826f-407a5b2b2dce",
   "metadata": {},
   "outputs": [
    {
     "name": "stdout",
     "output_type": "stream",
     "text": [
      "30\n"
     ]
    }
   ],
   "source": [
    "print_result(10,20)"
   ]
  },
  {
   "cell_type": "code",
   "execution_count": 28,
   "id": "388ed38c-e24f-4586-979b-696c984949fe",
   "metadata": {},
   "outputs": [],
   "source": [
    "x = return_result(10,20)"
   ]
  },
  {
   "cell_type": "code",
   "execution_count": 29,
   "id": "f4e4d22c-6640-49b9-85ce-f2c5755c0236",
   "metadata": {},
   "outputs": [
    {
     "data": {
      "text/plain": [
       "30"
      ]
     },
     "execution_count": 29,
     "metadata": {},
     "output_type": "execute_result"
    }
   ],
   "source": [
    "x"
   ]
  },
  {
   "cell_type": "code",
   "execution_count": 30,
   "id": "c8b34061-18d9-4a31-a391-2ccae7dc261a",
   "metadata": {},
   "outputs": [],
   "source": [
    "def myfun(a,b):\n",
    "    print(a+b)\n",
    "    return a+b"
   ]
  },
  {
   "cell_type": "code",
   "execution_count": 31,
   "id": "47bf5250-9425-473b-839d-4835a23963ef",
   "metadata": {},
   "outputs": [
    {
     "name": "stdout",
     "output_type": "stream",
     "text": [
      "30\n"
     ]
    }
   ],
   "source": [
    "result = myfun(10,20)"
   ]
  },
  {
   "cell_type": "code",
   "execution_count": 32,
   "id": "7990f588-2069-4808-b222-186da73bb493",
   "metadata": {},
   "outputs": [
    {
     "data": {
      "text/plain": [
       "30"
      ]
     },
     "execution_count": 32,
     "metadata": {},
     "output_type": "execute_result"
    }
   ],
   "source": [
    "result"
   ]
  },
  {
   "cell_type": "markdown",
   "id": "2479f58e-90cd-486e-93ea-538189826935",
   "metadata": {},
   "source": [
    "### LOGIC WITH PYTHON FUNCTION "
   ]
  },
  {
   "cell_type": "markdown",
   "id": "cac32fc9-32c1-40ec-9ab0-490e450bad69",
   "metadata": {},
   "source": [
    "## CHECK FOR EVEN NO."
   ]
  },
  {
   "cell_type": "code",
   "execution_count": 35,
   "id": "705d35f0-5bb4-4e16-a5c9-a9fd58f15d50",
   "metadata": {},
   "outputs": [
    {
     "data": {
      "text/plain": [
       "True"
      ]
     },
     "execution_count": 35,
     "metadata": {},
     "output_type": "execute_result"
    }
   ],
   "source": [
    "20%2==0"
   ]
  },
  {
   "cell_type": "code",
   "execution_count": 36,
   "id": "7f63093d-efa5-4250-9016-b890ae05ef60",
   "metadata": {},
   "outputs": [
    {
     "data": {
      "text/plain": [
       "False"
      ]
     },
     "execution_count": 36,
     "metadata": {},
     "output_type": "execute_result"
    }
   ],
   "source": [
    "21%2==0"
   ]
  },
  {
   "cell_type": "code",
   "execution_count": 37,
   "id": "8806e1f5-8820-4d6e-98ea-28e6bb22f83b",
   "metadata": {},
   "outputs": [],
   "source": [
    "def even_check(num):\n",
    "    return num%2==0"
   ]
  },
  {
   "cell_type": "code",
   "execution_count": 38,
   "id": "612a28df-f825-4509-abf6-b26201aaed6d",
   "metadata": {},
   "outputs": [
    {
     "data": {
      "text/plain": [
       "True"
      ]
     },
     "execution_count": 38,
     "metadata": {},
     "output_type": "execute_result"
    }
   ],
   "source": [
    "even_check(20)"
   ]
  },
  {
   "cell_type": "code",
   "execution_count": 39,
   "id": "d5a828a7-0c28-423c-b794-f68b4a8513c7",
   "metadata": {},
   "outputs": [
    {
     "data": {
      "text/plain": [
       "False"
      ]
     },
     "execution_count": 39,
     "metadata": {},
     "output_type": "execute_result"
    }
   ],
   "source": [
    "even_check(21)"
   ]
  },
  {
   "cell_type": "markdown",
   "id": "2b0ae4a9-874f-42be-bfc2-4eeafd043932",
   "metadata": {},
   "source": [
    "## check even for a list"
   ]
  },
  {
   "cell_type": "code",
   "execution_count": 41,
   "id": "f5e60554-54d6-4c64-99c3-0baca8d9b162",
   "metadata": {},
   "outputs": [],
   "source": [
    "def even_check_list(num_list):\n",
    "    for num in num_list:\n",
    "        if num%2 == 0:\n",
    "            return True\n",
    "        else:\n",
    "            pass\n",
    "            \n",
    "    return False"
   ]
  },
  {
   "cell_type": "code",
   "execution_count": 42,
   "id": "7578d598-ff37-4cce-bd7d-f44d4402284b",
   "metadata": {},
   "outputs": [
    {
     "data": {
      "text/plain": [
       "False"
      ]
     },
     "execution_count": 42,
     "metadata": {},
     "output_type": "execute_result"
    }
   ],
   "source": [
    "even_check_list([1,3,5])"
   ]
  },
  {
   "cell_type": "code",
   "execution_count": 43,
   "id": "9cad8a1c-27d4-4898-a351-c72d9b34a847",
   "metadata": {},
   "outputs": [
    {
     "data": {
      "text/plain": [
       "True"
      ]
     },
     "execution_count": 43,
     "metadata": {},
     "output_type": "execute_result"
    }
   ],
   "source": [
    "even_check_list([2,4,5])"
   ]
  },
  {
   "cell_type": "code",
   "execution_count": 44,
   "id": "bebdb2e7-ac81-4306-81cc-8217f45b3ceb",
   "metadata": {},
   "outputs": [
    {
     "data": {
      "text/plain": [
       "True"
      ]
     },
     "execution_count": 44,
     "metadata": {},
     "output_type": "execute_result"
    }
   ],
   "source": [
    "even_check_list([2,1,1,1])"
   ]
  },
  {
   "cell_type": "code",
   "execution_count": 45,
   "id": "f48abb78-3e23-4ffb-a5d3-4df62f9fa5fc",
   "metadata": {},
   "outputs": [
    {
     "data": {
      "text/plain": [
       "True"
      ]
     },
     "execution_count": 45,
     "metadata": {},
     "output_type": "execute_result"
    }
   ],
   "source": [
    "even_check_list([1,1,1,1,2])"
   ]
  },
  {
   "cell_type": "code",
   "execution_count": 46,
   "id": "db0365ad-d2c8-476e-9c24-1c183e1deeec",
   "metadata": {},
   "outputs": [],
   "source": [
    "def even_check_list(num_list):\n",
    "    #RETURN ALL THE EVEN NO IN THE LIST\n",
    "\n",
    "    ## place holder for the numbers\n",
    "    even_number = []\n",
    "    \n",
    "    for num in num_list:\n",
    "        if num%2 == 0:\n",
    "            even_number.append(num)\n",
    "       \n",
    "        else:\n",
    "            pass\n",
    "            \n",
    "    return even_number\n",
    "            \n",
    "  "
   ]
  },
  {
   "cell_type": "code",
   "execution_count": 47,
   "id": "131e9dc9-db7f-4104-a8ba-6f2ffb225f5e",
   "metadata": {},
   "outputs": [
    {
     "data": {
      "text/plain": [
       "[2, 4]"
      ]
     },
     "execution_count": 47,
     "metadata": {},
     "output_type": "execute_result"
    }
   ],
   "source": [
    "even_check_list([2,4,5])"
   ]
  },
  {
   "cell_type": "code",
   "execution_count": 48,
   "id": "30c0fc4f-3ac5-4f38-a055-da03b5f6fa25",
   "metadata": {},
   "outputs": [
    {
     "data": {
      "text/plain": [
       "[2]"
      ]
     },
     "execution_count": 48,
     "metadata": {},
     "output_type": "execute_result"
    }
   ],
   "source": [
    "even_check_list([1,1,1,1,2])"
   ]
  },
  {
   "cell_type": "markdown",
   "id": "ef4768c6-e056-4d41-aad4-398f679bf754",
   "metadata": {},
   "source": [
    "## TUPLE WITH PYTHON FUNCTION"
   ]
  },
  {
   "cell_type": "markdown",
   "id": "f6fad0f6-c0ef-4f1e-bc22-5fa15a93021b",
   "metadata": {},
   "source": [
    "## TUPLE UNPACKING"
   ]
  },
  {
   "cell_type": "code",
   "execution_count": 51,
   "id": "738c27bf-9c78-4e88-a147-dc367b18b461",
   "metadata": {},
   "outputs": [],
   "source": [
    "stock_price = [('apple',100),('goog',200),('msft',300)]"
   ]
  },
  {
   "cell_type": "code",
   "execution_count": 52,
   "id": "eed369a1-39a5-4bba-bbb3-fff0e2bd897a",
   "metadata": {},
   "outputs": [
    {
     "name": "stdout",
     "output_type": "stream",
     "text": [
      "('apple', 100)\n",
      "('goog', 200)\n",
      "('msft', 300)\n"
     ]
    }
   ],
   "source": [
    "for item in stock_price:\n",
    "    print(item)"
   ]
  },
  {
   "cell_type": "code",
   "execution_count": 53,
   "id": "c5d39023-2946-4d03-92e2-e9b2be643d38",
   "metadata": {},
   "outputs": [
    {
     "name": "stdout",
     "output_type": "stream",
     "text": [
      "apple\n",
      "100\n",
      "goog\n",
      "200\n",
      "msft\n",
      "300\n"
     ]
    }
   ],
   "source": [
    "for ticker,price in stock_price:\n",
    "    print(ticker)\n",
    "    print(price)"
   ]
  },
  {
   "cell_type": "code",
   "execution_count": 54,
   "id": "5022b5b6-fcfe-454f-a5ac-ae297fd6c07d",
   "metadata": {},
   "outputs": [
    {
     "name": "stdout",
     "output_type": "stream",
     "text": [
      "110.0\n",
      "220.0\n",
      "330.0\n"
     ]
    }
   ],
   "source": [
    "for ticker,price in stock_price:\n",
    "    print(price+(price*0.1))"
   ]
  },
  {
   "cell_type": "code",
   "execution_count": 55,
   "id": "89b98b11-39cf-4b81-a8c1-dd0b8325bb02",
   "metadata": {},
   "outputs": [],
   "source": [
    "work_hours = [('Abby',100), ('Billy',400) , ('Cassie',800)]"
   ]
  },
  {
   "cell_type": "code",
   "execution_count": 56,
   "id": "0537e52e-607e-48f4-ae2d-187f0b57569f",
   "metadata": {},
   "outputs": [],
   "source": [
    "def employee_check(work_hours):\n",
    "\n",
    "    current_max=0\n",
    "    employee_of_month = ''\n",
    "\n",
    "    for employee,hours in work_hours:\n",
    "        if hours > current_max:\n",
    "            current_max = hours\n",
    "            employee_of_month = employee\n",
    "        else:\n",
    "            pass\n",
    "    return(employee_of_month,current_max)"
   ]
  },
  {
   "cell_type": "code",
   "execution_count": 57,
   "id": "2e56ef37-d3cb-4829-802f-505b7d3940e2",
   "metadata": {},
   "outputs": [],
   "source": [
    "result = employee_check(work_hours)"
   ]
  },
  {
   "cell_type": "code",
   "execution_count": 58,
   "id": "593f4066-ff5e-43d9-afd1-14fdc936711a",
   "metadata": {},
   "outputs": [],
   "source": [
    "name,hours = employee_check(work_hours)"
   ]
  },
  {
   "cell_type": "code",
   "execution_count": 59,
   "id": "7e006b45-1169-4d20-a485-614bb0c85308",
   "metadata": {},
   "outputs": [
    {
     "data": {
      "text/plain": [
       "('Cassie', 800)"
      ]
     },
     "execution_count": 59,
     "metadata": {},
     "output_type": "execute_result"
    }
   ],
   "source": [
    "result"
   ]
  },
  {
   "cell_type": "code",
   "execution_count": 60,
   "id": "49159a45-c952-471b-9d9c-2c0619eaabc0",
   "metadata": {},
   "outputs": [
    {
     "data": {
      "text/plain": [
       "'Cassie'"
      ]
     },
     "execution_count": 60,
     "metadata": {},
     "output_type": "execute_result"
    }
   ],
   "source": [
    "name"
   ]
  },
  {
   "cell_type": "code",
   "execution_count": 61,
   "id": "7499c675-5c95-46c4-b042-d4d54aa031bd",
   "metadata": {},
   "outputs": [
    {
     "data": {
      "text/plain": [
       "800"
      ]
     },
     "execution_count": 61,
     "metadata": {},
     "output_type": "execute_result"
    }
   ],
   "source": [
    "hours"
   ]
  },
  {
   "cell_type": "code",
   "execution_count": 62,
   "id": "e5904542-63e8-40b2-8194-e5b00193a118",
   "metadata": {},
   "outputs": [],
   "source": [
    "item = employee_check(work_hours)"
   ]
  },
  {
   "cell_type": "code",
   "execution_count": 63,
   "id": "445eb862-2c3f-4a2f-8e4b-ddff81004e0c",
   "metadata": {},
   "outputs": [
    {
     "data": {
      "text/plain": [
       "('Cassie', 800)"
      ]
     },
     "execution_count": 63,
     "metadata": {},
     "output_type": "execute_result"
    }
   ],
   "source": [
    "item"
   ]
  },
  {
   "cell_type": "markdown",
   "id": "0f0aef76-26db-4c5f-9566-3a4bd3dabf7a",
   "metadata": {},
   "source": [
    "## INTERACTION B/W PYTHON FUNCTIONS"
   ]
  },
  {
   "cell_type": "markdown",
   "id": "88339f8d-1407-4942-b8fa-d5dcbc68fef6",
   "metadata": {},
   "source": [
    "### THREE CUP MONTE"
   ]
  },
  {
   "cell_type": "code",
   "execution_count": 65,
   "id": "a935dfcb-50e7-41fb-af06-80a96c8d7545",
   "metadata": {},
   "outputs": [],
   "source": [
    "example = [1,2,3,4,5,6,7]"
   ]
  },
  {
   "cell_type": "code",
   "execution_count": 66,
   "id": "a9ed63f0-3869-46b8-969c-d4d0f0422ddb",
   "metadata": {},
   "outputs": [],
   "source": [
    "from random import shuffle"
   ]
  },
  {
   "cell_type": "code",
   "execution_count": 67,
   "id": "32b5ea43-af74-469c-9f4b-6586354c0d74",
   "metadata": {},
   "outputs": [],
   "source": [
    "shuffle(example)"
   ]
  },
  {
   "cell_type": "code",
   "execution_count": 68,
   "id": "cfb4ce5c-0e0e-4bc4-9145-34b9fa3ef74f",
   "metadata": {},
   "outputs": [
    {
     "data": {
      "text/plain": [
       "[7, 4, 1, 2, 5, 6, 3]"
      ]
     },
     "execution_count": 68,
     "metadata": {},
     "output_type": "execute_result"
    }
   ],
   "source": [
    "example"
   ]
  },
  {
   "cell_type": "code",
   "execution_count": 69,
   "id": "6b14fdb9-227c-493a-acd8-10d8da189aa9",
   "metadata": {},
   "outputs": [],
   "source": [
    "def shuffle_list(mylist):\n",
    "    shuffle (mylist)\n",
    "    return mylist"
   ]
  },
  {
   "cell_type": "code",
   "execution_count": 70,
   "id": "7e275b11-aaeb-4679-b818-9dc239b3644f",
   "metadata": {},
   "outputs": [],
   "source": [
    "result = shuffle_list(example)"
   ]
  },
  {
   "cell_type": "code",
   "execution_count": 71,
   "id": "08c86ad3-6b0e-497d-9ff6-86049157d9be",
   "metadata": {},
   "outputs": [
    {
     "data": {
      "text/plain": [
       "[2, 1, 6, 4, 5, 7, 3]"
      ]
     },
     "execution_count": 71,
     "metadata": {},
     "output_type": "execute_result"
    }
   ],
   "source": [
    "result"
   ]
  },
  {
   "cell_type": "code",
   "execution_count": 72,
   "id": "dbdbdfdf-2291-4624-beff-7493af44e074",
   "metadata": {},
   "outputs": [],
   "source": [
    "mylist = ['','O','']"
   ]
  },
  {
   "cell_type": "code",
   "execution_count": 73,
   "id": "eab82aa2-6131-452f-91ed-e22e4fe71d14",
   "metadata": {},
   "outputs": [
    {
     "data": {
      "text/plain": [
       "['O', '', '']"
      ]
     },
     "execution_count": 73,
     "metadata": {},
     "output_type": "execute_result"
    }
   ],
   "source": [
    "shuffle_list(mylist)"
   ]
  },
  {
   "cell_type": "code",
   "execution_count": 74,
   "id": "36f05b68-9d15-4384-99e5-ba3fe8d827b6",
   "metadata": {},
   "outputs": [],
   "source": [
    "def player_guess():\n",
    "    guess = ''\n",
    "    while guess not in ['0','1','2']:\n",
    "         guess = input(\"pick a number: 0,1 or 2\")\n",
    "    return int(guess)\n",
    "        \n",
    "   \n",
    "\n"
   ]
  },
  {
   "cell_type": "code",
   "execution_count": 139,
   "id": "e8adfb4d-e0dc-40dd-9c6c-67c7782a58df",
   "metadata": {},
   "outputs": [
    {
     "name": "stdin",
     "output_type": "stream",
     "text": [
      "pick a number: 0,1 or 2 2\n"
     ]
    }
   ],
   "source": [
    "my_index = player_guess()"
   ]
  },
  {
   "cell_type": "code",
   "execution_count": 141,
   "id": "4c8b43e0-b3cb-48cd-bc09-4d66a03212b0",
   "metadata": {},
   "outputs": [
    {
     "data": {
      "text/plain": [
       "2"
      ]
     },
     "execution_count": 141,
     "metadata": {},
     "output_type": "execute_result"
    }
   ],
   "source": [
    "my_index"
   ]
  },
  {
   "cell_type": "code",
   "execution_count": 143,
   "id": "8bf4e737-81fa-48f9-aa29-8e791a108b67",
   "metadata": {},
   "outputs": [],
   "source": [
    "def check_guess(mylist,guess):\n",
    "    if mylist[guess] == 'O':\n",
    "        print('Correct!')\n",
    "    else:\n",
    "        print('Wrong guess!')\n",
    "        print(mylist)"
   ]
  },
  {
   "cell_type": "code",
   "execution_count": 147,
   "id": "09288a93-acbc-41c6-b591-77b2be47b68c",
   "metadata": {},
   "outputs": [
    {
     "name": "stdin",
     "output_type": "stream",
     "text": [
      "pick a number: 0,1 or 2 1\n"
     ]
    },
    {
     "name": "stdout",
     "output_type": "stream",
     "text": [
      "Wrong guess!\n",
      "['', '', 'O']\n"
     ]
    }
   ],
   "source": [
    "# INTIAL LIST \n",
    "mylist = ['','O','']\n",
    "\n",
    "# SHUFFLE LIST\n",
    "mixedup_list = shuffle_list(mylist)\n",
    "\n",
    "# USER GUESS \n",
    "guess = player_guess()\n",
    "\n",
    "# CHECK GUESS \n",
    "check_guess(mixedup_list,guess)"
   ]
  },
  {
   "cell_type": "code",
   "execution_count": null,
   "id": "8f6abcdd-b59c-4a45-a35a-489c9373b01d",
   "metadata": {},
   "outputs": [],
   "source": []
  }
 ],
 "metadata": {
  "kernelspec": {
   "display_name": "Python 3 (ipykernel)",
   "language": "python",
   "name": "python3"
  },
  "language_info": {
   "codemirror_mode": {
    "name": "ipython",
    "version": 3
   },
   "file_extension": ".py",
   "mimetype": "text/x-python",
   "name": "python",
   "nbconvert_exporter": "python",
   "pygments_lexer": "ipython3",
   "version": "3.12.4"
  }
 },
 "nbformat": 4,
 "nbformat_minor": 5
}

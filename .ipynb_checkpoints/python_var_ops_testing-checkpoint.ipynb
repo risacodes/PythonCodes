{
 "cells": [
  {
   "cell_type": "code",
   "execution_count": 3,
   "id": "a1ec9653-ebca-4ac7-a3d2-01b4bdc139cf",
   "metadata": {},
   "outputs": [],
   "source": [
    "my_income= 10000\n",
    "tax_rate=0.2\n",
    "my_tax= my_income * tax_rate"
   ]
  },
  {
   "cell_type": "code",
   "execution_count": 5,
   "id": "d99f09d2-e55e-404d-b5bf-890c53bddff9",
   "metadata": {},
   "outputs": [
    {
     "data": {
      "text/plain": [
       "2000.0"
      ]
     },
     "execution_count": 5,
     "metadata": {},
     "output_type": "execute_result"
    }
   ],
   "source": [
    "my_tax"
   ]
  },
  {
   "cell_type": "code",
   "execution_count": null,
   "id": "9eac706c-9207-404d-9cc8-2aaa4bad257e",
   "metadata": {},
   "outputs": [],
   "source": []
  }
 ],
 "metadata": {
  "kernelspec": {
   "display_name": "Python 3 (ipykernel)",
   "language": "python",
   "name": "python3"
  },
  "language_info": {
   "codemirror_mode": {
    "name": "ipython",
    "version": 3
   },
   "file_extension": ".py",
   "mimetype": "text/x-python",
   "name": "python",
   "nbconvert_exporter": "python",
   "pygments_lexer": "ipython3",
   "version": "3.12.4"
  }
 },
 "nbformat": 4,
 "nbformat_minor": 5
}

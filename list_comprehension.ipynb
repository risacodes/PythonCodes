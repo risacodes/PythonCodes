{
 "cells": [
  {
   "cell_type": "markdown",
   "id": "2d8d18b8-ee58-4202-9401-d139a712e770",
   "metadata": {},
   "source": [
    "## LIST COMPREHENSION IN PYTHON"
   ]
  },
  {
   "cell_type": "code",
   "execution_count": null,
   "id": "8ef79cf9-dd2a-4b8f-a3f4-dddce9cdad3e",
   "metadata": {},
   "outputs": [],
   "source": []
  }
 ],
 "metadata": {
  "kernelspec": {
   "display_name": "Python 3 (ipykernel)",
   "language": "python",
   "name": "python3"
  },
  "language_info": {
   "codemirror_mode": {
    "name": "ipython",
    "version": 3
   },
   "file_extension": ".py",
   "mimetype": "text/x-python",
   "name": "python",
   "nbconvert_exporter": "python",
   "pygments_lexer": "ipython3",
   "version": "3.12.4"
  }
 },
 "nbformat": 4,
 "nbformat_minor": 5
}

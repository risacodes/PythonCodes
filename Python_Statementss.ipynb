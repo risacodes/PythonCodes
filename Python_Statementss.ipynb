{
 "cells": [
  {
   "cell_type": "markdown",
   "id": "2196b41b-fa91-49bc-bb54-f869d76648e1",
   "metadata": {},
   "source": [
    "## IF , ELIF AND  ELSE STATEMENT "
   ]
  },
  {
   "cell_type": "code",
   "execution_count": 4,
   "id": "5d430976-e799-4e72-8c50-dba52c659f74",
   "metadata": {},
   "outputs": [
    {
     "name": "stdout",
     "output_type": "stream",
     "text": [
      "IT'S TRUE\n"
     ]
    }
   ],
   "source": [
    "if True:\n",
    "    print(\"IT'S TRUE\")"
   ]
  },
  {
   "cell_type": "code",
   "execution_count": 6,
   "id": "61352e5f-3bce-487d-aa3b-e093da957ca8",
   "metadata": {},
   "outputs": [],
   "source": [
    "hungry = False"
   ]
  },
  {
   "cell_type": "code",
   "execution_count": 10,
   "id": "249a7ef3-0b3f-4f14-9bb2-f85fe3db502b",
   "metadata": {},
   "outputs": [
    {
     "name": "stdout",
     "output_type": "stream",
     "text": [
      "I'm not hungry\n"
     ]
    }
   ],
   "source": [
    "if(hungry):\n",
    "    print('feed me')\n",
    "else:\n",
    "    print(\"I'm not hungry\")"
   ]
  },
  {
   "cell_type": "code",
   "execution_count": 12,
   "id": "d16dbd4e-631c-4d07-880c-cb73bbe056d5",
   "metadata": {},
   "outputs": [],
   "source": [
    "hungry = True"
   ]
  },
  {
   "cell_type": "code",
   "execution_count": 14,
   "id": "50feb0f3-7bb3-4237-bf7a-e7cf8b363a89",
   "metadata": {},
   "outputs": [
    {
     "name": "stdout",
     "output_type": "stream",
     "text": [
      "feed me\n"
     ]
    }
   ],
   "source": [
    "if(hungry):\n",
    "    print('feed me')\n",
    "else:\n",
    "    print(\"I'm not hungry\")"
   ]
  },
  {
   "cell_type": "code",
   "execution_count": 30,
   "id": "1b42b461-9cea-4f86-84de-370dd2b3e386",
   "metadata": {},
   "outputs": [
    {
     "name": "stdout",
     "output_type": "stream",
     "text": [
      "Money is cool.\n"
     ]
    }
   ],
   "source": [
    "loc = 'Bank'\n",
    "\n",
    "if loc == 'Auto Shop':\n",
    "    print('Car is cool.')\n",
    "elif loc == 'Bank':\n",
    "    print('Money is cool.')\n",
    "else:\n",
    "    print('I dont know much.')"
   ]
  },
  {
   "cell_type": "code",
   "execution_count": 32,
   "id": "4727cae6-f05e-4835-b2b9-58fd8364ef23",
   "metadata": {},
   "outputs": [
    {
     "name": "stdout",
     "output_type": "stream",
     "text": [
      "Car is cool.\n"
     ]
    }
   ],
   "source": [
    "loc = 'Auto Shop'\n",
    "\n",
    "if loc == 'Auto Shop':\n",
    "    print('Car is cool.')\n",
    "elif loc == 'Bank':\n",
    "    print('Money is cool.')\n",
    "elif loc == 'Store':\n",
    "    print('Welcome to the store.')\n",
    "else:\n",
    "    print('I dont know much.')"
   ]
  },
  {
   "cell_type": "code",
   "execution_count": 34,
   "id": "8b788291-3509-42d5-860a-05b2d40059b1",
   "metadata": {},
   "outputs": [
    {
     "name": "stdout",
     "output_type": "stream",
     "text": [
      "Welcome to the store.\n"
     ]
    }
   ],
   "source": [
    "loc = 'Store'\n",
    "\n",
    "if loc == 'Auto Shop':\n",
    "    print('Car is cool.')\n",
    "elif loc == 'Bank':\n",
    "    print('Money is cool.')\n",
    "elif loc == 'Store':\n",
    "    print('Welcome to the store.')\n",
    "else:\n",
    "    print('I dont know much.')"
   ]
  },
  {
   "cell_type": "code",
   "execution_count": 36,
   "id": "6ec63558-0758-4aa1-bfe6-dd6332548eb0",
   "metadata": {},
   "outputs": [
    {
     "name": "stdout",
     "output_type": "stream",
     "text": [
      "I dont know much.\n"
     ]
    }
   ],
   "source": [
    "loc = 'Game'\n",
    "\n",
    "if loc == 'Auto Shop':\n",
    "    print('Car is cool.')\n",
    "elif loc == 'Bank':\n",
    "    print('Money is cool.')\n",
    "elif loc == 'Store':\n",
    "    print('Welcome to the store.')\n",
    "else:\n",
    "    print('I dont know much.')"
   ]
  },
  {
   "cell_type": "code",
   "execution_count": 38,
   "id": "01f30bc9-fb8e-441c-80b3-95c8b8d6ca8a",
   "metadata": {},
   "outputs": [],
   "source": [
    "name ='Sammy'\n"
   ]
  },
  {
   "cell_type": "code",
   "execution_count": 44,
   "id": "a24af54c-f14b-4917-b60d-2e16e32d9944",
   "metadata": {},
   "outputs": [
    {
     "name": "stdout",
     "output_type": "stream",
     "text": [
      "Hello Sammy\n"
     ]
    }
   ],
   "source": [
    "if name=='Frankie':\n",
    "    print('Hello Frankie')\n",
    "elif name=='Sammy':\n",
    "    print('Hello Sammy')\n",
    "else:\n",
    "    print('What is your name?')"
   ]
  },
  {
   "cell_type": "code",
   "execution_count": 46,
   "id": "a0c7fe33-7665-4339-9d6c-a8488de590d0",
   "metadata": {},
   "outputs": [
    {
     "name": "stdout",
     "output_type": "stream",
     "text": [
      "Hello Frankie\n"
     ]
    }
   ],
   "source": [
    "name ='Frankie'\n",
    "\n",
    "if name=='Frankie':\n",
    "    print('Hello Frankie')\n",
    "elif name=='Sammy':\n",
    "    print('Hello Sammy')\n",
    "else:\n",
    "    print('What is your name?')"
   ]
  },
  {
   "cell_type": "code",
   "execution_count": 48,
   "id": "418bd7f0-f2e7-42c5-b607-89ce5ae808d6",
   "metadata": {},
   "outputs": [
    {
     "name": "stdout",
     "output_type": "stream",
     "text": [
      "What is your name?\n"
     ]
    }
   ],
   "source": [
    "name ='Jose'\n",
    "\n",
    "if name=='Frankie':\n",
    "    print('Hello Frankie')\n",
    "elif name=='Sammy':\n",
    "    print('Hello Sammy')\n",
    "else:\n",
    "    print('What is your name?')"
   ]
  },
  {
   "cell_type": "markdown",
   "id": "49f95490-14cc-45b7-805e-afad459d5f7f",
   "metadata": {},
   "source": [
    "## For Loop"
   ]
  },
  {
   "cell_type": "code",
   "execution_count": 53,
   "id": "67b91c52-5bc8-4c4e-8f93-4c4b6d3db9f7",
   "metadata": {},
   "outputs": [],
   "source": [
    "mylist= [1,2,3,4,5,6,7,8,9,10]"
   ]
  },
  {
   "cell_type": "code",
   "execution_count": 57,
   "id": "60d6ca6c-fbf4-48b9-a860-c5514b528ece",
   "metadata": {},
   "outputs": [
    {
     "name": "stdout",
     "output_type": "stream",
     "text": [
      "1\n",
      "2\n",
      "3\n",
      "4\n",
      "5\n",
      "6\n",
      "7\n",
      "8\n",
      "9\n",
      "10\n"
     ]
    }
   ],
   "source": [
    "for num in mylist:\n",
    "    print(num)"
   ]
  },
  {
   "cell_type": "code",
   "execution_count": 63,
   "id": "fd12664f-7f88-435b-bf47-9a3d3edcc247",
   "metadata": {},
   "outputs": [
    {
     "name": "stdout",
     "output_type": "stream",
     "text": [
      "hello\n",
      "hello\n",
      "hello\n",
      "hello\n",
      "hello\n",
      "hello\n",
      "hello\n",
      "hello\n",
      "hello\n",
      "hello\n"
     ]
    }
   ],
   "source": [
    "for num in mylist:\n",
    "    print('hello')"
   ]
  },
  {
   "cell_type": "code",
   "execution_count": 65,
   "id": "c4524697-8cc1-4b91-a545-ff5b16ed0516",
   "metadata": {},
   "outputs": [
    {
     "name": "stdout",
     "output_type": "stream",
     "text": [
      "2\n",
      "4\n",
      "6\n",
      "8\n",
      "10\n"
     ]
    }
   ],
   "source": [
    "for num in mylist:\n",
    "    #check for even\n",
    "    if num%2 == 0:\n",
    "        print(num)"
   ]
  },
  {
   "cell_type": "code",
   "execution_count": 69,
   "id": "c835ecba-97ff-4d8a-b983-784270774057",
   "metadata": {},
   "outputs": [
    {
     "name": "stdout",
     "output_type": "stream",
     "text": [
      "ODD Number: 1\n",
      "2\n",
      "ODD Number: 3\n",
      "4\n",
      "ODD Number: 5\n",
      "6\n",
      "ODD Number: 7\n",
      "8\n",
      "ODD Number: 9\n",
      "10\n"
     ]
    }
   ],
   "source": [
    "for num in mylist:\n",
    "    #check for even\n",
    "    if num%2 == 0:\n",
    "        print(num)\n",
    "    else:\n",
    "        print(f'ODD Number: {num}')"
   ]
  },
  {
   "cell_type": "code",
   "execution_count": 79,
   "id": "ad9cebf5-af25-48f2-8146-e62c04c1220f",
   "metadata": {},
   "outputs": [
    {
     "name": "stdout",
     "output_type": "stream",
     "text": [
      "55\n"
     ]
    }
   ],
   "source": [
    "list_sum  = 0\n",
    "for num in mylist:\n",
    "    list_sum = list_sum + num\n",
    "\n",
    "print(list_sum)"
   ]
  },
  {
   "cell_type": "code",
   "execution_count": 83,
   "id": "129e43ff-0260-4849-9717-f909a193bcee",
   "metadata": {},
   "outputs": [
    {
     "name": "stdout",
     "output_type": "stream",
     "text": [
      "H\n",
      "e\n",
      "l\n",
      "l\n",
      "o\n",
      " \n",
      "W\n",
      "o\n",
      "r\n",
      "l\n",
      "d\n"
     ]
    }
   ],
   "source": [
    "mystring = 'Hello World'\n",
    "\n",
    "for letter in mystring:\n",
    "    print(letter)"
   ]
  },
  {
   "cell_type": "code",
   "execution_count": 85,
   "id": "eb2770fc-371e-48b9-80f6-6444d64ca6df",
   "metadata": {},
   "outputs": [
    {
     "name": "stdout",
     "output_type": "stream",
     "text": [
      "1\n",
      "2\n",
      "3\n"
     ]
    }
   ],
   "source": [
    "tup = (1,2,3)\n",
    "\n",
    "for item in tup:\n",
    "    print(item)"
   ]
  },
  {
   "cell_type": "code",
   "execution_count": 87,
   "id": "c229e8de-d852-4dea-a0b4-9d30cbfbe511",
   "metadata": {},
   "outputs": [],
   "source": [
    "mylist =[(1,2) ,(3,4) , (5,6), (7,8)]"
   ]
  },
  {
   "cell_type": "code",
   "execution_count": 89,
   "id": "b2292b23-118b-49a4-9efc-825b3baf61eb",
   "metadata": {},
   "outputs": [
    {
     "data": {
      "text/plain": [
       "4"
      ]
     },
     "execution_count": 89,
     "metadata": {},
     "output_type": "execute_result"
    }
   ],
   "source": [
    "len(mylist)"
   ]
  },
  {
   "cell_type": "code",
   "execution_count": 91,
   "id": "93810da9-4e8f-4e07-bdd4-db4634870c16",
   "metadata": {},
   "outputs": [
    {
     "name": "stdout",
     "output_type": "stream",
     "text": [
      "(1, 2)\n",
      "(3, 4)\n",
      "(5, 6)\n",
      "(7, 8)\n"
     ]
    }
   ],
   "source": [
    "for item in mylist:\n",
    "    print(item)"
   ]
  },
  {
   "cell_type": "code",
   "execution_count": 93,
   "id": "9a787a82-8751-4da2-ada7-6acf5f0e58ea",
   "metadata": {},
   "outputs": [
    {
     "name": "stdout",
     "output_type": "stream",
     "text": [
      "1\n",
      "2\n",
      "3\n",
      "4\n",
      "5\n",
      "6\n",
      "7\n",
      "8\n"
     ]
    }
   ],
   "source": [
    "for (a,b) in mylist:\n",
    "    print(a)\n",
    "    print(b)"
   ]
  },
  {
   "cell_type": "code",
   "execution_count": 95,
   "id": "5d0e2a88-0a3f-4786-8745-952b0b0c9d8f",
   "metadata": {},
   "outputs": [],
   "source": [
    "mylist =[(1,2,3) ,(3,4,5) , (5,6,7), (7,8,9)]"
   ]
  },
  {
   "cell_type": "code",
   "execution_count": 97,
   "id": "fc476d2e-be43-4fba-b849-c770a84985d5",
   "metadata": {},
   "outputs": [
    {
     "name": "stdout",
     "output_type": "stream",
     "text": [
      "3\n",
      "5\n",
      "7\n",
      "9\n"
     ]
    }
   ],
   "source": [
    "for (a,b,c) in mylist:\n",
    "    print(c)"
   ]
  },
  {
   "cell_type": "code",
   "execution_count": 109,
   "id": "456b9529-a6e7-4b68-9606-59cda8cd425d",
   "metadata": {},
   "outputs": [],
   "source": [
    "d= {'k1':1,'k2':2,'k3':3}"
   ]
  },
  {
   "cell_type": "code",
   "execution_count": 119,
   "id": "9ca2846b-3673-4ed1-8f52-87b65da63784",
   "metadata": {},
   "outputs": [
    {
     "name": "stdout",
     "output_type": "stream",
     "text": [
      "k1\n",
      "k2\n",
      "k3\n"
     ]
    }
   ],
   "source": [
    "for item in d:\n",
    "    print(item)"
   ]
  },
  {
   "cell_type": "code",
   "execution_count": 127,
   "id": "4d37c108-ebfa-42fc-90fa-3c42ee00d442",
   "metadata": {},
   "outputs": [
    {
     "name": "stdout",
     "output_type": "stream",
     "text": [
      "1\n",
      "2\n",
      "3\n"
     ]
    }
   ],
   "source": [
    "for value in d.values():\n",
    "    print(value)"
   ]
  },
  {
   "cell_type": "markdown",
   "id": "1bb1daf0-c6c7-4dc2-a9c2-25ab51f446e0",
   "metadata": {},
   "source": [
    "## While "
   ]
  },
  {
   "cell_type": "code",
   "execution_count": 1,
   "id": "112aa1e1-44a8-4ccf-8945-2020149d15b8",
   "metadata": {},
   "outputs": [
    {
     "name": "stdout",
     "output_type": "stream",
     "text": [
      "The current value of x is 0\n",
      "The current value of x is 1\n",
      "The current value of x is 2\n",
      "The current value of x is 3\n",
      "The current value of x is 4\n"
     ]
    }
   ],
   "source": [
    "x = 0\n",
    "\n",
    "while x< 5:\n",
    "    print(f'The current value of x is {x}')\n",
    "    x = x+1"
   ]
  },
  {
   "cell_type": "code",
   "execution_count": 3,
   "id": "205282ea-76d0-4f3c-a4e7-b44d6b830fad",
   "metadata": {},
   "outputs": [
    {
     "name": "stdout",
     "output_type": "stream",
     "text": [
      "The current value of x is 0\n",
      "The current value of x is 1\n",
      "The current value of x is 2\n",
      "The current value of x is 3\n",
      "The current value of x is 4\n",
      "X is not less than 5\n"
     ]
    }
   ],
   "source": [
    "x = 0\n",
    "\n",
    "while x< 5:\n",
    "    print(f'The current value of x is {x}')\n",
    "    x = x+1\n",
    "else:\n",
    "    print(f'X is not less than 5')"
   ]
  },
  {
   "cell_type": "code",
   "execution_count": 5,
   "id": "8b2c0834-9e5f-4343-8e25-3a3c6eac9d2f",
   "metadata": {},
   "outputs": [
    {
     "name": "stdout",
     "output_type": "stream",
     "text": [
      "X is not less than 5\n"
     ]
    }
   ],
   "source": [
    "x = 50\n",
    "\n",
    "while x< 5:\n",
    "    print(f'The current value of x is {x}')\n",
    "    x = x+1\n",
    "else:\n",
    "    print(f'X is not less than 5')"
   ]
  },
  {
   "cell_type": "markdown",
   "id": "40c6f585-c207-4bb6-9837-edfbe8afd0ed",
   "metadata": {},
   "source": [
    " ### BREAK , CONTINUE , PASS"
   ]
  },
  {
   "cell_type": "code",
   "execution_count": 8,
   "id": "6d661aa1-b008-45fe-b8a1-8431f8baa4e3",
   "metadata": {},
   "outputs": [
    {
     "name": "stdout",
     "output_type": "stream",
     "text": [
      "end of the scirpt\n"
     ]
    }
   ],
   "source": [
    "x = [1,2,3]\n",
    "\n",
    "for item in x:\n",
    "    # comment \n",
    "    pass\n",
    "\n",
    "print(\"end of the scirpt\")\n",
    "\n"
   ]
  },
  {
   "cell_type": "code",
   "execution_count": 10,
   "id": "e5c3a8bb-931b-4d53-93ab-44a9c25d72c8",
   "metadata": {},
   "outputs": [],
   "source": [
    "mystring = 'sammy'\n",
    "\n"
   ]
  },
  {
   "cell_type": "code",
   "execution_count": 18,
   "id": "036b7764-7fb7-4dd0-8045-3715810777f1",
   "metadata": {},
   "outputs": [
    {
     "name": "stdout",
     "output_type": "stream",
     "text": [
      "s\n",
      "a\n",
      "m\n",
      "m\n",
      "y\n"
     ]
    }
   ],
   "source": [
    "for letter in mystring:\n",
    "    print(letter)"
   ]
  },
  {
   "cell_type": "code",
   "execution_count": 20,
   "id": "e5606198-a192-4f26-9747-40a7dcfd7681",
   "metadata": {},
   "outputs": [
    {
     "name": "stdout",
     "output_type": "stream",
     "text": [
      "s\n",
      "m\n",
      "m\n",
      "y\n"
     ]
    }
   ],
   "source": [
    "for letter in mystring:\n",
    "    if letter == 'a':\n",
    "        continue\n",
    "    print(letter)"
   ]
  },
  {
   "cell_type": "code",
   "execution_count": 24,
   "id": "6fe1ed5e-bff0-41b2-9546-514aa4b4bcb5",
   "metadata": {},
   "outputs": [
    {
     "name": "stdout",
     "output_type": "stream",
     "text": [
      "s\n"
     ]
    }
   ],
   "source": [
    "for letter in mystring:\n",
    "    if letter == 'a':\n",
    "        break\n",
    "    print(letter)"
   ]
  },
  {
   "cell_type": "code",
   "execution_count": 28,
   "id": "625b207f-e4b9-4959-9f6e-54c54ecfda6f",
   "metadata": {},
   "outputs": [
    {
     "name": "stdout",
     "output_type": "stream",
     "text": [
      "0\n",
      "1\n"
     ]
    }
   ],
   "source": [
    "x = 0\n",
    "while x< 5:\n",
    "    if x == 2:\n",
    "        break\n",
    "    print(x)\n",
    "    x +=1"
   ]
  },
  {
   "cell_type": "code",
   "execution_count": null,
   "id": "2d987f25-1a38-4f39-b2f9-38428a5d180c",
   "metadata": {},
   "outputs": [],
   "source": []
  }
 ],
 "metadata": {
  "kernelspec": {
   "display_name": "Python 3 (ipykernel)",
   "language": "python",
   "name": "python3"
  },
  "language_info": {
   "codemirror_mode": {
    "name": "ipython",
    "version": 3
   },
   "file_extension": ".py",
   "mimetype": "text/x-python",
   "name": "python",
   "nbconvert_exporter": "python",
   "pygments_lexer": "ipython3",
   "version": "3.12.4"
  }
 },
 "nbformat": 4,
 "nbformat_minor": 5
}

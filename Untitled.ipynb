{
 "cells": [
  {
   "cell_type": "markdown",
   "id": "8d65fd6c-afe3-49a5-a41f-21541c38cfae",
   "metadata": {},
   "source": [
    "## Comparision Operators"
   ]
  },
  {
   "cell_type": "markdown",
   "id": "3889f399-7def-4540-bb71-792c8580569d",
   "metadata": {},
   "source": [
    "####(a==b) not true "
   ]
  },
  {
   "cell_type": "markdown",
   "id": "3dd0e60a-0860-48d4-9349-446cf2427e69",
   "metadata": {},
   "source": [
    "####(a!=b) is true"
   ]
  },
  {
   "cell_type": "markdown",
   "id": "fd748fc1-4553-47e8-b2e6-916185869271",
   "metadata": {},
   "source": [
    "####(a>b) is not true"
   ]
  },
  {
   "cell_type": "markdown",
   "id": "c7ca68bd-5936-4040-9eb8-336c84d1d474",
   "metadata": {},
   "source": [
    "#### (a<b) is true"
   ]
  },
  {
   "cell_type": "markdown",
   "id": "af38ce96-a441-4bae-aaef-1475ea53215c",
   "metadata": {},
   "source": [
    "####(a>=b) is not true"
   ]
  },
  {
   "cell_type": "markdown",
   "id": "928802c0-bffb-40cd-bd97-53415de6b8cb",
   "metadata": {},
   "source": [
    "####(a<=b) is true"
   ]
  },
  {
   "cell_type": "code",
   "execution_count": null,
   "id": "d7b8452c-3511-4a57-82d3-0c53db08d4fd",
   "metadata": {},
   "outputs": [],
   "source": []
  }
 ],
 "metadata": {
  "kernelspec": {
   "display_name": "Python 3 (ipykernel)",
   "language": "python",
   "name": "python3"
  },
  "language_info": {
   "codemirror_mode": {
    "name": "ipython",
    "version": 3
   },
   "file_extension": ".py",
   "mimetype": "text/x-python",
   "name": "python",
   "nbconvert_exporter": "python",
   "pygments_lexer": "ipython3",
   "version": "3.12.4"
  }
 },
 "nbformat": 4,
 "nbformat_minor": 5
}

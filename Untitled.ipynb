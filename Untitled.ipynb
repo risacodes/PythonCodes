{
 "cells": [
  {
   "cell_type": "markdown",
   "id": "2196b41b-fa91-49bc-bb54-f869d76648e1",
   "metadata": {},
   "source": [
    "## IF , ELIF AND  ELSE STATEMENT "
   ]
  },
  {
   "cell_type": "code",
   "execution_count": 4,
   "id": "5d430976-e799-4e72-8c50-dba52c659f74",
   "metadata": {},
   "outputs": [
    {
     "name": "stdout",
     "output_type": "stream",
     "text": [
      "IT'S TRUE\n"
     ]
    }
   ],
   "source": [
    "if True:\n",
    "    print(\"IT'S TRUE\")"
   ]
  },
  {
   "cell_type": "code",
   "execution_count": 6,
   "id": "61352e5f-3bce-487d-aa3b-e093da957ca8",
   "metadata": {},
   "outputs": [],
   "source": [
    "hungry = False"
   ]
  },
  {
   "cell_type": "code",
   "execution_count": 10,
   "id": "249a7ef3-0b3f-4f14-9bb2-f85fe3db502b",
   "metadata": {},
   "outputs": [
    {
     "name": "stdout",
     "output_type": "stream",
     "text": [
      "I'm not hungry\n"
     ]
    }
   ],
   "source": [
    "if(hungry):\n",
    "    print('feed me')\n",
    "else:\n",
    "    print(\"I'm not hungry\")"
   ]
  },
  {
   "cell_type": "code",
   "execution_count": 12,
   "id": "d16dbd4e-631c-4d07-880c-cb73bbe056d5",
   "metadata": {},
   "outputs": [],
   "source": [
    "hungry = True"
   ]
  },
  {
   "cell_type": "code",
   "execution_count": 14,
   "id": "50feb0f3-7bb3-4237-bf7a-e7cf8b363a89",
   "metadata": {},
   "outputs": [
    {
     "name": "stdout",
     "output_type": "stream",
     "text": [
      "feed me\n"
     ]
    }
   ],
   "source": [
    "if(hungry):\n",
    "    print('feed me')\n",
    "else:\n",
    "    print(\"I'm not hungry\")"
   ]
  },
  {
   "cell_type": "code",
   "execution_count": 30,
   "id": "1b42b461-9cea-4f86-84de-370dd2b3e386",
   "metadata": {},
   "outputs": [
    {
     "name": "stdout",
     "output_type": "stream",
     "text": [
      "Money is cool.\n"
     ]
    }
   ],
   "source": [
    "loc = 'Bank'\n",
    "\n",
    "if loc == 'Auto Shop':\n",
    "    print('Car is cool.')\n",
    "elif loc == 'Bank':\n",
    "    print('Money is cool.')\n",
    "else:\n",
    "    print('I dont know much.')"
   ]
  },
  {
   "cell_type": "code",
   "execution_count": 32,
   "id": "4727cae6-f05e-4835-b2b9-58fd8364ef23",
   "metadata": {},
   "outputs": [
    {
     "name": "stdout",
     "output_type": "stream",
     "text": [
      "Car is cool.\n"
     ]
    }
   ],
   "source": [
    "loc = 'Auto Shop'\n",
    "\n",
    "if loc == 'Auto Shop':\n",
    "    print('Car is cool.')\n",
    "elif loc == 'Bank':\n",
    "    print('Money is cool.')\n",
    "elif loc == 'Store':\n",
    "    print('Welcome to the store.')\n",
    "else:\n",
    "    print('I dont know much.')"
   ]
  },
  {
   "cell_type": "code",
   "execution_count": 34,
   "id": "8b788291-3509-42d5-860a-05b2d40059b1",
   "metadata": {},
   "outputs": [
    {
     "name": "stdout",
     "output_type": "stream",
     "text": [
      "Welcome to the store.\n"
     ]
    }
   ],
   "source": [
    "loc = 'Store'\n",
    "\n",
    "if loc == 'Auto Shop':\n",
    "    print('Car is cool.')\n",
    "elif loc == 'Bank':\n",
    "    print('Money is cool.')\n",
    "elif loc == 'Store':\n",
    "    print('Welcome to the store.')\n",
    "else:\n",
    "    print('I dont know much.')"
   ]
  },
  {
   "cell_type": "code",
   "execution_count": 36,
   "id": "6ec63558-0758-4aa1-bfe6-dd6332548eb0",
   "metadata": {},
   "outputs": [
    {
     "name": "stdout",
     "output_type": "stream",
     "text": [
      "I dont know much.\n"
     ]
    }
   ],
   "source": [
    "loc = 'Game'\n",
    "\n",
    "if loc == 'Auto Shop':\n",
    "    print('Car is cool.')\n",
    "elif loc == 'Bank':\n",
    "    print('Money is cool.')\n",
    "elif loc == 'Store':\n",
    "    print('Welcome to the store.')\n",
    "else:\n",
    "    print('I dont know much.')"
   ]
  },
  {
   "cell_type": "code",
   "execution_count": 38,
   "id": "01f30bc9-fb8e-441c-80b3-95c8b8d6ca8a",
   "metadata": {},
   "outputs": [],
   "source": [
    "name ='Sammy'\n"
   ]
  },
  {
   "cell_type": "code",
   "execution_count": 44,
   "id": "a24af54c-f14b-4917-b60d-2e16e32d9944",
   "metadata": {},
   "outputs": [
    {
     "name": "stdout",
     "output_type": "stream",
     "text": [
      "Hello Sammy\n"
     ]
    }
   ],
   "source": [
    "if name=='Frankie':\n",
    "    print('Hello Frankie')\n",
    "elif name=='Sammy':\n",
    "    print('Hello Sammy')\n",
    "else:\n",
    "    print('What is your name?')"
   ]
  },
  {
   "cell_type": "code",
   "execution_count": 46,
   "id": "a0c7fe33-7665-4339-9d6c-a8488de590d0",
   "metadata": {},
   "outputs": [
    {
     "name": "stdout",
     "output_type": "stream",
     "text": [
      "Hello Frankie\n"
     ]
    }
   ],
   "source": [
    "name ='Frankie'\n",
    "\n",
    "if name=='Frankie':\n",
    "    print('Hello Frankie')\n",
    "elif name=='Sammy':\n",
    "    print('Hello Sammy')\n",
    "else:\n",
    "    print('What is your name?')"
   ]
  },
  {
   "cell_type": "code",
   "execution_count": 48,
   "id": "418bd7f0-f2e7-42c5-b607-89ce5ae808d6",
   "metadata": {},
   "outputs": [
    {
     "name": "stdout",
     "output_type": "stream",
     "text": [
      "What is your name?\n"
     ]
    }
   ],
   "source": [
    "name ='Jose'\n",
    "\n",
    "if name=='Frankie':\n",
    "    print('Hello Frankie')\n",
    "elif name=='Sammy':\n",
    "    print('Hello Sammy')\n",
    "else:\n",
    "    print('What is your name?')"
   ]
  },
  {
   "cell_type": "code",
   "execution_count": null,
   "id": "1bf05c66-2d20-49b0-bd7f-3cdb1f03d112",
   "metadata": {},
   "outputs": [],
   "source": []
  }
 ],
 "metadata": {
  "kernelspec": {
   "display_name": "Python 3 (ipykernel)",
   "language": "python",
   "name": "python3"
  },
  "language_info": {
   "codemirror_mode": {
    "name": "ipython",
    "version": 3
   },
   "file_extension": ".py",
   "mimetype": "text/x-python",
   "name": "python",
   "nbconvert_exporter": "python",
   "pygments_lexer": "ipython3",
   "version": "3.12.4"
  }
 },
 "nbformat": 4,
 "nbformat_minor": 5
}
